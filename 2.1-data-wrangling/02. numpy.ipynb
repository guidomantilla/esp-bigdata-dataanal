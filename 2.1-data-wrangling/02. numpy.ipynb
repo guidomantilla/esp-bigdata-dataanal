{
 "nbformat": 4,
 "nbformat_minor": 0,
 "metadata": {
  "colab": {
   "provenance": []
  },
  "kernelspec": {
   "name": "python3",
   "display_name": "Python 3"
  },
  "language_info": {
   "name": "python"
  }
 },
 "cells": [
  {
   "cell_type": "code",
   "execution_count": null,
   "metadata": {
    "id": "PSpvbZ6pQZ0U"
   },
   "outputs": [],
   "source": []
  },
  {
   "cell_type": "code",
   "source": [
    "Profesor: Alvaro Javier Cangrejo"
   ],
   "metadata": {
    "id": "DVEDg37eQlHI"
   },
   "execution_count": null,
   "outputs": []
  },
  {
   "cell_type": "markdown",
   "source": [
    "# NumPy ndarray\n",
    "- NumPy (__Num__ erical __Py__ thon) es la de facto librería estándar para análisis numérico en Python\n",
    "- Estructura de datos multidimensional eficiente (escrita en C): ndarray\n",
    "- Colección de funciones para álgebra lineal, estadística descriptiva\n",
    "- Ayuda al procesamiento de datos (np.where)"
   ],
   "metadata": {
    "id": "D_zvdzbCQkKc"
   }
  },
  {
   "cell_type": "code",
   "source": [
    "# importar libreria\n",
    "import numpy as np"
   ],
   "metadata": {
    "id": "5OtqC7JZQxvq"
   },
   "execution_count": null,
   "outputs": []
  },
  {
   "cell_type": "markdown",
   "source": [
    "## Formas de crear ndarrays\n",
    "\n",
    "* un ndarrays(N-dimensional array) es similar a una lista o matriz."
   ],
   "metadata": {
    "id": "TS7ut2y3Q9ZN"
   }
  },
  {
   "cell_type": "code",
   "source": [
    "array = np.array([[2, 71, 0, 34], [2, 171, -35, 34]])  # 2D\n",
    "print(array)"
   ],
   "metadata": {
    "colab": {
     "base_uri": "https://localhost:8080/"
    },
    "id": "om0weLhJQ-Iy",
    "outputId": "9eb1c62b-9fdc-4874-dea1-09ad1dc0a2f2"
   },
   "execution_count": null,
   "outputs": [
    {
     "output_type": "stream",
     "name": "stdout",
     "text": [
      "[[  2  71   0  34]\n",
      " [  2 171 -35  34]]\n"
     ]
    }
   ]
  },
  {
   "cell_type": "code",
   "source": [
    "shopping_list = [[\"onions\", \"carrots\", \"celery\"], [\"apples\", \"oranges\", \"grapes\"]]  # 2D\n",
    "array = np.array(shopping_list)  # convertir una lista en una ndarray\n",
    "print(array)\n",
    "print(type(array))"
   ],
   "metadata": {
    "id": "WNfF7-v9RJoo",
    "colab": {
     "base_uri": "https://localhost:8080/"
    },
    "outputId": "af0c70b5-3aa9-44ca-9815-2f3cc9e40f4f"
   },
   "execution_count": null,
   "outputs": [
    {
     "output_type": "stream",
     "name": "stdout",
     "text": [
      "[['onions' 'carrots' 'celery']\n",
      " ['apples' 'oranges' 'grapes']]\n",
      "<class 'numpy.ndarray'>\n"
     ]
    }
   ]
  },
  {
   "cell_type": "code",
   "source": [
    "print(np.array([100, 10, 1]))  # array a partir de una lista\n",
    "print(np.arange(2, 10, 2.1))  # array a partir de una secuencia(range) 1D"
   ],
   "metadata": {
    "id": "rpZlMDZsRSGI",
    "colab": {
     "base_uri": "https://localhost:8080/"
    },
    "outputId": "b7c768a7-89c4-4d2f-bf62-dec4e8d66b25"
   },
   "execution_count": null,
   "outputs": [
    {
     "output_type": "stream",
     "name": "stdout",
     "text": [
      "[100  10   1]\n",
      "[2.  4.1 6.2 8.3]\n"
     ]
    }
   ]
  },
  {
   "cell_type": "code",
   "source": [
    "# Generar arrays con valores fijos\n",
    "print(np.zeros(2))  # 1D\n",
    "print(np.ones((2, 2)))  # matrix 2x2\n",
    "print(\n",
    "    np.empty((2, 2, 2))\n",
    ")  # matrix 2x2x2 (dos bloque 2x2), no inicializados: es decir valores aleatorios residuales en memoria\n",
    "print(np.full((5, 2), 3))  # matrix 5x2 (dimensión) --> 3 valor que compone la matriz\n",
    "print(np.eye(3))  # matrix identity"
   ],
   "metadata": {
    "id": "bxVurV3gRUx6",
    "colab": {
     "base_uri": "https://localhost:8080/"
    },
    "outputId": "31a25099-59ce-4fed-c85f-c2b47979595e"
   },
   "execution_count": null,
   "outputs": [
    {
     "output_type": "stream",
     "name": "stdout",
     "text": [
      "[0. 0.]\n",
      "[[1. 1.]\n",
      " [1. 1.]]\n",
      "[[[9.88e-324 3.51e-322]\n",
      "  [0.00e+000 1.68e-322]]\n",
      "\n",
      " [[9.88e-324 8.45e-322]\n",
      "  [      nan 1.68e-322]]]\n",
      "[[3 3]\n",
      " [3 3]\n",
      " [3 3]\n",
      " [3 3]\n",
      " [3 3]]\n",
      "[[1. 0. 0.]\n",
      " [0. 1. 0.]\n",
      " [0. 0. 1.]]\n"
     ]
    }
   ]
  },
  {
   "cell_type": "markdown",
   "source": [
    "## Obtener información sobre ndarray"
   ],
   "metadata": {
    "id": "ykQdHObw2NGb"
   }
  },
  {
   "cell_type": "code",
   "source": [
    "my_ndarray = np.array([2, 71, 0, 34])\n",
    "print(my_ndarray)"
   ],
   "metadata": {
    "colab": {
     "base_uri": "https://localhost:8080/"
    },
    "id": "QIWCxyj82NoX",
    "outputId": "8ba77632-ed33-49f6-fd6f-b30de5262ad1"
   },
   "execution_count": null,
   "outputs": [
    {
     "output_type": "stream",
     "name": "stdout",
     "text": [
      "[ 2 71  0 34]\n"
     ]
    }
   ]
  },
  {
   "cell_type": "code",
   "source": [
    "print(my_ndarray.argmax())  # índice del valor más alto\n",
    "print(np.amax(my_ndarray))\n",
    "\n",
    "print(my_ndarray.argmin())  # índice del valor más bajo\n",
    "print(np.amin(my_ndarray))\n",
    "\n",
    "print(my_ndarray.nonzero())  # retorna los índices de los elementos distintos a 0"
   ],
   "metadata": {
    "colab": {
     "base_uri": "https://localhost:8080/"
    },
    "id": "nwxu-8WJ2Nq0",
    "outputId": "aa8e727d-d2ae-409c-e73f-ec82e897777d"
   },
   "execution_count": null,
   "outputs": [
    {
     "output_type": "stream",
     "name": "stdout",
     "text": [
      "1\n",
      "71\n",
      "2\n",
      "0\n",
      "(array([0, 1, 3]),)\n"
     ]
    }
   ]
  },
  {
   "cell_type": "code",
   "source": [
    "my_ndarray = np.full(\n",
    "    (5, 2, 2), -3\n",
    ")  # matrix 5x2 (5 bloques, 2 filas por bloques y 2 columnas por fila) array tridimensional\n",
    "print(my_ndarray)\n",
    "\n",
    "print(my_ndarray.size)  # número de elementos\n",
    "print(my_ndarray.shape)  # dimensiones\n",
    "print(my_ndarray.ndim)  # número de dimensiones"
   ],
   "metadata": {
    "colab": {
     "base_uri": "https://localhost:8080/"
    },
    "id": "aoY9t_Fp2Nzt",
    "outputId": "f15ba4c8-e34f-4039-b8f3-f7edd2e49d56"
   },
   "execution_count": null,
   "outputs": [
    {
     "output_type": "stream",
     "name": "stdout",
     "text": [
      "[[[-3 -3]\n",
      "  [-3 -3]]\n",
      "\n",
      " [[-3 -3]\n",
      "  [-3 -3]]\n",
      "\n",
      " [[-3 -3]\n",
      "  [-3 -3]]\n",
      "\n",
      " [[-3 -3]\n",
      "  [-3 -3]]\n",
      "\n",
      " [[-3 -3]\n",
      "  [-3 -3]]]\n",
      "20\n",
      "(5, 2, 2)\n",
      "3\n"
     ]
    }
   ]
  },
  {
   "cell_type": "code",
   "source": [
    "my_ndarray = np.array([2, 71, 0, 34])  ## array (1D)\n",
    "\n",
    "print(my_ndarray.size)  # número de elementos\n",
    "print(my_ndarray.shape)  # dimensiones\n",
    "print(my_ndarray.ndim)  # número de dimensiones"
   ],
   "metadata": {
    "colab": {
     "base_uri": "https://localhost:8080/"
    },
    "id": "JNE0HhJF2N2K",
    "outputId": "e7b13f51-2993-437f-a594-477c46c410cf"
   },
   "execution_count": null,
   "outputs": [
    {
     "output_type": "stream",
     "name": "stdout",
     "text": [
      "4\n",
      "(4,)\n",
      "1\n"
     ]
    }
   ]
  },
  {
   "cell_type": "markdown",
   "source": [
    "#### Redimensionar los datos"
   ],
   "metadata": {
    "id": "MoKOGoKn3bvG"
   }
  },
  {
   "cell_type": "code",
   "source": [
    "my_ndarray = np.array(\n",
    "    [[10, 71, 21, 19, 213, 412, 111, 98]]\n",
    ")  # matrix 1x8 como es una matrix lleva [[ ]] (2D), un array simple []\n",
    "print(my_ndarray)\n",
    "print(my_ndarray.shape)\n",
    "print(my_ndarray.ndim)"
   ],
   "metadata": {
    "colab": {
     "base_uri": "https://localhost:8080/"
    },
    "id": "-l11rfUn3caN",
    "outputId": "78397d61-f2c2-45a7-ce88-370c955da811"
   },
   "execution_count": null,
   "outputs": [
    {
     "output_type": "stream",
     "name": "stdout",
     "text": [
      "[[ 10  71  21  19 213 412 111  98]]\n",
      "(1, 8)\n",
      "2\n"
     ]
    }
   ]
  },
  {
   "cell_type": "code",
   "source": [
    "new_dims = my_ndarray.reshape(2, 4)  # cambiar las dimensiones a 2x4\n",
    "print(new_dims)"
   ],
   "metadata": {
    "colab": {
     "base_uri": "https://localhost:8080/"
    },
    "id": "iOMhnZzA3cmU",
    "outputId": "f87a8fc6-64ab-40ce-f426-ea5aa563ff13"
   },
   "execution_count": null,
   "outputs": [
    {
     "output_type": "stream",
     "name": "stdout",
     "text": [
      "[[ 10  71  21  19]\n",
      " [213 412 111  98]]\n"
     ]
    }
   ]
  },
  {
   "cell_type": "code",
   "source": [
    "new_dims = my_ndarray.reshape(4, 2)  # cambiar las dimensiones a 4x2\n",
    "print(new_dims)"
   ],
   "metadata": {
    "colab": {
     "base_uri": "https://localhost:8080/"
    },
    "id": "uBPB79dA4dcc",
    "outputId": "28ffa3aa-2d7a-420c-985a-305f5f9208d2"
   },
   "execution_count": null,
   "outputs": [
    {
     "output_type": "stream",
     "name": "stdout",
     "text": [
      "[[ 10  71]\n",
      " [ 21  19]\n",
      " [213 412]\n",
      " [111  98]]\n"
     ]
    }
   ]
  },
  {
   "cell_type": "code",
   "source": [
    "# reducir a 1D\n",
    "new_dims = np.arange(9).reshape(3, 3)\n",
    "print(new_dims)\n",
    "print(\n",
    "    new_dims.flatten()\n",
    ")  # El método .flatten() convierte un array de cualquier número de dimensiones en un vector unidimensional (1D)."
   ],
   "metadata": {
    "colab": {
     "base_uri": "https://localhost:8080/"
    },
    "id": "9KA5yXNA4oob",
    "outputId": "f26dcb8f-3c85-4f66-8dba-b43a018f2cf9"
   },
   "execution_count": null,
   "outputs": [
    {
     "output_type": "stream",
     "name": "stdout",
     "text": [
      "[[0 1 2]\n",
      " [3 4 5]\n",
      " [6 7 8]]\n",
      "[0 1 2 3 4 5 6 7 8]\n"
     ]
    }
   ]
  },
  {
   "cell_type": "markdown",
   "source": [
    "## Manipulación de ndarrays"
   ],
   "metadata": {
    "id": "0cvnXbl55HXE"
   }
  },
  {
   "cell_type": "code",
   "source": [
    "# Cambiar ejes\n",
    "new_dims = np.arange(16).reshape(8, 2)\n",
    "print(new_dims)\n",
    "print(new_dims.swapaxes(0, 1))  # Intercambia filas (axis=0) con columnas (axis=1)"
   ],
   "metadata": {
    "colab": {
     "base_uri": "https://localhost:8080/"
    },
    "id": "HPChNG9f5IFD",
    "outputId": "88aa6534-a0bf-469b-aac7-b646e0a33d67"
   },
   "execution_count": null,
   "outputs": [
    {
     "output_type": "stream",
     "name": "stdout",
     "text": [
      "[[ 0  1]\n",
      " [ 2  3]\n",
      " [ 4  5]\n",
      " [ 6  7]\n",
      " [ 8  9]\n",
      " [10 11]\n",
      " [12 13]\n",
      " [14 15]]\n",
      "[[ 0  2  4  6  8 10 12 14]\n",
      " [ 1  3  5  7  9 11 13 15]]\n"
     ]
    }
   ]
  },
  {
   "cell_type": "code",
   "source": [
    "# Flip\n",
    "new_dims = np.arange(16).reshape(4, 4)\n",
    "print(new_dims)\n",
    "print(np.flip(new_dims))  # np.flip(new_dims): Invierte la matriz new_dims\n",
    "# a lo largo de todos los ejes, resultando en una matriz donde los elementos están en el orden inverso."
   ],
   "metadata": {
    "colab": {
     "base_uri": "https://localhost:8080/"
    },
    "id": "E7s2J-cU5IH-",
    "outputId": "ad046433-335f-4061-ca23-3b73a185d051"
   },
   "execution_count": null,
   "outputs": [
    {
     "output_type": "stream",
     "name": "stdout",
     "text": [
      "[[ 0  1  2  3]\n",
      " [ 4  5  6  7]\n",
      " [ 8  9 10 11]\n",
      " [12 13 14 15]]\n",
      "[[15 14 13 12]\n",
      " [11 10  9  8]\n",
      " [ 7  6  5  4]\n",
      " [ 3  2  1  0]]\n"
     ]
    }
   ]
  },
  {
   "cell_type": "code",
   "source": [
    "# ordenar\n",
    "array1 = np.array([10, 2, 9, 17])\n",
    "array1.sort()\n",
    "print(array1)"
   ],
   "metadata": {
    "colab": {
     "base_uri": "https://localhost:8080/"
    },
    "id": "U_N37knw5IK-",
    "outputId": "b369111d-ea11-4c07-81ad-ac4225781806"
   },
   "execution_count": null,
   "outputs": [
    {
     "output_type": "stream",
     "name": "stdout",
     "text": [
      "[ 2  9 10 17]\n"
     ]
    }
   ]
  },
  {
   "cell_type": "code",
   "source": [
    "# Juntar dos arrays\n",
    "a1 = [0, 0, 0, 0, 0, 0]\n",
    "a2 = [1, 1, 1, 1, 1, 1]\n",
    "\n",
    "print(np.hstack((a1, a2)))  # una al lado de la otra\n",
    "print(np.hstack((a1, a2)).shape)\n",
    "\n",
    "print(np.vstack((a1, a2)))  # una encima de la otra\n",
    "print(np.vstack((a1, a2)).shape)"
   ],
   "metadata": {
    "colab": {
     "base_uri": "https://localhost:8080/"
    },
    "id": "1O_bsXYi6Hsf",
    "outputId": "7d61ed0d-6f27-4f3c-cca9-4cb94c848839"
   },
   "execution_count": null,
   "outputs": [
    {
     "output_type": "stream",
     "name": "stdout",
     "text": [
      "[0 0 0 0 0 0 1 1 1 1 1 1]\n",
      "(12,)\n",
      "[[0 0 0 0 0 0]\n",
      " [1 1 1 1 1 1]]\n",
      "(2, 6)\n"
     ]
    }
   ]
  },
  {
   "cell_type": "markdown",
   "source": [
    "# Funciones matemáticas\n",
    "- Aplicar operaciones entre escalares y arrays o entre arrays"
   ],
   "metadata": {
    "id": "Ew2hKqflR7eC"
   }
  },
  {
   "cell_type": "code",
   "source": [
    "# listas y escalares\n",
    "lista = [0, 1, 2, 3]\n",
    "lista *= 3\n",
    "print(lista)\n",
    "\n",
    "lista += [1]  # += con listas extiende la lista original, como si usaras .extend()\n",
    "print(lista)"
   ],
   "metadata": {
    "id": "45Tddx2vR8GY",
    "colab": {
     "base_uri": "https://localhost:8080/"
    },
    "outputId": "1eebd73c-b886-4db7-b536-62dc0f8f1a2e"
   },
   "execution_count": null,
   "outputs": [
    {
     "output_type": "stream",
     "name": "stdout",
     "text": [
      "[0, 1, 2, 3, 0, 1, 2, 3, 0, 1, 2, 3]\n",
      "[0, 1, 2, 3, 0, 1, 2, 3, 0, 1, 2, 3, 1]\n"
     ]
    }
   ]
  },
  {
   "cell_type": "code",
   "source": [
    "# ndarray hace las operaciones sobre los elementos\n",
    "array = np.ones((4,), dtype=np.int64)\n",
    "print(array)\n",
    "array *= 2\n",
    "print(array)\n",
    "\n",
    "array += 10\n",
    "print(array)"
   ],
   "metadata": {
    "colab": {
     "base_uri": "https://localhost:8080/"
    },
    "id": "RV8uv8f-SKcH",
    "outputId": "e8b56bd2-5657-4dd3-f6b8-4b6251320a4a"
   },
   "execution_count": null,
   "outputs": [
    {
     "output_type": "stream",
     "name": "stdout",
     "text": [
      "[1 1 1 1]\n",
      "[2 2 2 2]\n",
      "[12 12 12 12]\n"
     ]
    }
   ]
  },
  {
   "cell_type": "markdown",
   "source": [
    "## Operadores unarios y binarios\n",
    "\n",
    "| Tipo | Operación | Descripción |\n",
    "|:---------|:-----|:-----|\n",
    "| Unario | *abs* | Valor absoluto de cada elemento |\n",
    "| | *sqrt* | Raíz cuadrada de cada elemento |\n",
    "| | *exp* | e^x, siendo x cad elemento |\n",
    "| | *log, log10, log2* | Logaritmos en distintas bases de cada elemento |\n",
    "| | *sign* | Retorna el signo de cada elemento (-1 para negativo, 0 o 1 para positivo) |\n",
    "| | *ceil* | Redondea cada elemento por arriba |\n",
    "| | *floor* | Redondea cada elemento por abajo |\n",
    "| | *isnan* | Retorna si cada elemento es Nan |\n",
    "| | *cos, sin, tan* | Operaciones trigonométricas en cada elemento |\n",
    "| | *arccos, arcsin, arctan* | Inversas de operaciones trigonométricas en cada elemento |\n",
    "| Binario | *add* | Suma de dos arrays |\n",
    "| | *substract* | Resta de dos arrays |\n",
    "| | *multiply* | Multiplicación de dos arrays |\n",
    "| | *divide* | División de dos arrays |\n",
    "| | *maximum, minimum* | Retorna el valor máximo/mínimo de cada pareja de elementos |\n",
    "| | *equal, not_equal* | Retorna la comparación (igual o no igual) de cada pareja de elementos |\n",
    "| | *greater, greater_equal, less, less_equal* | Retorna la comparación (>, >=, <, <= respectivamente) de cada pareja de elementos |"
   ],
   "metadata": {
    "id": "x7rj0tqcSWbI"
   }
  },
  {
   "cell_type": "code",
   "source": [
    "# ejemplos de operadores\n",
    "array = np.arange(5)\n",
    "np.sqrt(array)"
   ],
   "metadata": {
    "id": "WfM9AYnXSXG-",
    "colab": {
     "base_uri": "https://localhost:8080/"
    },
    "outputId": "33a842ec-fe0a-486c-f648-b8b83d236a7a"
   },
   "execution_count": null,
   "outputs": [
    {
     "output_type": "execute_result",
     "data": {
      "text/plain": [
       "array([0.        , 1.        , 1.41421356, 1.73205081, 2.        ])"
      ]
     },
     "metadata": {},
     "execution_count": 9
    }
   ]
  },
  {
   "cell_type": "code",
   "source": [
    "# ejemplos de operadores\n",
    "array1 = np.arange(4)\n",
    "array2 = np.array([0, -1, 2, -3])\n",
    "\n",
    "print(array1)\n",
    "print(array2)\n",
    "\n",
    "print(np.greater(array1, array2))  # funcion de comparación a > b\n",
    "print(np.less(array1, array2))  # a < b"
   ],
   "metadata": {
    "id": "9SqiO5oUSaHv",
    "colab": {
     "base_uri": "https://localhost:8080/"
    },
    "outputId": "2b0ac8b2-3411-4134-b926-2b3c5b5e8e5a"
   },
   "execution_count": null,
   "outputs": [
    {
     "output_type": "stream",
     "name": "stdout",
     "text": [
      "[0 1 2 3]\n",
      "[ 0 -1  2 -3]\n",
      "[False  True False  True]\n",
      "[False False False False]\n"
     ]
    }
   ]
  },
  {
   "cell_type": "markdown",
   "source": [
    "# Estadística descriptiva\n",
    "- Importante saber la naturaleza de los datos\n",
    "- Valores máximos, mínimos, distribución, etc.\n",
    "\n",
    "| Función | Descripción |\n",
    "|:---------|:-----|\n",
    "| *sum(arr)* | Suma de todos los elementos de *arr* |\n",
    "| *mean(arr)* | Media aritmética de los elementos de *arr* |\n",
    "| *std(arr)* | Desviación estándar de los elementos de *arr* |\n",
    "| *cumsum(arr)* | Devuelve array con la suma acumulada de cada elementos con todos los anteriores |\n",
    "| *cumprod(arr)* | Devuelve array con el producto acumulado de cada elementos con todos los anteriores |\n",
    "| *min(arr), max(arr)* | Mínimo y máximo de *arr* |\n",
    "| *any(arr)* | En array de tipo *bool*, retorna *True* si algún elemento es *True* |\n",
    "| *all(arr)* | En array de tipo *bool*, retorna *True* si todos los elementos son *True* (o <>0 en valores numéricos) |\n",
    "| *unique(arr)* | Devuelve un array con valores únicos |\n",
    "| *in1d(arr1, arr2)* | Devuelve un array con bool indicando si cada elemento de *arr1* está en *arr2* |\n",
    "| *union1d(arr1, arr2)* | Devuelve la unión de ambos arrays |\n",
    "| *intersect1d(arr1, arr2)* | Devuelve la intersección de ambos arrays |"
   ],
   "metadata": {
    "id": "GZjuj510ShUY"
   }
  },
  {
   "cell_type": "code",
   "source": [
    "# sum != cumsum\n",
    "array1 = np.arange(9)\n",
    "print(array1)\n",
    "print(array1.sum())\n",
    "print(array1.cumsum())"
   ],
   "metadata": {
    "id": "ogToNDAeSh_o",
    "colab": {
     "base_uri": "https://localhost:8080/"
    },
    "outputId": "b064d439-a7b5-4c3b-f3f7-3bd9fe423531"
   },
   "execution_count": null,
   "outputs": [
    {
     "output_type": "stream",
     "name": "stdout",
     "text": [
      "[0 1 2 3 4 5 6 7 8]\n",
      "36\n",
      "[ 0  1  3  6 10 15 21 28 36]\n"
     ]
    }
   ]
  },
  {
   "cell_type": "code",
   "source": [
    "# any vs all\n",
    "array1 = np.arange(-8, 2).reshape(2, 5)\n",
    "print(array1)\n",
    "print(array1.any())  # any para saber si hay elementos True o valores <> 0\n",
    "print(array1.all())  # all para saber si TODOS los elementos son True o valores <> 0"
   ],
   "metadata": {
    "id": "7IrlnSkiSrQZ",
    "colab": {
     "base_uri": "https://localhost:8080/"
    },
    "outputId": "d8c3fd6b-d44c-419f-96e1-816d29a5f6e9"
   },
   "execution_count": null,
   "outputs": [
    {
     "output_type": "stream",
     "name": "stdout",
     "text": [
      "[[-8 -7 -6 -5 -4]\n",
      " [-3 -2 -1  0  1]]\n",
      "True\n",
      "False\n"
     ]
    }
   ]
  },
  {
   "cell_type": "code",
   "source": [
    "# todas las funciones aceptan parametro 'axis'\n",
    "# 0 para columnas, 1 para filas, 2 para profundidad...\n",
    "array1 = np.arange(10).reshape(2, 5)\n",
    "print(array1)\n",
    "print(array1.all(axis=0))\n",
    "print(array1.all(axis=1))\n",
    "print(array1.all())"
   ],
   "metadata": {
    "id": "XvkYrdzBSsAh",
    "colab": {
     "base_uri": "https://localhost:8080/"
    },
    "outputId": "6a816eba-b5c9-4183-c056-924c83d1a96c"
   },
   "execution_count": null,
   "outputs": [
    {
     "output_type": "stream",
     "name": "stdout",
     "text": [
      "[[0 1 2 3 4]\n",
      " [5 6 7 8 9]]\n",
      "[False  True  True  True  True]\n",
      "[False  True]\n",
      "False\n"
     ]
    }
   ]
  },
  {
   "cell_type": "markdown",
   "source": [
    "# Álgebra lineal\n",
    "- numpy.linalg contiene funciones para álgebra lineal\n",
    "- dot product, multiplicación de matrices, cálculo del determinante, factorizaciones..."
   ],
   "metadata": {
    "id": "ObcDt_joSuNY"
   }
  },
  {
   "cell_type": "markdown",
   "source": [
    "\n",
    "| Función | Descripción |\n",
    "|:---------|:-----|\n",
    "| *dot(mat1, mat2)* | Devuelve el producto escalar entre dos arrays. Si son matrices 2D, es equivalente a la multiplicación de ambas |\n",
    "| *matmul(mat1, mat2)* | Devuelve el producto entre dos matrices |\n",
    "| *trace(mat1, mat2)* | Suma de las diagonales de ambas matrices |\n",
    "| *det(mat)* | Devuelve el determinante de la matriz |\n",
    "| *eig(mat)* | Computa los autovalores y autovectores de la matriz cuadrada *mat* |\n",
    "| *inv(mat)* | Devuelve la inversa de la matriz |\n",
    "| *qr(mat)* | Computa la factorización QR de *mat* |\n",
    "| *solve(A, b)* | Resuelve el sistema lineal de ecuaciones *Ax = b* para *b*, cuando *A* es una matriz cuadrada |\n",
    "| *transpose(mat)* | Devuelve la transpuesta de la matrix |"
   ],
   "metadata": {
    "id": "Tqa5XNYOSx1B"
   }
  },
  {
   "cell_type": "code",
   "source": [
    "A = np.arange(12).reshape(4, 3)\n",
    "B = np.arange(6).reshape(3, 2)\n",
    "\n",
    "print(A)\n",
    "print(B)\n",
    "\n",
    "print(np.matmul(A, B))\n",
    "print(np.dot(A, B))\n",
    "print(\n",
    "    A @ B\n",
    ")  # el operador @ representa la multiplicación de matrices y es equivalente a np.matmul(A, B)."
   ],
   "metadata": {
    "id": "1Abw1KK_S0iS",
    "colab": {
     "base_uri": "https://localhost:8080/"
    },
    "outputId": "60a1f50f-30d2-4c39-f370-4e2d60be5131"
   },
   "execution_count": null,
   "outputs": [
    {
     "output_type": "stream",
     "name": "stdout",
     "text": [
      "[[ 0  1  2]\n",
      " [ 3  4  5]\n",
      " [ 6  7  8]\n",
      " [ 9 10 11]]\n",
      "[[0 1]\n",
      " [2 3]\n",
      " [4 5]]\n",
      "[[10 13]\n",
      " [28 40]\n",
      " [46 67]\n",
      " [64 94]]\n",
      "[[10 13]\n",
      " [28 40]\n",
      " [46 67]\n",
      " [64 94]]\n",
      "[[10 13]\n",
      " [28 40]\n",
      " [46 67]\n",
      " [64 94]]\n"
     ]
    }
   ]
  },
  {
   "cell_type": "code",
   "source": [
    "import numpy.linalg as linalg  ## submodulo que contiene funciones algebraicas como det, inversa, etc\n",
    "import math\n",
    "\n",
    "# resolver sistema de ecuaciones\n",
    "# 3x + 2y + 5z = 12\n",
    "# x - 3y -z = 2\n",
    "# 2x -y +12z = 32\n",
    "# Ax = b --> resolver para x\n",
    "\n",
    "a = np.array([[3, 2, 5], [1, -3, -1], [2, -1, 12]])\n",
    "b = np.array([12, 2, 32])\n",
    "\n",
    "print(a)\n",
    "print(b)\n",
    "x, y, z = linalg.solve(a, b)\n",
    "print(f\"x={x} y={y} z={z}\")\n",
    "\n",
    "print(math.isclose(3 * x + 2 * y + 5 * z, 12))\n",
    "print(math.isclose(x - 3 * y - z, 2))\n",
    "print(math.isclose(2 * x - y + 12 * z, 32))"
   ],
   "metadata": {
    "colab": {
     "base_uri": "https://localhost:8080/"
    },
    "id": "npqlhpixA5yE",
    "outputId": "48185ea3-8bd0-47a1-8016-b559f51b4a53"
   },
   "execution_count": null,
   "outputs": [
    {
     "output_type": "stream",
     "name": "stdout",
     "text": [
      "[[ 3  2  5]\n",
      " [ 1 -3 -1]\n",
      " [ 2 -1 12]]\n",
      "[12  2 32]\n",
      "x=0.7543859649122807 y=-1.2280701754385965 z=2.43859649122807\n",
      "True\n",
      "True\n",
      "True\n"
     ]
    }
   ]
  },
  {
   "cell_type": "code",
   "source": [
    "# matriz identidad\n",
    "I = np.identity(4)\n",
    "print(I)\n",
    "\n",
    "A = np.arange(16).reshape(4, 4)\n",
    "print(A)\n",
    "\n",
    "print(np.matmul(A, I))"
   ],
   "metadata": {
    "colab": {
     "base_uri": "https://localhost:8080/"
    },
    "id": "Zc6ru2SgBsrj",
    "outputId": "12549b95-fa91-4784-c982-4373b61404c8"
   },
   "execution_count": null,
   "outputs": [
    {
     "output_type": "stream",
     "name": "stdout",
     "text": [
      "[[1. 0. 0. 0.]\n",
      " [0. 1. 0. 0.]\n",
      " [0. 0. 1. 0.]\n",
      " [0. 0. 0. 1.]]\n",
      "[[ 0  1  2  3]\n",
      " [ 4  5  6  7]\n",
      " [ 8  9 10 11]\n",
      " [12 13 14 15]]\n",
      "[[ 0.  1.  2.  3.]\n",
      " [ 4.  5.  6.  7.]\n",
      " [ 8.  9. 10. 11.]\n",
      " [12. 13. 14. 15.]]\n"
     ]
    }
   ]
  },
  {
   "cell_type": "markdown",
   "source": [
    "# Filtrado de datos\n",
    "- Filtrar y modificar datos numéricos con np.where\n",
    "- Retorna A o B en función de una condición en una array"
   ],
   "metadata": {
    "id": "5gEKbvZPCDPl"
   }
  },
  {
   "cell_type": "code",
   "source": [
    "prices = np.array([0.99, 14.49, 19.99, 20.99, 0.49])\n",
    "mask = prices < 1\n",
    "print(prices[prices < 1])  # slicing condicional\n",
    "\n",
    "# # mask con los elementos menores de 1\n",
    "# mask = np.where(prices < 1, True, False)\n",
    "# print(mask)\n",
    "# print(prices[mask])\n",
    "\n",
    "# prices[mask] = 1.0\n",
    "# print(prices)\n",
    "\n",
    "print(np.where(prices < 1, 1.0, prices * 3))\n",
    "\n",
    "\"\"\"np.where es extremadamente útil en situaciones donde necesitas aplicar una operación condicional\n",
    " a un array entero sin usar bucles explícitos. Proporciona una manera vectorizada y, por lo tanto,\n",
    "   más eficiente de hacerlo.\"\"\""
   ],
   "metadata": {
    "colab": {
     "base_uri": "https://localhost:8080/",
     "height": 91
    },
    "id": "3OgZQa-8Bs1y",
    "outputId": "1dc302d8-3c82-4983-de40-932bf557059e"
   },
   "execution_count": null,
   "outputs": [
    {
     "output_type": "stream",
     "name": "stdout",
     "text": [
      "[0.99 0.49]\n",
      "[ True False False False  True]\n"
     ]
    },
    {
     "output_type": "execute_result",
     "data": {
      "text/plain": [
       "'np.where es extremadamente útil en situaciones donde necesitas aplicar una operación condicional\\n a un array entero sin usar bucles explícitos. Proporciona una manera vectorizada y, por lo tanto,\\n   más eficiente de hacerlo.'"
      ],
      "application/vnd.google.colaboratory.intrinsic+json": {
       "type": "string"
      }
     },
     "metadata": {},
     "execution_count": 19
    }
   ]
  },
  {
   "cell_type": "code",
   "source": [
    "# Se puede usar para sustituir datos fuera de rango\n",
    "bank_transfers_values = np.array([0.99, -1.49, 19.99, 20.99, -0.49, 12.1]).reshape(2, 3)\n",
    "print(bank_transfers_values)\n",
    "clean_data = np.where(bank_transfers_values > 0, bank_transfers_values, 0)\n",
    "print(clean_data)"
   ],
   "metadata": {
    "colab": {
     "base_uri": "https://localhost:8080/"
    },
    "id": "ee5zFxgxCZwK",
    "outputId": "5a1bbcbf-3bf8-4517-bef2-d1c6e193ca94"
   },
   "execution_count": null,
   "outputs": [
    {
     "output_type": "stream",
     "name": "stdout",
     "text": [
      "[[ 0.99 -1.49 19.99]\n",
      " [20.99 -0.49 12.1 ]]\n",
      "[[ 0.99  0.   19.99]\n",
      " [20.99  0.   12.1 ]]\n"
     ]
    }
   ]
  },
  {
   "cell_type": "code",
   "source": [
    "# limpiar NaN (sustitución)\n",
    "data = [10, 12, -143, np.nan, 1, -3]  # np.nan --> NotANumber, elemento especial\n",
    "\n",
    "np.any(np.isnan(data))"
   ],
   "metadata": {
    "colab": {
     "base_uri": "https://localhost:8080/"
    },
    "id": "RkekmGpnCZzF",
    "outputId": "7268f6b1-0407-4d7e-8331-5ec3f88bfc16"
   },
   "execution_count": null,
   "outputs": [
    {
     "output_type": "execute_result",
     "data": {
      "text/plain": [
       "True"
      ]
     },
     "metadata": {},
     "execution_count": 24
    }
   ]
  },
  {
   "cell_type": "code",
   "source": [
    "data_clean = np.where(np.isnan(data), 0, data)\n",
    "print(data_clean)"
   ],
   "metadata": {
    "colab": {
     "base_uri": "https://localhost:8080/"
    },
    "id": "Vi6aQBT7A7iD",
    "outputId": "e36eda4f-64dc-493c-96a7-e05b9f849aa8"
   },
   "execution_count": null,
   "outputs": [
    {
     "output_type": "stream",
     "name": "stdout",
     "text": [
      "[  10.   12. -143.    0.    1.   -3.]\n"
     ]
    }
   ]
  },
  {
   "cell_type": "code",
   "source": [
    "# np.where puede seleccionar elementos\n",
    "bank_transfers_values = np.array([0.99, -1.49, 19.99, 20.99, -0.49, 12.1]).reshape(2, 3)\n",
    "print(bank_transfers_values)\n",
    "credits = np.where(\n",
    "    bank_transfers_values > 0\n",
    ")  # array de índices para los que la condición es True\n",
    "\n",
    "print(credits)\n",
    "print(\n",
    "    bank_transfers_values[credits]\n",
    ")  # es igual que bank_transfers_values[bank_transfers_values > 0]\n",
    "print(bank_transfers_values[bank_transfers_values > 0])"
   ],
   "metadata": {
    "colab": {
     "base_uri": "https://localhost:8080/"
    },
    "id": "3fzDjUMdCZ1w",
    "outputId": "cfaf0e70-95e1-4ce7-e965-00dbf8ac6208"
   },
   "execution_count": null,
   "outputs": [
    {
     "output_type": "stream",
     "name": "stdout",
     "text": [
      "[[ 0.99 -1.49 19.99]\n",
      " [20.99 -0.49 12.1 ]]\n",
      "(array([0, 0, 1, 1]), array([0, 2, 0, 2]))\n",
      "[ 0.99 19.99 20.99 12.1 ]\n",
      "[ 0.99 19.99 20.99 12.1 ]\n"
     ]
    }
   ]
  },
  {
   "cell_type": "code",
   "source": [],
   "metadata": {
    "id": "eHKcNvBECZ4Y"
   },
   "execution_count": null,
   "outputs": []
  },
  {
   "cell_type": "markdown",
   "source": [
    "# Números aleatorios\n",
    "- Python módulo random"
   ],
   "metadata": {
    "id": "IzgN2qBVDmbj"
   }
  },
  {
   "cell_type": "code",
   "source": [
    "import random\n",
    "\n",
    "print(\n",
    "    random.random()\n",
    ")  # genera numeoros float entre 0 y 1 (excluyendo 1, [0,1)) (uniforme continua)\n",
    "print(\n",
    "    random.randint(0, 5)\n",
    ")  # genera un numero entero aleatorio en el rango[0,5] (uniforme discreta)\n",
    "print(\n",
    "    random.uniform(0, 5)\n",
    ")  # genera numero float entre 0 y 5 (incluye ambos extremos) (uniforme continua)"
   ],
   "metadata": {
    "colab": {
     "base_uri": "https://localhost:8080/"
    },
    "id": "Cdq4ciKgDnD5",
    "outputId": "b82d24fd-034f-4081-e775-d50cd9ca22e5"
   },
   "execution_count": null,
   "outputs": [
    {
     "output_type": "stream",
     "name": "stdout",
     "text": [
      "0.591051298583392\n",
      "0\n",
      "0.5875369713894851\n"
     ]
    }
   ]
  },
  {
   "cell_type": "code",
   "source": [
    "# elegir un elemento al azar dentro de una colección\n",
    "names = [\"Pikachu\", \"Eevee\", \"Charmander\"]\n",
    "random.choice(names)"
   ],
   "metadata": {
    "colab": {
     "base_uri": "https://localhost:8080/",
     "height": 36
    },
    "id": "yppyLt97DnHC",
    "outputId": "22d77c47-0410-452b-aefe-32fb3fc7dbf9"
   },
   "execution_count": null,
   "outputs": [
    {
     "output_type": "execute_result",
     "data": {
      "text/plain": [
       "'Pikachu'"
      ],
      "application/vnd.google.colaboratory.intrinsic+json": {
       "type": "string"
      }
     },
     "metadata": {},
     "execution_count": 40
    }
   ]
  },
  {
   "cell_type": "markdown",
   "source": [
    "## NumPy.random\n",
    "- Generar fácilmente listas con valores aleatorios"
   ],
   "metadata": {
    "id": "BnYZdE8-Fe8C"
   }
  },
  {
   "cell_type": "code",
   "source": [
    "print(\n",
    "    np.random.rand()\n",
    ")  # genera número aleatorios entre 0 y 1 (equivalente random.random)\n",
    "print(np.random.randint(0, 5))  # integral entre dos valores\n",
    "print(\n",
    "    np.random.randint(5, size=(2, 4))\n",
    ")  # parametro 'size' para indicar las dimensiones)"
   ],
   "metadata": {
    "colab": {
     "base_uri": "https://localhost:8080/"
    },
    "id": "CUKg_iKlDuuj",
    "outputId": "ca8e6a17-ce9f-40a7-b6da-5370775d5f61"
   },
   "execution_count": null,
   "outputs": [
    {
     "output_type": "stream",
     "name": "stdout",
     "text": [
      "0.3370396082431356\n",
      "3\n",
      "[[0 0 1 4]\n",
      " [0 2 3 2]]\n"
     ]
    }
   ]
  },
  {
   "cell_type": "code",
   "source": [
    "# array de elementos aleatorios (distribucion normal gaussiana, media 0, desviación 1)\n",
    "print(np.random.randn(4, 2))"
   ],
   "metadata": {
    "colab": {
     "base_uri": "https://localhost:8080/"
    },
    "id": "sUua9yUjDuxN",
    "outputId": "dccbfd16-1997-4d05-ece1-4194d5ebbc01"
   },
   "execution_count": null,
   "outputs": [
    {
     "output_type": "stream",
     "name": "stdout",
     "text": [
      "[[ 0.09500366 -0.12969959]\n",
      " [ 2.28982919  0.63632914]\n",
      " [ 1.28351153  0.00653193]\n",
      " [-2.55417713 -0.46438539]]\n"
     ]
    }
   ]
  },
  {
   "cell_type": "code",
   "source": [
    "# otras distribuciones\n",
    "print(np.random.binomial(n=5, p=0.3))  # 'n' intentos, 'p' probabilidad\n",
    "print(np.random.uniform(low=0, high=10))  # distribución uniforme\n",
    "print(\n",
    "    np.random.poisson(lam=2, size=(2, 2))\n",
    ")  # 'lam' número de ocurrencias esperadas, retornar 'size' valores"
   ],
   "metadata": {
    "colab": {
     "base_uri": "https://localhost:8080/"
    },
    "id": "B7Dk5y3IFnNp",
    "outputId": "fe92cf4c-eb6f-40d8-85ba-73781ca25016"
   },
   "execution_count": null,
   "outputs": [
    {
     "output_type": "stream",
     "name": "stdout",
     "text": [
      "1\n",
      "9.589624005717612\n",
      "[[2 2]\n",
      " [2 3]]\n"
     ]
    }
   ]
  },
  {
   "cell_type": "markdown",
   "source": [
    "## Random seed\n",
    "- Números pseudo-aleatorios\n",
    "- Ordenadores generan números a partir de ecuaciones\n",
    "- Basadas en un número inicial (seed)\n",
    "- Bueno para reproducibilidad de experimentos"
   ],
   "metadata": {
    "id": "iE7KwTiqFrb4"
   }
  },
  {
   "cell_type": "code",
   "source": [
    "i = 5\n",
    "for _ in range(5):\n",
    "    np.random.seed(\n",
    "        i\n",
    "    )  # misma semilla :: al fijar la semilla se repiten los valores aleatorios.\n",
    "    print(np.random.rand())\n",
    "    print(np.random.rand())\n",
    "\n",
    "print()\n",
    "\n",
    "for i in range(6):\n",
    "    np.random.seed(i)  # diferentes semillas ::  valores generados son diferentes.\n",
    "    print(np.random.rand())\n",
    "    print(np.random.rand())"
   ],
   "metadata": {
    "colab": {
     "base_uri": "https://localhost:8080/"
    },
    "id": "4BPyZv-RFr8J",
    "outputId": "8ad26f21-2f0f-4c07-c35b-5b5ab5bae10c"
   },
   "execution_count": null,
   "outputs": [
    {
     "output_type": "stream",
     "name": "stdout",
     "text": [
      "0.22199317108973948\n",
      "0.8707323061773764\n",
      "0.22199317108973948\n",
      "0.8707323061773764\n",
      "0.22199317108973948\n",
      "0.8707323061773764\n",
      "0.22199317108973948\n",
      "0.8707323061773764\n",
      "0.22199317108973948\n",
      "0.8707323061773764\n",
      "\n",
      "0.5488135039273248\n",
      "0.7151893663724195\n",
      "0.417022004702574\n",
      "0.7203244934421581\n",
      "0.43599490214200376\n",
      "0.025926231827891333\n",
      "0.5507979025745755\n",
      "0.7081478226181048\n",
      "0.9670298390136767\n",
      "0.5472322491757223\n",
      "0.22199317108973948\n",
      "0.8707323061773764\n"
     ]
    }
   ]
  }
 ]
}