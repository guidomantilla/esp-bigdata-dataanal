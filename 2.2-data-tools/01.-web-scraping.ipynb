{
 "cells": [
  {
   "metadata": {
    "ExecuteTime": {
     "end_time": "2025-03-15T19:18:05.612288Z",
     "start_time": "2025-03-15T19:18:05.605622Z"
    }
   },
   "cell_type": "code",
   "source": [
    "import requests\n",
    "import json"
   ],
   "id": "4d137626e2a1b2b6",
   "outputs": [],
   "execution_count": 39
  },
  {
   "metadata": {
    "ExecuteTime": {
     "end_time": "2025-03-15T19:18:05.621339Z",
     "start_time": "2025-03-15T19:18:05.618245Z"
    }
   },
   "cell_type": "code",
   "source": [
    "latitud = -34.5\n",
    "longitud = -58.4\n",
    "fecha = \"1816-07-09\""
   ],
   "id": "c7335fcb11b51645",
   "outputs": [],
   "execution_count": 40
  },
  {
   "metadata": {
    "ExecuteTime": {
     "end_time": "2025-03-15T19:18:06.441549Z",
     "start_time": "2025-03-15T19:18:05.635225Z"
    }
   },
   "cell_type": "code",
   "source": [
    "respuesta = requests.get(\n",
    "    f\"https://api.sunrise-sunset.org/json?lat={latitud}&lng={longitud}&date={fecha}\"\n",
    ")\n",
    "respuesta.json()"
   ],
   "id": "4a017d36ecf7d47",
   "outputs": [
    {
     "data": {
      "text/plain": [
       "{'results': {'sunrise': '10:58:05 AM',\n",
       "  'sunset': '8:58:42 PM',\n",
       "  'solar_noon': '3:58:24 PM',\n",
       "  'day_length': '10:00:37',\n",
       "  'civil_twilight_begin': '10:31:51 AM',\n",
       "  'civil_twilight_end': '9:24:56 PM',\n",
       "  'nautical_twilight_begin': '10:00:39 AM',\n",
       "  'nautical_twilight_end': '9:56:08 PM',\n",
       "  'astronomical_twilight_begin': '9:30:11 AM',\n",
       "  'astronomical_twilight_end': '10:26:37 PM'},\n",
       " 'status': 'OK',\n",
       " 'tzid': 'UTC'}"
      ]
     },
     "execution_count": 41,
     "metadata": {},
     "output_type": "execute_result"
    }
   ],
   "execution_count": 41
  },
  {
   "metadata": {
    "ExecuteTime": {
     "end_time": "2025-03-15T19:18:07.109369Z",
     "start_time": "2025-03-15T19:18:06.462259Z"
    }
   },
   "cell_type": "code",
   "source": [
    "import wikipediaapi\n",
    "\n",
    "idioma = \"es\"\n",
    "wikipedia = wikipediaapi.Wikipedia(user_agent=\"Mi programa\", language=idioma)\n",
    "palabra = \"Argentina\"\n",
    "pagina = wikipedia.page(palabra)\n",
    "print(pagina.fullurl)\n",
    "print(pagina.summary)"
   ],
   "id": "1b1acc5a5f33eae",
   "outputs": [
    {
     "name": "stdout",
     "output_type": "stream",
     "text": [
      "https://es.wikipedia.org/wiki/Argentina\n",
      "Argentina, oficialmente República Argentina,[a]​ es un país soberano de América del Sur, ubicado en el extremo sur y sudeste de ese subcontinente. Adopta la forma de gobierno republicana, democrática, representativa y federal. \n",
      "Se constituye como un país federal descentralizado, compuesto por veintitrés Provincias, más un territorio federal con Capital en la Ciudad Autónoma de Buenos Aires.[10]​[h]​\n",
      "La Constitución Nacional Argentina rige los principios de adhesión como una república representativa, establece competencias exclusivas al Gobierno Federal y otorga a las provincias facultades de autonomía plena y representación exclusiva en el Poder Ejecutivo, Legislativo y Judicial. Poseen Carta Magna, bandera y fuerzas de seguridad propias, así como el dominio de los recursos naturales circunscriptos en su territorio. Los estados asociados se reconocen preexistentes a la Nación, y tras un prolongado enfrentamiento hasta la conformación de territorios con sistema federal, las provincias han renunciado a la potestad para declarar su emancipación soberana.[11]​[12]​\n",
      "Argentina se reconoce como un país bicontinental, cuyo vasto territorio abarca gran parte del Cono Sur y se extiende hasta la Antártida. En la plataforma americana limita al norte con Bolivia y Paraguay, al nordeste con Brasil, al este con Uruguay y el océano Atlántico, al oeste y sur con Chile y el Mar de Hoces.\n",
      "Es el segundo país con el mayor índice de desarrollo humano (IDH) de la región, detrás de su vecino Chile.[13]​[14]​Garantiza modelos de salud y educación pública con acceso gratuito, universal y de calidad.[15]​ Posee una tasa de alfabetismo en personas mayores de quince años superior al 99 %,[16]​[17]​y cuenta con una cobertura médica hospitalaria regularmente distribuida por cantidad poblacional.[18]​\n",
      "La República Argentina es una de las naciones más desarrolladas e influyentes del continente americano. Hasta mediados del siglo XX, fue una de las economías más prósperas del mundo. Sin embargo, los complejos acontecimientos sociales, políticos y económicos que le sucedieron posteriormente, afectaron seriamente sus variables de crecimiento, causando una inestabilidad financiera con abruptas reconfiguraciones de modelos políticos y económicos, mostrándose incapaces de revertir los agravantes hasta la actualidad. No obstante, es la segunda economía más importante de Sudamérica —detrás de Brasil— y la 24.º más grande del mundo por PIB nominal. Argentina es reconocida como una potencia regional de relevante proyección en la reconfiguración del mapa global.[19]​ \n",
      "Con un desarrollo científico y tecnológico referente, es el país latinoamericano más laureado con premios Nobel, con cinco en total, —tres de ellos en ciencias— y el que más unicornios tecnológicos posee. Está a la vanguardia en materia nuclear y espacial, e integra el selecto grupo de países que dominan el ciclo completo de uranio. Esto le ha permitido diseñar, construir y exportar satélites, radares, reactores nucleares, equipamiento médico nuclear, aviones de combate, helicópteros, etc. Es líder en la fabricación de automóviles, software, biotecnología, medicamentos, industria naval, siderúrgica y textil, etc. Con una capacidad para alimentar a 400 millones de personas, es uno de los principales exportadores de materias primas, tecnología, ingeniería y maquinaria agropecuaria a nivel mundial, y pionero en los avances de genética, clonación y reproducción bovina y equina.\n",
      "Asimismo, ha tenido personalidades significativas a lo largo de la historia, con contribuciones destacadas en deportes, ciencias, artes, política y humanidades. El perfeccionamiento del baipás coronario, el uso de las huellas digitales para la identificación de las personas, el método de conservación de sangre humana para su uso diferido en transfusiones, el bolígrafo, la jeringa descartable, los dibujos animados y el primer diseño funcional de los helicópteros modernos, son las creaciones de argentinos más célebres.[20]​[21]​[22]​\n",
      "Argentina integra el G20 —bloque que reúne a las naciones más ricas e industrializadas del planeta— y es miembro fundador del Mercosur, de Naciones Unidas, la Organización de Estados Americanos y el NIC o nuevos países industrializados.[23]​\n",
      "Su territorio bicontinental abarca una superficie de 2 780 400 km²,[3]​ es el país hispanohablante más extenso del planeta, el segundo más grande de América Latina y octavo en el mundo, si se considera solo la superficie continental sujeta a soberanía efectiva. Su plataforma continental, reconocida por la ONU en 2016, alcanza los 6 581 500 km²,[24]​ convirtiéndose en una de las más grandes del mundo,[25]​ extendiéndose desde el continente americano hasta el Polo Sur en la Antártida, a través del Atlántico Sur. Si se cuentan las islas Malvinas, Georgias del Sur, Sandwich del Sur y otras numerosas islas menores (administradas por el Reino Unido, pero de soberanía en litigio), más una porción del área antártica llamada Antártida Argentina al sur del paralelo 60° S, sobre la cual Argentina reclama soberanía, la superficie se eleva a 3 761 274 km².[26]​ Es una de las veinte naciones con presencia continua en la Antártida y posee la mayor cantidad de bases permanentes, con seis en total.\n",
      "Su territorio reúne una gran diversidad de climas, causada por una amplitud latitudinal que supera los 30° —incluyendo varias zonas geoastronómicas—, una diferencia en la altitud que va de 107 m bajo el nivel del mar (Laguna del Carbón) a casi 7000 m s. n. m. y la extensión del litoral marítimo que alcanza 4725 km. Amplias llanuras húmedas limitan con extensos desiertos y altas montañas, mientras que la presencia de climas tropicales y subtropicales en el norte, contrastan con las nevadas y fríos extremos en las zonas cordilleranas y el sur.\n",
      "Los primeros registros de pobladores en el actual territorio argentino se remontan a los trece mil años AP, durante el Paleoamericano. En tiempos protohistóricos, periodo precolombino, fue habitado por numerosos pueblos indígenas, algunos de los cuales aún habitan el país; entre ellos guaycurúes, guaraníes, mapuches, tehuelches y diaguitas, estos últimos formaban parte del Imperio incaico. La conquista española del actual territorio argentino comenzó con viajes exploratorios desde el año 1512, el establecimiento de una población en 1528 y la distribución del territorio a los adelantados. Más tarde, quedó bajo la jurisdicción del virreinato del Perú. En 1776, la Corona española fundó el virreinato del Río de la Plata, el cual sería una entidad política precedente a la actual República Argentina. El 25 de mayo de 1810 fue sustituido el sistema virreinal, deponiendo al último virrey que gobernó desde Buenos Aires,[27]​ organizándose así la Primera Junta de gobierno, que actuaba de forma autónoma desconociendo al Consejo de Regencia de España. El día 9 de julio de 1816 fue proclamada la independencia en San Miguel de Tucumán.[28]​\n"
     ]
    }
   ],
   "execution_count": 42
  },
  {
   "metadata": {
    "ExecuteTime": {
     "end_time": "2025-03-15T19:18:07.128405Z",
     "start_time": "2025-03-15T19:18:07.125727Z"
    }
   },
   "cell_type": "code",
   "source": [
    "from bs4 import BeautifulSoup\n",
    "import requests"
   ],
   "id": "54c5bd5a9a8aec65",
   "outputs": [],
   "execution_count": 43
  },
  {
   "metadata": {
    "ExecuteTime": {
     "end_time": "2025-03-15T19:38:59.342484Z",
     "start_time": "2025-03-15T19:38:49.270269Z"
    }
   },
   "cell_type": "code",
   "source": [
    "url = \"https://scrapepark.org/courses/spanish/\"\n",
    "response = requests.get(url)\n",
    "html = response.text\n",
    "\n",
    "soup = BeautifulSoup(html, \"html.parser\")\n",
    "h2 = soup.find(\"h2\")\n",
    "print(h2.text)\n",
    "\n",
    "for h2 in soup.find_all(\"h2\", limit=2):\n",
    "    print(h2.text)\n",
    "\n",
    "for h2 in soup.find_all(\"h2\"):\n",
    "    print(h2.get_text(strip=True))\n",
    "\n",
    "divs = soup.find_all(\"div\", class_=\"heading-container heading-center\")\n",
    "print(divs)\n",
    "\n",
    "srcs = soup.find_all(src=True)\n",
    "for idx, img in enumerate(srcs):\n",
    "    if not img[\"src\"].endswith((\".html\", \".css\", \".js\")):\n",
    "        response = requests.get(f\"{url}/{img['src']}\")\n",
    "        with open(f\"resources/img_{idx}.jpg\", \"wb\") as file:\n",
    "            file.write(response.content)"
   ],
   "id": "fb3e937fdeb22536",
   "outputs": [
    {
     "name": "stdout",
     "output_type": "stream",
     "text": [
      "¿Por qué comprar con nosotros?\n",
      "¿Por qué comprar con nosotros?\n",
      "\r\n",
      "                  #Novedades\r\n",
      "                \n",
      "¿Por qué comprar con nosotros?\n",
      "#Novedades\n",
      "Nuestrosproductos\n",
      "Testimonios de clientes\n",
      "Tabla de precios\n",
      "[<div class=\"heading-container heading-center\" id=\"acerca\">\n",
      "<h2>¿Por qué comprar con nosotros?</h2>\n",
      "</div>, <div class=\"heading-container heading-center\" id=\"productos\">\n",
      "<h2>\r\n",
      "            Nuestros <span>productos</span>\n",
      "</h2>\n",
      "</div>, <div class=\"heading-container heading-center\">\n",
      "<h3>Suscríbete para obtener descuentos y ofertas</h3>\n",
      "</div>, <div class=\"heading-container heading-center\">\n",
      "<h2>\r\n",
      "            Testimonios de clientes\r\n",
      "          </h2>\n",
      "</div>]\n",
      "images/logo.svg\n",
      "images/slider-bg.jpg\n",
      "images/arrival-bg-store.png\n",
      "images/p1.png\n",
      "images/p2.jpg\n",
      "images/p3.png\n",
      "images/p4.png\n",
      "images/p5.png\n",
      "images/p6.png\n",
      "images/p7.png\n",
      "images/p8.png\n",
      "images/p9.png\n",
      "images/p10.png\n",
      "images/p11.png\n",
      "images/p12.png\n",
      "images/client-one.png\n",
      "images/client-two.png\n",
      "images/client-three.png\n",
      "images/logo.svg\n",
      "./images/freecodecamp-logo.png\n",
      "Imagen 0: images/logo.svg\n",
      "Imagen 1: images/slider-bg.jpg\n",
      "Imagen 2: images/arrival-bg-store.png\n",
      "Imagen 3: images/p1.png\n",
      "Imagen 4: images/p2.jpg\n",
      "Imagen 5: images/p3.png\n",
      "Imagen 6: images/p4.png\n",
      "Imagen 7: images/p5.png\n",
      "Imagen 8: images/p6.png\n",
      "Imagen 9: images/p7.png\n",
      "Imagen 10: images/p8.png\n",
      "Imagen 11: images/p9.png\n",
      "Imagen 12: images/p10.png\n",
      "Imagen 13: images/p11.png\n",
      "Imagen 14: images/p12.png\n",
      "Imagen 15: images/client-one.png\n",
      "Imagen 16: images/client-two.png\n",
      "Imagen 17: images/client-three.png\n",
      "Imagen 19: images/logo.svg\n",
      "Imagen 20: ./images/freecodecamp-logo.png\n"
     ]
    }
   ],
   "execution_count": 58
  }
 ],
 "metadata": {
  "kernelspec": {
   "name": "python3",
   "language": "python",
   "display_name": "Python 3 (ipykernel)"
  }
 },
 "nbformat": 5,
 "nbformat_minor": 9
}
