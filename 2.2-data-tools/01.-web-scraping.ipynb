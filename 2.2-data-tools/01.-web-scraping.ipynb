{
 "cells": [
  {
   "metadata": {
    "ExecuteTime": {
     "end_time": "2025-03-15T17:38:19.309813Z",
     "start_time": "2025-03-15T17:38:19.303531Z"
    }
   },
   "cell_type": "code",
   "source": [
    "import requests\n",
    "import json"
   ],
   "id": "4d137626e2a1b2b6",
   "outputs": [],
   "execution_count": 4
  },
  {
   "metadata": {
    "ExecuteTime": {
     "end_time": "2025-03-15T17:38:19.316782Z",
     "start_time": "2025-03-15T17:38:19.313916Z"
    }
   },
   "cell_type": "code",
   "source": [
    "latitud = -34.5\n",
    "longitud = -58.4\n",
    "fecha = '1816-07-09'"
   ],
   "id": "c7335fcb11b51645",
   "outputs": [],
   "execution_count": 5
  },
  {
   "metadata": {
    "ExecuteTime": {
     "end_time": "2025-03-15T17:52:10.946017Z",
     "start_time": "2025-03-15T17:52:10.339904Z"
    }
   },
   "cell_type": "code",
   "source": [
    "respuesta = requests.get(f'https://api.sunrise-sunset.org/json?lat={latitud}&lng={longitud}&date={fecha}')\n",
    "respuesta.json()"
   ],
   "id": "4a017d36ecf7d47",
   "outputs": [
    {
     "data": {
      "text/plain": [
       "{'results': {'sunrise': '10:58:05 AM',\n",
       "  'sunset': '8:58:42 PM',\n",
       "  'solar_noon': '3:58:24 PM',\n",
       "  'day_length': '10:00:37',\n",
       "  'civil_twilight_begin': '10:31:51 AM',\n",
       "  'civil_twilight_end': '9:24:56 PM',\n",
       "  'nautical_twilight_begin': '10:00:39 AM',\n",
       "  'nautical_twilight_end': '9:56:08 PM',\n",
       "  'astronomical_twilight_begin': '9:30:11 AM',\n",
       "  'astronomical_twilight_end': '10:26:37 PM'},\n",
       " 'status': 'OK',\n",
       " 'tzid': 'UTC'}"
      ]
     },
     "execution_count": 8,
     "metadata": {},
     "output_type": "execute_result"
    }
   ],
   "execution_count": 8
  },
  {
   "metadata": {},
   "cell_type": "code",
   "outputs": [],
   "execution_count": null,
   "source": [
    "import wikipediaapi.Wikipedia\n",
    "idioma = \"es\"\n",
    "sikipedia="
   ],
   "id": "1b1acc5a5f33eae"
  }
 ],
 "metadata": {
  "kernelspec": {
   "name": "python3",
   "language": "python",
   "display_name": "Python 3 (ipykernel)"
  }
 },
 "nbformat": 5,
 "nbformat_minor": 9
}
