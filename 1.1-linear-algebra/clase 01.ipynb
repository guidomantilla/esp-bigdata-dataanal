{
 "cells": [
  {
   "metadata": {},
   "cell_type": "markdown",
   "source": [
    "# Sistema de Ecuaciones Lineales\n",
    "\n",
    "* Ecuacion: relacion de igualdad entre dos expresiones algebraicas\n",
    "* Lineal: linealidad, variables elevadas a la primera potencia\n",
    "\n",
    "### Forma general de una ecuacion lineal:\n",
    "    a1x1 + a2x2 + ... + anxn = b\n",
    "\n",
    "### Sistema de ecuaciones lineales:\n",
    "    a1x + b1y = c1\n",
    "    a2x + b2y = c2\n",
    "\n"
   ],
   "id": "e5d7bed33dff82f3"
  },
  {
   "metadata": {},
   "cell_type": "markdown",
   "source": [
    "#### Ejemplo A:\n",
    "    3x + 2y = 1\n",
    "    1x - 1y = 0\n"
   ],
   "id": "b1a1d546eabfe30a"
  },
  {
   "metadata": {
    "ExecuteTime": {
     "end_time": "2025-03-06T16:57:12.605569Z",
     "start_time": "2025-03-06T16:57:12.601767Z"
    }
   },
   "cell_type": "code",
   "source": [
    "import numpy as np\n",
    "from scipy import linalg\n",
    "from pkg.functions import print_solution, print_analysis_square\n",
    "\n",
    "\"\"\"\n",
    "Ejemplo:\n",
    "    3x + 2y = 1\n",
    "    1x - 1y = 0\n",
    "\"\"\"\n",
    "A, B = np.array([[3, 2], [1, -1]]), np.array([1, 0])\n",
    "\n",
    "detA = np.linalg.det(A)\n",
    "detAx = np.linalg.det(np.column_stack((B, A[:, 1])))\n",
    "detAy = np.linalg.det(np.column_stack((A[:, 0], B)))\n",
    "print_analysis_square(detA, detAx, detAy)\n",
    "\n",
    "solution = linalg.solve(A, B)\n",
    "print_solution(solution[0], solution[1])"
   ],
   "id": "27b8de413e71b45c",
   "outputs": [
    {
     "name": "stdout",
     "output_type": "stream",
     "text": [
      "Determinants: det(A) = -5.0, det(Ax) = -1.0, det(Ay) = -1.0\n",
      "The system does have determinant and has a unique solution.\n",
      "Solution: x = 1/5, y = 1/5\n"
     ]
    }
   ],
   "execution_count": 11
  },
  {
   "metadata": {},
   "cell_type": "markdown",
   "source": [
    "#### Ejemplo B:\n",
    "    1x + 4y =  3\n",
    "    3x - 2y = -5"
   ],
   "id": "72dd7c854c6cb73a"
  },
  {
   "metadata": {
    "ExecuteTime": {
     "end_time": "2025-03-06T16:57:12.611378Z",
     "start_time": "2025-03-06T16:57:12.608336Z"
    }
   },
   "cell_type": "code",
   "source": [
    "import numpy as np\n",
    "from scipy import linalg\n",
    "from pkg.functions import print_solution, print_analysis_square\n",
    "\n",
    "\"\"\"\n",
    "Ejemplo:\n",
    "    1x + 4y =  3\n",
    "    3x - 2y = -5\n",
    "\"\"\"\n",
    "A, B = np.array([[1, 4], [3, -2]]), np.array([3, -5])\n",
    "detA = np.linalg.det(A)\n",
    "detAx = np.linalg.det(np.column_stack((B, A[:, 1])))\n",
    "detAy = np.linalg.det(np.column_stack((A[:, 0], B)))\n",
    "print_analysis_square(detA, detAx, detAy)\n",
    "\n",
    "solution = linalg.solve(A, B)\n",
    "print_solution(solution[0], solution[1])"
   ],
   "id": "b26550ffdbceb161",
   "outputs": [
    {
     "name": "stdout",
     "output_type": "stream",
     "text": [
      "Determinants: det(A) = -14.0, det(Ax) = 14.0, det(Ay) = -14.0\n",
      "The system does have determinant and has a unique solution.\n",
      "Solution: x = -1, y = 1\n"
     ]
    }
   ],
   "execution_count": 12
  },
  {
   "metadata": {},
   "cell_type": "markdown",
   "source": "### Taller Clase 01\n",
   "id": "f7c0b86333bc7f85"
  },
  {
   "metadata": {},
   "cell_type": "markdown",
   "source": [
    "### Actividad 1\n",
    "Describa que tipo de rectas se encuentran en cada ítem y justifique su respuesta:\n",
    "| A | B | C | D |\n",
    "|:--------:|:--------:|:--------:|:--------:|\n",
    "|![](img01.png)|![](img02.png)|![](img03.png)|![](img04.png)|\n",
    "\n",
    "\n"
   ],
   "id": "d2ffabdd35174cef"
  },
  {
   "metadata": {},
   "cell_type": "markdown",
   "source": [
    "#### A:\n",
    "Transformamos a la forma general\n",
    "\n",
    "    2x - 1y = -3\n",
    "    2x - 1y = -1\n",
    "\n",
    "Dado que las rectas aparentan ser paralelas, este sistema no deberia tener solucion.\n"
   ],
   "id": "8b01212282c2179"
  },
  {
   "metadata": {
    "ExecuteTime": {
     "end_time": "2025-03-06T16:57:12.644913Z",
     "start_time": "2025-03-06T16:57:12.616720Z"
    }
   },
   "cell_type": "code",
   "source": [
    "import numpy as np\n",
    "from scipy import linalg\n",
    "from pkg.functions import print_solution, print_analysis_square\n",
    "\n",
    "\"\"\"\n",
    "Ejemplo:\n",
    "    2x - 1y = -3\n",
    "    2x - 1y = -1\n",
    "\"\"\"\n",
    "A, B = np.array([[2, -1], [2, -1]]), np.array([-3, -1])\n",
    "detA = np.linalg.det(A)\n",
    "detAx = np.linalg.det(np.column_stack((B, A[:, 1])))\n",
    "detAy = np.linalg.det(np.column_stack((A[:, 0], B)))\n",
    "print_analysis_square(detA, detAx, detAy)\n",
    "\n",
    "solution = linalg.solve(A, B)\n",
    "print_solution(solution[0], solution[1])"
   ],
   "id": "41d40fb4ed57e4d0",
   "outputs": [
    {
     "name": "stdout",
     "output_type": "stream",
     "text": [
      "Determinants: det(A) = 0.0, det(Ax) = 2.0, det(Ay) = 4.0\n",
      "The system does not have determinant and has no solution.\n"
     ]
    },
    {
     "ename": "LinAlgError",
     "evalue": "Matrix is singular.",
     "output_type": "error",
     "traceback": [
      "\u001b[0;31m---------------------------------------------------------------------------\u001b[0m",
      "\u001b[0;31mLinAlgError\u001b[0m                               Traceback (most recent call last)",
      "Cell \u001b[0;32mIn[13], line 16\u001b[0m\n\u001b[1;32m     13\u001b[0m detAy \u001b[38;5;241m=\u001b[39m np\u001b[38;5;241m.\u001b[39mlinalg\u001b[38;5;241m.\u001b[39mdet(np\u001b[38;5;241m.\u001b[39mcolumn_stack((A[:, \u001b[38;5;241m0\u001b[39m], B)))\n\u001b[1;32m     14\u001b[0m print_analysis_square(detA, detAx, detAy)\n\u001b[0;32m---> 16\u001b[0m solution \u001b[38;5;241m=\u001b[39m linalg\u001b[38;5;241m.\u001b[39msolve(A, B)\n\u001b[1;32m     17\u001b[0m print_solution(solution[\u001b[38;5;241m0\u001b[39m], solution[\u001b[38;5;241m1\u001b[39m])\n",
      "File \u001b[0;32m/opt/anaconda3/envs/esp-bigdata-dataanal/lib/python3.12/site-packages/scipy/linalg/_basic.py:265\u001b[0m, in \u001b[0;36msolve\u001b[0;34m(a, b, lower, overwrite_a, overwrite_b, check_finite, assume_a, transposed)\u001b[0m\n\u001b[1;32m    262\u001b[0m gecon, getrf, getrs \u001b[38;5;241m=\u001b[39m get_lapack_funcs((\u001b[38;5;124m'\u001b[39m\u001b[38;5;124mgecon\u001b[39m\u001b[38;5;124m'\u001b[39m, \u001b[38;5;124m'\u001b[39m\u001b[38;5;124mgetrf\u001b[39m\u001b[38;5;124m'\u001b[39m, \u001b[38;5;124m'\u001b[39m\u001b[38;5;124mgetrs\u001b[39m\u001b[38;5;124m'\u001b[39m),\n\u001b[1;32m    263\u001b[0m                                        (a1, b1))\n\u001b[1;32m    264\u001b[0m lu, ipvt, info \u001b[38;5;241m=\u001b[39m getrf(a1, overwrite_a\u001b[38;5;241m=\u001b[39moverwrite_a)\n\u001b[0;32m--> 265\u001b[0m _solve_check(n, info)\n\u001b[1;32m    266\u001b[0m x, info \u001b[38;5;241m=\u001b[39m getrs(lu, ipvt, b1,\n\u001b[1;32m    267\u001b[0m                 trans\u001b[38;5;241m=\u001b[39mtrans, overwrite_b\u001b[38;5;241m=\u001b[39moverwrite_b)\n\u001b[1;32m    268\u001b[0m _solve_check(n, info)\n",
      "File \u001b[0;32m/opt/anaconda3/envs/esp-bigdata-dataanal/lib/python3.12/site-packages/scipy/linalg/_basic.py:42\u001b[0m, in \u001b[0;36m_solve_check\u001b[0;34m(n, info, lamch, rcond)\u001b[0m\n\u001b[1;32m     40\u001b[0m     \u001b[38;5;28;01mraise\u001b[39;00m \u001b[38;5;167;01mValueError\u001b[39;00m(\u001b[38;5;124mf\u001b[39m\u001b[38;5;124m'\u001b[39m\u001b[38;5;124mLAPACK reported an illegal value in \u001b[39m\u001b[38;5;132;01m{\u001b[39;00m\u001b[38;5;241m-\u001b[39minfo\u001b[38;5;132;01m}\u001b[39;00m\u001b[38;5;124m-th argument.\u001b[39m\u001b[38;5;124m'\u001b[39m)\n\u001b[1;32m     41\u001b[0m \u001b[38;5;28;01melif\u001b[39;00m \u001b[38;5;241m0\u001b[39m \u001b[38;5;241m<\u001b[39m info:\n\u001b[0;32m---> 42\u001b[0m     \u001b[38;5;28;01mraise\u001b[39;00m LinAlgError(\u001b[38;5;124m'\u001b[39m\u001b[38;5;124mMatrix is singular.\u001b[39m\u001b[38;5;124m'\u001b[39m)\n\u001b[1;32m     44\u001b[0m \u001b[38;5;28;01mif\u001b[39;00m lamch \u001b[38;5;129;01mis\u001b[39;00m \u001b[38;5;28;01mNone\u001b[39;00m:\n\u001b[1;32m     45\u001b[0m     \u001b[38;5;28;01mreturn\u001b[39;00m\n",
      "\u001b[0;31mLinAlgError\u001b[0m: Matrix is singular."
     ]
    }
   ],
   "execution_count": 13
  },
  {
   "metadata": {},
   "cell_type": "markdown",
   "source": [
    "Aqui se puede ver que la determinante de A es 0, lo que indica que el sistema no tiene solucion.\n",
    "\n",
    "Si la determinante de A es 0, esto quiere decir que la matriz A es singular, lo que significa que no tiene inversa.\n",
    "\n",
    "Una matriz que no tiene inversa indica que el sistema no tiene solucion."
   ],
   "id": "71ec5b7dac5eec70"
  },
  {
   "metadata": {},
   "cell_type": "markdown",
   "source": [
    "#### B:\n",
    "Transformamos a la forma general\n",
    "\n",
    "    1x - 1y = -2\n",
    "    4x - 1y = +1\n",
    "\n",
    "Dado que las rectas se intersectan en el punto (1, 3), este sistema debe tener una unica solucion."
   ],
   "id": "b928e6823dcf0d96"
  },
  {
   "metadata": {},
   "cell_type": "code",
   "source": [
    "import numpy as np\n",
    "from scipy import linalg\n",
    "from pkg.functions import print_solution, print_analysis_square\n",
    "\n",
    "\"\"\"\n",
    "Ejemplo:\n",
    "    1x - 1y = -2\n",
    "    4x - 1y = +1\n",
    "\"\"\"\n",
    "A, B = np.array([[1, -1], [4, -1]]), np.array([-2, 1])\n",
    "detA = np.linalg.det(A)\n",
    "detAx = np.linalg.det(np.column_stack((B, A[:, 1])))\n",
    "detAy = np.linalg.det(np.column_stack((A[:, 0], B)))\n",
    "print_analysis_square(detA, detAx, detAy)\n",
    "\n",
    "solution = linalg.solve(A, B)\n",
    "print_solution(solution[0], solution[1])"
   ],
   "id": "b48cfae5a8934492",
   "outputs": [],
   "execution_count": null
  },
  {
   "metadata": {},
   "cell_type": "markdown",
   "source": "Aqui vemos que efectivamente el sistema tiene una unica solucion que coincide con el punto de interseccion de las rectas mostrado en la grafica.",
   "id": "6c37df21fd6eb1e5"
  },
  {
   "metadata": {},
   "cell_type": "markdown",
   "source": [
    "#### C:\n",
    "Transformamos a la forma general\n",
    "\n",
    "    1x - 1y = -2\n",
    "    -x - 1y = -2\n",
    "\n",
    "Dado que las rectas se intersectan en el punto (0, 2), este sistema debe tener una unica solucion."
   ],
   "id": "b5bb1f7d8a997660"
  },
  {
   "metadata": {},
   "cell_type": "code",
   "source": [
    "import numpy as np\n",
    "from scipy import linalg\n",
    "from pkg.functions import print_solution, print_analysis_square\n",
    "\n",
    "\"\"\"\n",
    "Ejemplo:\n",
    "    1x - 1y = -2\n",
    "    -x - 1y = -2\n",
    "\"\"\"\n",
    "A, B = np.array([[1, -1], [-1, -1]]), np.array([-2, -2])\n",
    "detA = np.linalg.det(A)\n",
    "detAx = np.linalg.det(np.column_stack((B, A[:, 1])))\n",
    "detAy = np.linalg.det(np.column_stack((A[:, 0], B)))\n",
    "print_analysis_square(detA, detAx, detAy)\n",
    "\n",
    "solution = linalg.solve(A, B)\n",
    "print_solution(solution[0], solution[1])"
   ],
   "id": "c9df7958f32264c1",
   "outputs": [],
   "execution_count": null
  },
  {
   "metadata": {},
   "cell_type": "markdown",
   "source": "Aqui vemos que efectivamente el sistema tiene una unica solucion que coincide con el punto de interseccion de las rectas mostrado en la grafica.",
   "id": "c90ab3474a789047"
  },
  {
   "metadata": {},
   "cell_type": "markdown",
   "source": [
    "#### D:\n",
    "Transformamos a la forma general\n",
    "\n",
    "     -3x - 1y = -5\n",
    "    1/3x - 1y = -2\n",
    "     -3x - 1y = -1\n",
    "\n",
    "\n",
    "Dado que las rectas se intersectan en el punto (0, 2), este sistema debe tener una unica solucion."
   ],
   "id": "c120e1938fbefd1a"
  },
  {
   "metadata": {},
   "cell_type": "code",
   "source": [
    "import numpy as np\n",
    "from scipy import linalg\n",
    "from pkg.functions import print_solution, print_analysis_not_square\n",
    "\n",
    "\"\"\"\n",
    "Ejemplo:\n",
    "     -3x - 1y = -5\n",
    "    1/3x - 1y = -2\n",
    "     -3x - 1y = -1\n",
    "\"\"\"\n",
    "A, B = np.array([[-3, -1], [1 / 3, -1], [-3, -1]]), np.array([-5, -2, -1])\n",
    "rankA, rankAB = np.linalg.matrix_rank(A), np.linalg.matrix_rank(np.column_stack((A, B)))\n",
    "print_analysis_not_square(rankA, rankAB)\n",
    "\n",
    "# solution = linalg.lstsq(A, B)\n",
    "# print_solution(solution[0][0], solution[0][1])"
   ],
   "id": "7344ac3d58aac68b",
   "outputs": [],
   "execution_count": null
  },
  {
   "metadata": {},
   "cell_type": "markdown",
   "source": [
    "### Actividad 2\n",
    "Resuelva completamente el siguiente sistema de ecuaciones lineales:\n",
    "![](img05.png)\n"
   ],
   "id": "db029141011d4cb6"
  },
  {
   "metadata": {},
   "cell_type": "markdown",
   "source": "#### A:",
   "id": "f33e1f2c095d8aa4"
  },
  {
   "metadata": {},
   "cell_type": "code",
   "source": [
    "import numpy as np\n",
    "from scipy import linalg\n",
    "from pkg.functions import print_solution, print_analysis_square\n",
    "\n",
    "\"\"\"\n",
    "Ejemplo:\n",
    "     x + 4y =  3\n",
    "    3x - 2y = -5\n",
    "\"\"\"\n",
    "A, B = np.array([[1, 4], [3, -2]]), np.array([3, -5])\n",
    "detA = np.linalg.det(A)\n",
    "detAx = np.linalg.det(np.column_stack((B, A[:, 1])))\n",
    "detAy = np.linalg.det(np.column_stack((A[:, 0], B)))\n",
    "print_analysis_square(detA, detAx, detAy)\n",
    "\n",
    "solution = linalg.solve(A, B)\n",
    "print_solution(solution[0], solution[1])"
   ],
   "id": "b6ccfcec2cbd636b",
   "outputs": [],
   "execution_count": null
  },
  {
   "metadata": {},
   "cell_type": "markdown",
   "source": "#### B:",
   "id": "3d485c1d03fa3917"
  },
  {
   "metadata": {},
   "cell_type": "code",
   "source": [
    "import numpy as np\n",
    "from scipy import linalg\n",
    "from pkg.functions import print_solution, print_analysis_square\n",
    "\n",
    "\"\"\"\n",
    "Ejemplo:\n",
    "    4x + 2y =  9\n",
    "   -4x + 5y =  5\n",
    "\"\"\"\n",
    "A, B = np.array([[4, 2], [-4, 5]]), np.array([9, 5])\n",
    "detA = np.linalg.det(A)\n",
    "detAx = np.linalg.det(np.column_stack((B, A[:, 1])))\n",
    "detAy = np.linalg.det(np.column_stack((A[:, 0], B)))\n",
    "print_analysis_square(detA, detAx, detAy)\n",
    "\n",
    "solution = linalg.solve(A, B)\n",
    "print_solution(solution[0], solution[1])"
   ],
   "id": "2aeeda55b49812ca",
   "outputs": [],
   "execution_count": null
  },
  {
   "metadata": {},
   "cell_type": "markdown",
   "source": "#### C:",
   "id": "ad075d931290b1d9"
  },
  {
   "metadata": {},
   "cell_type": "code",
   "source": [
    "import numpy as np\n",
    "from scipy import linalg\n",
    "from pkg.functions import print_solution, print_analysis_square\n",
    "\n",
    "\"\"\"\n",
    "Ejemplo:\n",
    "    4p + 12q = 6\n",
    "    2p +  6q = 3\n",
    "\"\"\"\n",
    "A, B = np.array([[4, 12], [2, 6]]), np.array([6, 3])\n",
    "detA = np.linalg.det(A)\n",
    "detAx = np.linalg.det(np.column_stack((B, A[:, 1])))\n",
    "detAy = np.linalg.det(np.column_stack((A[:, 0], B)))\n",
    "print_analysis_square(detA, detAx, detAy)\n",
    "\n",
    "solution = linalg.solve(A, B)\n",
    "print_solution(solution[0], solution[1])"
   ],
   "id": "1ed56bce5baa253a",
   "outputs": [],
   "execution_count": null
  },
  {
   "metadata": {},
   "cell_type": "markdown",
   "source": "#### D:",
   "id": "c23efc6de705a994"
  },
  {
   "metadata": {
    "ExecuteTime": {
     "end_time": "2025-03-06T16:57:16.056404Z",
     "start_time": "2025-03-06T16:57:16.052151Z"
    }
   },
   "cell_type": "code",
   "source": [
    "import numpy as np\n",
    "from scipy import linalg\n",
    "from pkg.functions import print_solution, print_analysis_square\n",
    "\n",
    "\"\"\"\n",
    "Ejemplo:\n",
    "    2/3x + 1/2y = 2\n",
    "    3/8x + 5/6y = -11/2\n",
    "\"\"\"\n",
    "A, B = np.array([[2 / 3, 1 / 2], [3 / 8, 5 / 6]]), np.array([2, -11 / 2])\n",
    "detA = np.linalg.det(A)\n",
    "detAx = np.linalg.det(np.column_stack((B, A[:, 1])))\n",
    "detAy = np.linalg.det(np.column_stack((A[:, 0], B)))\n",
    "print_analysis_square(detA, detAx, detAy)\n",
    "\n",
    "solution = linalg.solve(A, B)\n",
    "print_solution(solution[0], solution[1])"
   ],
   "id": "f867817dace39f7d",
   "outputs": [
    {
     "name": "stdout",
     "output_type": "stream",
     "text": [
      "Determinants: det(A) = 0.37, det(Ax) = 4.42, det(Ay) = -4.42\n",
      "The system does have determinant and has a unique solution.\n",
      "Solution: x = 12, y = -12\n"
     ]
    }
   ],
   "execution_count": 14
  },
  {
   "metadata": {},
   "cell_type": "markdown",
   "source": "#### E:",
   "id": "bcab8f3daf3039ac"
  },
  {
   "metadata": {
    "ExecuteTime": {
     "end_time": "2025-03-06T17:00:11.219609Z",
     "start_time": "2025-03-06T17:00:11.211118Z"
    }
   },
   "cell_type": "code",
   "source": [
    "import numpy as np\n",
    "from scipy import linalg\n",
    "from pkg.functions import print_solution, print_analysis_square\n",
    "\n",
    "\"\"\"\n",
    "Ejemplo:\n",
    "    3x + 5y = 7\n",
    "    5x + 9y = 7\n",
    "\"\"\"\n",
    "A, B = np.array([[3, 5], [5, 9]]), np.array([7, 7])\n",
    "detA = np.linalg.det(A)\n",
    "detAx = np.linalg.det(np.column_stack((B, A[:, 1])))\n",
    "detAy = np.linalg.det(np.column_stack((A[:, 0], B)))\n",
    "print_analysis_square(detA, detAx, detAy)\n",
    "\n",
    "solution = linalg.solve(A, B)\n",
    "print_solution(solution[0], solution[1])"
   ],
   "id": "a712ecdc432a364",
   "outputs": [
    {
     "name": "stdout",
     "output_type": "stream",
     "text": [
      "Determinants: det(A) = 2.0, det(Ax) = 28.0, det(Ay) = -14.0\n",
      "The system does have determinant and has a unique solution.\n",
      "Solution: x = 14, y = -7\n"
     ]
    }
   ],
   "execution_count": 15
  },
  {
   "metadata": {},
   "cell_type": "markdown",
   "source": "#### F:",
   "id": "491e8a813f36973d"
  },
  {
   "metadata": {
    "ExecuteTime": {
     "end_time": "2025-03-06T17:03:09.616874Z",
     "start_time": "2025-03-06T17:03:09.613234Z"
    }
   },
   "cell_type": "code",
   "source": [
    "import numpy as np\n",
    "from scipy import linalg\n",
    "from pkg.functions import print_solution, print_analysis_not_square\n",
    "\n",
    "\"\"\"\n",
    "Ejemplo:\n",
    "     x + 0y - 2z = 1\n",
    "    0x +  y +  z = 3\n",
    "\"\"\"\n",
    "A, B = np.array([[1, 0, -2], [0, 1, 1]]), np.array([1, 3])\n",
    "rankA, rankAB = np.linalg.matrix_rank(A), np.linalg.matrix_rank(np.column_stack((A, B)))\n",
    "print_analysis_not_square(rankA, rankAB)\n",
    "\n",
    "solution = linalg.lstsq(A, B)\n",
    "print_solution(solution[0][0], solution[0][1])"
   ],
   "id": "f4fa4bf470563f5f",
   "outputs": [
    {
     "name": "stdout",
     "output_type": "stream",
     "text": [
      "Rank: rank(A) = 2, rank(AB) = 2\n",
      "The system has a unique solution.\n",
      "Solution: x = 4/3, y = 17/6\n"
     ]
    }
   ],
   "execution_count": 18
  },
  {
   "metadata": {},
   "cell_type": "markdown",
   "source": "#### G:",
   "id": "5056554a3f2df1d3"
  },
  {
   "metadata": {
    "ExecuteTime": {
     "end_time": "2025-03-06T17:07:50.796995Z",
     "start_time": "2025-03-06T17:07:50.787111Z"
    }
   },
   "cell_type": "code",
   "source": [
    "import numpy as np\n",
    "from scipy import linalg\n",
    "from pkg.functions import print_solution, print_analysis_square\n",
    "\n",
    "\"\"\"\n",
    "Ejemplo:\n",
    "    1/2z - 1/4w = 1/6\n",
    "       z + 1/2w = 2/3\n",
    "\"\"\"\n",
    "A, B = np.array([[1 / 2, -1 / 4], [1, 1 / 2]]), np.array([1 / 6, 2 / 3])\n",
    "detA = np.linalg.det(A)\n",
    "detAx = np.linalg.det(np.column_stack((B, A[:, 1])))\n",
    "detAy = np.linalg.det(np.column_stack((A[:, 0], B)))\n",
    "print_analysis_square(detA, detAx, detAy)\n",
    "\n",
    "solution = linalg.solve(A, B)\n",
    "print_solution(solution[0], solution[1])"
   ],
   "id": "3f912a60c93b03c0",
   "outputs": [
    {
     "name": "stdout",
     "output_type": "stream",
     "text": [
      "Determinants: det(A) = 0.5, det(Ax) = 0.25, det(Ay) = 0.17\n",
      "The system does have determinant and has a unique solution.\n",
      "Solution: x = 1/2, y = 1/3\n"
     ]
    }
   ],
   "execution_count": 20
  },
  {
   "metadata": {},
   "cell_type": "markdown",
   "source": "#### H:",
   "id": "87a1ddbd9f06b62d"
  },
  {
   "metadata": {
    "ExecuteTime": {
     "end_time": "2025-03-06T17:09:13.812940Z",
     "start_time": "2025-03-06T17:09:13.808173Z"
    }
   },
   "cell_type": "code",
   "source": [
    "import numpy as np\n",
    "from scipy import linalg\n",
    "from pkg.functions import print_solution, print_analysis_square\n",
    "\n",
    "\"\"\"\n",
    "Ejemplo:\n",
    "    -p - q = -3\n",
    "    3p +2q = 19\n",
    "\"\"\"\n",
    "A, B = np.array([[-1, -1], [3, 2]]), np.array([-3, 19])\n",
    "detA = np.linalg.det(A)\n",
    "detAx = np.linalg.det(np.column_stack((B, A[:, 1])))\n",
    "detAy = np.linalg.det(np.column_stack((A[:, 0], B)))\n",
    "print_analysis_square(detA, detAx, detAy)\n",
    "\n",
    "solution = linalg.solve(A, B)\n",
    "print_solution(solution[0], solution[1])"
   ],
   "id": "b4108da74f8ec17b",
   "outputs": [
    {
     "name": "stdout",
     "output_type": "stream",
     "text": [
      "Determinants: det(A) = 1.0, det(Ax) = 13.0, det(Ay) = -10.0\n",
      "The system does have determinant and has a unique solution.\n",
      "Solution: x = 13, y = -10\n"
     ]
    }
   ],
   "execution_count": 21
  }
 ],
 "metadata": {
  "kernelspec": {
   "display_name": "Python 3",
   "language": "python",
   "name": "python3"
  },
  "language_info": {
   "codemirror_mode": {
    "name": "ipython",
    "version": 2
   },
   "file_extension": ".py",
   "mimetype": "text/x-python",
   "name": "python",
   "nbconvert_exporter": "python",
   "pygments_lexer": "ipython2",
   "version": "2.7.6"
  }
 },
 "nbformat": 4,
 "nbformat_minor": 5
}
