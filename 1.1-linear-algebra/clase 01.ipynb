{
 "cells": [
  {
   "metadata": {},
   "cell_type": "markdown",
   "source": [
    "# Sistema de Ecuaciones Lineales\n",
    "\n",
    "* Ecuacion: relacion de igualdad entre dos expresiones algebraicas\n",
    "* Lineal: linealidad, variables elevadas a la primera potencia\n",
    "\n",
    "### Forma general de una ecuacion lineal:\n",
    "    a1x1 + a2x2 + ... + anxn = b\n",
    "\n",
    "### Sistema de ecuaciones lineales:\n",
    "    a1x + b1y = c1\n",
    "    a2x + b2y = c2\n",
    "\n"
   ],
   "id": "e5d7bed33dff82f3"
  },
  {
   "metadata": {},
   "cell_type": "markdown",
   "source": [
    "#### Ejemplo A:\n",
    "    3x + 2y = 1\n",
    "    1x - 1y = 0\n"
   ],
   "id": "b1a1d546eabfe30a"
  },
  {
   "metadata": {
    "ExecuteTime": {
     "end_time": "2025-03-06T19:47:53.883884Z",
     "start_time": "2025-03-06T19:47:53.879973Z"
    }
   },
   "cell_type": "code",
   "source": [
    "import numpy as np\n",
    "from pkg.functions import print_solution, print_analysis_square\n",
    "\n",
    "\"\"\"\n",
    "Ejemplo:\n",
    "    3x + 2y = 1\n",
    "    1x - 1y = 0\n",
    "\"\"\"\n",
    "A, B = np.array([[3, 2], [1, -1]]), np.array([1, 0])\n",
    "\n",
    "detA = np.linalg.det(A)\n",
    "detAx = np.linalg.det(np.column_stack((B, A[:, 1])))\n",
    "detAy = np.linalg.det(np.column_stack((A[:, 0], B)))\n",
    "print_analysis_square(detA, detAx, detAy)\n",
    "\n",
    "solution = np.linalg.solve(A, B)\n",
    "print_solution(solution[0], solution[1])"
   ],
   "id": "124438698eb8fdb7",
   "outputs": [
    {
     "name": "stdout",
     "output_type": "stream",
     "text": [
      "Determinants: det(A) = -5.0, det(Ax) = -1.0, det(Ay) = -1.0\n",
      "The system does have determinant and has a unique solution.\n",
      "Solution: x = 1/5, y = 1/5\n"
     ]
    }
   ],
   "execution_count": 27
  },
  {
   "metadata": {},
   "cell_type": "markdown",
   "source": [
    "#### Ejemplo B:\n",
    "    1x + 4y =  3\n",
    "    3x - 2y = -5"
   ],
   "id": "72dd7c854c6cb73a"
  },
  {
   "metadata": {
    "ExecuteTime": {
     "end_time": "2025-03-06T19:47:53.914562Z",
     "start_time": "2025-03-06T19:47:53.911847Z"
    }
   },
   "cell_type": "code",
   "source": [
    "import numpy as np\n",
    "from pkg.functions import print_solution, print_analysis_square\n",
    "\n",
    "\"\"\"\n",
    "Ejemplo:\n",
    "    1x + 4y =  3\n",
    "    3x - 2y = -5\n",
    "\"\"\"\n",
    "A, B = np.array([[1, 4], [3, -2]]), np.array([3, -5])\n",
    "detA = np.linalg.det(A)\n",
    "detAx = np.linalg.det(np.column_stack((B, A[:, 1])))\n",
    "detAy = np.linalg.det(np.column_stack((A[:, 0], B)))\n",
    "print_analysis_square(detA, detAx, detAy)\n",
    "\n",
    "solution = np.linalg.solve(A, B)\n",
    "print_solution(solution[0], solution[1])"
   ],
   "id": "98fb6f7aa6370a81",
   "outputs": [
    {
     "name": "stdout",
     "output_type": "stream",
     "text": [
      "Determinants: det(A) = -14.0, det(Ax) = 14.0, det(Ay) = -14.0\n",
      "The system does have determinant and has a unique solution.\n",
      "Solution: x = -1, y = 1\n"
     ]
    }
   ],
   "execution_count": 28
  },
  {
   "metadata": {},
   "cell_type": "markdown",
   "source": "### Taller Clase 01\n",
   "id": "f7c0b86333bc7f85"
  },
  {
   "metadata": {},
   "cell_type": "markdown",
   "source": [
    "### Actividad 1\n",
    "Describa que tipo de rectas se encuentran en cada ítem y justifique su respuesta:\n",
    "| A | B | C | D |\n",
    "|:--------:|:--------:|:--------:|:--------:|\n",
    "|![](resources/img01.png)|![](resources/img02.png)|![](resources/img03.png)|![](resources/img04.png)|\n",
    "\n",
    "\n"
   ],
   "id": "d2ffabdd35174cef"
  },
  {
   "metadata": {},
   "cell_type": "markdown",
   "source": [
    "#### A:\n",
    "Transformamos a la forma general\n",
    "\n",
    "    2x - 1y = -3\n",
    "    2x - 1y = -1\n",
    "\n",
    "Dado que las rectas aparentan ser paralelas, este sistema no deberia tener solucion.\n"
   ],
   "id": "8b01212282c2179"
  },
  {
   "metadata": {
    "ExecuteTime": {
     "end_time": "2025-03-06T19:47:53.949888Z",
     "start_time": "2025-03-06T19:47:53.935329Z"
    }
   },
   "cell_type": "code",
   "source": [
    "import numpy as np\n",
    "from pkg.functions import print_solution, print_analysis_square\n",
    "\n",
    "\"\"\"\n",
    "Ejemplo:\n",
    "    2x - 1y = -3\n",
    "    2x - 1y = -1\n",
    "\"\"\"\n",
    "A, B = np.array([[2, -1], [2, -1]]), np.array([-3, -1])\n",
    "detA = np.linalg.det(A)\n",
    "detAx = np.linalg.det(np.column_stack((B, A[:, 1])))\n",
    "detAy = np.linalg.det(np.column_stack((A[:, 0], B)))\n",
    "print_analysis_square(detA, detAx, detAy)\n",
    "\n",
    "solution = np.linalg.solve(A, B)\n",
    "print_solution(solution[0], solution[1])"
   ],
   "id": "e9f3ac3764bbafd2",
   "outputs": [
    {
     "name": "stdout",
     "output_type": "stream",
     "text": [
      "Determinants: det(A) = 0.0, det(Ax) = 2.0, det(Ay) = 4.0\n",
      "The system does not have determinant and has no solution.\n"
     ]
    },
    {
     "ename": "LinAlgError",
     "evalue": "Singular matrix",
     "output_type": "error",
     "traceback": [
      "\u001B[0;31m---------------------------------------------------------------------------\u001B[0m",
      "\u001B[0;31mLinAlgError\u001B[0m                               Traceback (most recent call last)",
      "Cell \u001B[0;32mIn[29], line 15\u001B[0m\n\u001B[1;32m     12\u001B[0m detAy \u001B[38;5;241m=\u001B[39m np\u001B[38;5;241m.\u001B[39mlinalg\u001B[38;5;241m.\u001B[39mdet(np\u001B[38;5;241m.\u001B[39mcolumn_stack((A[:, \u001B[38;5;241m0\u001B[39m], B)))\n\u001B[1;32m     13\u001B[0m print_analysis_square(detA, detAx, detAy)\n\u001B[0;32m---> 15\u001B[0m solution \u001B[38;5;241m=\u001B[39m np\u001B[38;5;241m.\u001B[39mlinalg\u001B[38;5;241m.\u001B[39msolve(A, B)\n\u001B[1;32m     16\u001B[0m print_solution(solution[\u001B[38;5;241m0\u001B[39m], solution[\u001B[38;5;241m1\u001B[39m])\n",
      "File \u001B[0;32m/opt/anaconda3/envs/esp-bigdata-dataanal/lib/python3.12/site-packages/numpy/linalg/_linalg.py:410\u001B[0m, in \u001B[0;36msolve\u001B[0;34m(a, b)\u001B[0m\n\u001B[1;32m    407\u001B[0m signature \u001B[38;5;241m=\u001B[39m \u001B[38;5;124m'\u001B[39m\u001B[38;5;124mDD->D\u001B[39m\u001B[38;5;124m'\u001B[39m \u001B[38;5;28;01mif\u001B[39;00m isComplexType(t) \u001B[38;5;28;01melse\u001B[39;00m \u001B[38;5;124m'\u001B[39m\u001B[38;5;124mdd->d\u001B[39m\u001B[38;5;124m'\u001B[39m\n\u001B[1;32m    408\u001B[0m \u001B[38;5;28;01mwith\u001B[39;00m errstate(call\u001B[38;5;241m=\u001B[39m_raise_linalgerror_singular, invalid\u001B[38;5;241m=\u001B[39m\u001B[38;5;124m'\u001B[39m\u001B[38;5;124mcall\u001B[39m\u001B[38;5;124m'\u001B[39m,\n\u001B[1;32m    409\u001B[0m               over\u001B[38;5;241m=\u001B[39m\u001B[38;5;124m'\u001B[39m\u001B[38;5;124mignore\u001B[39m\u001B[38;5;124m'\u001B[39m, divide\u001B[38;5;241m=\u001B[39m\u001B[38;5;124m'\u001B[39m\u001B[38;5;124mignore\u001B[39m\u001B[38;5;124m'\u001B[39m, under\u001B[38;5;241m=\u001B[39m\u001B[38;5;124m'\u001B[39m\u001B[38;5;124mignore\u001B[39m\u001B[38;5;124m'\u001B[39m):\n\u001B[0;32m--> 410\u001B[0m     r \u001B[38;5;241m=\u001B[39m gufunc(a, b, signature\u001B[38;5;241m=\u001B[39msignature)\n\u001B[1;32m    412\u001B[0m \u001B[38;5;28;01mreturn\u001B[39;00m wrap(r\u001B[38;5;241m.\u001B[39mastype(result_t, copy\u001B[38;5;241m=\u001B[39m\u001B[38;5;28;01mFalse\u001B[39;00m))\n",
      "File \u001B[0;32m/opt/anaconda3/envs/esp-bigdata-dataanal/lib/python3.12/site-packages/numpy/linalg/_linalg.py:104\u001B[0m, in \u001B[0;36m_raise_linalgerror_singular\u001B[0;34m(err, flag)\u001B[0m\n\u001B[1;32m    103\u001B[0m \u001B[38;5;28;01mdef\u001B[39;00m \u001B[38;5;21m_raise_linalgerror_singular\u001B[39m(err, flag):\n\u001B[0;32m--> 104\u001B[0m     \u001B[38;5;28;01mraise\u001B[39;00m LinAlgError(\u001B[38;5;124m\"\u001B[39m\u001B[38;5;124mSingular matrix\u001B[39m\u001B[38;5;124m\"\u001B[39m)\n",
      "\u001B[0;31mLinAlgError\u001B[0m: Singular matrix"
     ]
    }
   ],
   "execution_count": 29
  },
  {
   "metadata": {},
   "cell_type": "markdown",
   "source": [
    "Aqui se puede ver que la determinante de A es 0, lo que indica que el sistema no tiene solucion.\n",
    "\n",
    "Si la determinante de A es 0, esto quiere decir que la matriz A es singular, lo que significa que no tiene inversa.\n",
    "\n",
    "Una matriz que no tiene inversa indica que el sistema no tiene solucion."
   ],
   "id": "71ec5b7dac5eec70"
  },
  {
   "metadata": {},
   "cell_type": "markdown",
   "source": [
    "#### B:\n",
    "Transformamos a la forma general\n",
    "\n",
    "    1x - 1y = -2\n",
    "    4x - 1y = +1\n",
    "\n",
    "Dado que las rectas se intersectan en el punto (1, 3), este sistema debe tener una unica solucion."
   ],
   "id": "b928e6823dcf0d96"
  },
  {
   "metadata": {},
   "cell_type": "code",
   "outputs": [],
   "execution_count": null,
   "source": [
    "import numpy as np\n",
    "from pkg.functions import print_solution, print_analysis_square\n",
    "\n",
    "\"\"\"\n",
    "Ejemplo:\n",
    "    1x - 1y = -2\n",
    "    4x - 1y = +1\n",
    "\"\"\"\n",
    "A, B = np.array([[1, -1], [4, -1]]), np.array([-2, 1])\n",
    "detA = np.linalg.det(A)\n",
    "detAx = np.linalg.det(np.column_stack((B, A[:, 1])))\n",
    "detAy = np.linalg.det(np.column_stack((A[:, 0], B)))\n",
    "print_analysis_square(detA, detAx, detAy)\n",
    "\n",
    "solution = np.linalg.solve(A, B)\n",
    "print_solution(solution[0], solution[1])"
   ],
   "id": "2047d1c28ad5abab"
  },
  {
   "metadata": {},
   "cell_type": "markdown",
   "source": "Aqui vemos que efectivamente el sistema tiene una unica solucion que coincide con el punto de interseccion de las rectas mostrado en la grafica.",
   "id": "6c37df21fd6eb1e5"
  },
  {
   "metadata": {},
   "cell_type": "markdown",
   "source": [
    "#### C:\n",
    "Transformamos a la forma general\n",
    "\n",
    "    1x - 1y = -2\n",
    "    -x - 1y = -2\n",
    "\n",
    "Dado que las rectas se intersectan en el punto (0, 2), este sistema debe tener una unica solucion."
   ],
   "id": "b5bb1f7d8a997660"
  },
  {
   "metadata": {
    "ExecuteTime": {
     "end_time": "2025-03-06T19:47:53.954461Z",
     "start_time": "2025-03-06T19:47:50.598067Z"
    }
   },
   "cell_type": "code",
   "source": [
    "import numpy as np\n",
    "from pkg.functions import print_solution, print_analysis_square\n",
    "\n",
    "\"\"\"\n",
    "Ejemplo:\n",
    "    1x - 1y = -2\n",
    "    -x - 1y = -2\n",
    "\"\"\"\n",
    "A, B = np.array([[1, -1], [-1, -1]]), np.array([-2, -2])\n",
    "detA = np.linalg.det(A)\n",
    "detAx = np.linalg.det(np.column_stack((B, A[:, 1])))\n",
    "detAy = np.linalg.det(np.column_stack((A[:, 0], B)))\n",
    "print_analysis_square(detA, detAx, detAy)\n",
    "\n",
    "solution = np.linalg.solve(A, B)\n",
    "print_solution(solution[0], solution[1])"
   ],
   "id": "9383363d1310a270",
   "outputs": [
    {
     "name": "stdout",
     "output_type": "stream",
     "text": [
      "Determinants: det(A) = -2.0, det(Ax) = 0.0, det(Ay) = -4.0\n",
      "The system does have determinant and has a unique solution.\n",
      "Solution: x = 0, y = 2\n"
     ]
    }
   ],
   "execution_count": 26
  },
  {
   "metadata": {},
   "cell_type": "markdown",
   "source": "Aqui vemos que efectivamente el sistema tiene una unica solucion que coincide con el punto de interseccion de las rectas mostrado en la grafica.",
   "id": "c90ab3474a789047"
  },
  {
   "metadata": {},
   "cell_type": "markdown",
   "source": [
    "#### D:\n",
    "Transformamos a la forma general\n",
    "\n",
    "     -3x - 1y = -5\n",
    "    1/3x - 1y = -2\n",
    "     -3x - 1y = -1\n",
    "\n",
    "\n",
    "Dado que las rectas se intersectan en el punto (0, 2), este sistema debe tener una unica solucion."
   ],
   "id": "c120e1938fbefd1a"
  },
  {
   "metadata": {
    "ExecuteTime": {
     "end_time": "2025-03-06T19:47:56.852130Z",
     "start_time": "2025-03-06T19:47:56.847511Z"
    }
   },
   "cell_type": "code",
   "source": [
    "import numpy as np\n",
    "from pkg.functions import print_solution, print_analysis_not_square\n",
    "\n",
    "\"\"\"\n",
    "Ejemplo:\n",
    "     -3x - 1y = -5\n",
    "    1/3x - 1y = -2\n",
    "     -3x - 1y = -1\n",
    "\"\"\"\n",
    "A, B = np.array([[-3, -1], [1 / 3, -1], [-3, -1]]), np.array([-5, -2, -1])\n",
    "rankA, rankAB = np.linalg.matrix_rank(A), np.linalg.matrix_rank(np.column_stack((A, B)))\n",
    "print_analysis_not_square(rankA, rankAB)\n",
    "\n",
    "# solution = np.linalg.lstsq(A, B)\n",
    "# print_solution(solution[0][0], solution[0][1])"
   ],
   "id": "c4ac3fcf42f23560",
   "outputs": [
    {
     "name": "stdout",
     "output_type": "stream",
     "text": [
      "Rank: rank(A) = 2, rank(AB) = 3\n",
      "The system has no solution.\n"
     ]
    }
   ],
   "execution_count": 30
  },
  {
   "metadata": {},
   "cell_type": "markdown",
   "source": [
    "### Actividad 2\n",
    "Resuelva completamente el siguiente sistema de ecuaciones lineales:\n",
    "![](resources/img05.png)\n"
   ],
   "id": "db029141011d4cb6"
  },
  {
   "metadata": {},
   "cell_type": "markdown",
   "source": "#### A:",
   "id": "f33e1f2c095d8aa4"
  },
  {
   "metadata": {},
   "cell_type": "code",
   "outputs": [],
   "execution_count": null,
   "source": [
    "import numpy as np\n",
    "from pkg.functions import print_solution, print_analysis_square\n",
    "\n",
    "\"\"\"\n",
    "Ejemplo:\n",
    "     x + 4y =  3\n",
    "    3x - 2y = -5\n",
    "\"\"\"\n",
    "A, B = np.array([[1, 4], [3, -2]]), np.array([3, -5])\n",
    "detA = np.linalg.det(A)\n",
    "detAx = np.linalg.det(np.column_stack((B, A[:, 1])))\n",
    "detAy = np.linalg.det(np.column_stack((A[:, 0], B)))\n",
    "print_analysis_square(detA, detAx, detAy)\n",
    "\n",
    "solution = np.linalg.solve(A, B)\n",
    "print_solution(solution[0], solution[1])"
   ],
   "id": "f31d234f33b81f47"
  },
  {
   "metadata": {},
   "cell_type": "markdown",
   "source": "#### B:",
   "id": "3d485c1d03fa3917"
  },
  {
   "metadata": {},
   "cell_type": "code",
   "outputs": [],
   "execution_count": null,
   "source": [
    "import numpy as np\n",
    "from pkg.functions import print_solution, print_analysis_square\n",
    "\n",
    "\"\"\"\n",
    "Ejemplo:\n",
    "    4x + 2y =  9\n",
    "   -4x + 5y =  5\n",
    "\"\"\"\n",
    "A, B = np.array([[4, 2], [-4, 5]]), np.array([9, 5])\n",
    "detA = np.linalg.det(A)\n",
    "detAx = np.linalg.det(np.column_stack((B, A[:, 1])))\n",
    "detAy = np.linalg.det(np.column_stack((A[:, 0], B)))\n",
    "print_analysis_square(detA, detAx, detAy)\n",
    "\n",
    "solution = np.linalg.solve(A, B)\n",
    "print_solution(solution[0], solution[1])"
   ],
   "id": "8f140a8b1d9717f"
  },
  {
   "metadata": {},
   "cell_type": "markdown",
   "source": "#### C:",
   "id": "ad075d931290b1d9"
  },
  {
   "metadata": {},
   "cell_type": "code",
   "outputs": [],
   "execution_count": null,
   "source": [
    "import numpy as np\n",
    "from pkg.functions import print_solution, print_analysis_square\n",
    "\n",
    "\"\"\"\n",
    "Ejemplo:\n",
    "    4p + 12q = 6\n",
    "    2p +  6q = 3\n",
    "\"\"\"\n",
    "A, B = np.array([[4, 12], [2, 6]]), np.array([6, 3])\n",
    "detA = np.linalg.det(A)\n",
    "detAx = np.linalg.det(np.column_stack((B, A[:, 1])))\n",
    "detAy = np.linalg.det(np.column_stack((A[:, 0], B)))\n",
    "print_analysis_square(detA, detAx, detAy)\n",
    "\n",
    "solution = np.linalg.solve(A, B)\n",
    "print_solution(solution[0], solution[1])"
   ],
   "id": "e63c40a372c806d6"
  },
  {
   "metadata": {},
   "cell_type": "markdown",
   "source": "#### D:",
   "id": "c23efc6de705a994"
  },
  {
   "metadata": {},
   "cell_type": "code",
   "outputs": [],
   "execution_count": null,
   "source": [
    "import numpy as np\n",
    "from pkg.functions import print_solution, print_analysis_square\n",
    "\n",
    "\"\"\"\n",
    "Ejemplo:\n",
    "    2/3x + 1/2y = 2\n",
    "    3/8x + 5/6y = -11/2\n",
    "\"\"\"\n",
    "A, B = np.array([[2 / 3, 1 / 2], [3 / 8, 5 / 6]]), np.array([2, -11 / 2])\n",
    "detA = np.linalg.det(A)\n",
    "detAx = np.linalg.det(np.column_stack((B, A[:, 1])))\n",
    "detAy = np.linalg.det(np.column_stack((A[:, 0], B)))\n",
    "print_analysis_square(detA, detAx, detAy)\n",
    "\n",
    "solution = np.linalg.solve(A, B)\n",
    "print_solution(solution[0], solution[1])"
   ],
   "id": "9be6a52e8741affb"
  },
  {
   "metadata": {},
   "cell_type": "markdown",
   "source": "#### E:",
   "id": "bcab8f3daf3039ac"
  },
  {
   "metadata": {},
   "cell_type": "code",
   "outputs": [],
   "execution_count": null,
   "source": [
    "import numpy as np\n",
    "from pkg.functions import print_solution, print_analysis_square\n",
    "\n",
    "\"\"\"\n",
    "Ejemplo:\n",
    "    3x + 5y = 7\n",
    "    5x + 9y = 7\n",
    "\"\"\"\n",
    "A, B = np.array([[3, 5], [5, 9]]), np.array([7, 7])\n",
    "detA = np.linalg.det(A)\n",
    "detAx = np.linalg.det(np.column_stack((B, A[:, 1])))\n",
    "detAy = np.linalg.det(np.column_stack((A[:, 0], B)))\n",
    "print_analysis_square(detA, detAx, detAy)\n",
    "\n",
    "solution = np.linalg.solve(A, B)\n",
    "print_solution(solution[0], solution[1])"
   ],
   "id": "7991226b650e7384"
  },
  {
   "metadata": {},
   "cell_type": "markdown",
   "source": "#### F:",
   "id": "491e8a813f36973d"
  },
  {
   "metadata": {},
   "cell_type": "code",
   "outputs": [],
   "execution_count": null,
   "source": [
    "import numpy as np\n",
    "from pkg.functions import print_solution, print_analysis_not_square\n",
    "\n",
    "\"\"\"\n",
    "Ejemplo:\n",
    "     x + 0y - 2z = 1\n",
    "    0x +  y +  z = 3\n",
    "\"\"\"\n",
    "A, B = np.array([[1, 0, -2], [0, 1, 1]]), np.array([1, 3])\n",
    "rankA, rankAB = np.linalg.matrix_rank(A), np.linalg.matrix_rank(np.column_stack((A, B)))\n",
    "print_analysis_not_square(rankA, rankAB)\n",
    "\n",
    "solution = np.linalg.lstsq(A, B)\n",
    "print_solution(solution[0][0], solution[0][1])"
   ],
   "id": "2e5d1559bcfd2c14"
  },
  {
   "metadata": {},
   "cell_type": "markdown",
   "source": "#### G:",
   "id": "5056554a3f2df1d3"
  },
  {
   "metadata": {},
   "cell_type": "code",
   "outputs": [],
   "execution_count": null,
   "source": [
    "import numpy as np\n",
    "from pkg.functions import print_solution, print_analysis_square\n",
    "\n",
    "\"\"\"\n",
    "Ejemplo:\n",
    "    1/2z - 1/4w = 1/6\n",
    "       z + 1/2w = 2/3\n",
    "\"\"\"\n",
    "A, B = np.array([[1 / 2, -1 / 4], [1, 1 / 2]]), np.array([1 / 6, 2 / 3])\n",
    "detA = np.linalg.det(A)\n",
    "detAx = np.linalg.det(np.column_stack((B, A[:, 1])))\n",
    "detAy = np.linalg.det(np.column_stack((A[:, 0], B)))\n",
    "print_analysis_square(detA, detAx, detAy)\n",
    "\n",
    "solution = np.linalg.solve(A, B)\n",
    "print_solution(solution[0], solution[1])"
   ],
   "id": "b6a00f3cb770bfb"
  },
  {
   "metadata": {},
   "cell_type": "markdown",
   "source": "#### H:",
   "id": "87a1ddbd9f06b62d"
  },
  {
   "metadata": {
    "ExecuteTime": {
     "end_time": "2025-03-06T19:50:08.088404Z",
     "start_time": "2025-03-06T19:50:08.079071Z"
    }
   },
   "cell_type": "code",
   "source": [
    "import numpy as np\n",
    "from pkg.functions import print_solution, print_analysis_square\n",
    "\n",
    "\"\"\"\n",
    "Ejemplo:\n",
    "    -p - q = -3\n",
    "    3p +2q = 19\n",
    "\"\"\"\n",
    "A, B = np.array([[-1, -1], [3, 2]]), np.array([-3, 19])\n",
    "detA = np.linalg.det(A)\n",
    "detAx = np.linalg.det(np.column_stack((B, A[:, 1])))\n",
    "detAy = np.linalg.det(np.column_stack((A[:, 0], B)))\n",
    "print_analysis_square(detA, detAx, detAy)\n",
    "\n",
    "solution = np.linalg.solve(A, B)\n",
    "print_solution(solution[0], solution[1])"
   ],
   "id": "313643dc06766c14",
   "outputs": [
    {
     "name": "stdout",
     "output_type": "stream",
     "text": [
      "Determinants: det(A) = 1.0, det(Ax) = 13.0, det(Ay) = -10.0\n",
      "The system does have determinant and has a unique solution.\n",
      "Solution: x = 13, y = -10\n"
     ]
    }
   ],
   "execution_count": 32
  }
 ],
 "metadata": {
  "kernelspec": {
   "display_name": "Python 3",
   "language": "python",
   "name": "python3"
  },
  "language_info": {
   "codemirror_mode": {
    "name": "ipython",
    "version": 2
   },
   "file_extension": ".py",
   "mimetype": "text/x-python",
   "name": "python",
   "nbconvert_exporter": "python",
   "pygments_lexer": "ipython2",
   "version": "2.7.6"
  }
 },
 "nbformat": 4,
 "nbformat_minor": 5
}
