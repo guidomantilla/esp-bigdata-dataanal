{
 "cells": [
  {
   "metadata": {},
   "cell_type": "markdown",
   "source": [
    "# Sistema de Ecuaciones Lineales\n",
    "\n",
    "* Ecuacion: relacion de igualdad entre dos expresiones algebraicas\n",
    "* Lineal: linealidad, variables elevadas a la primera potencia\n",
    "\n",
    "### Forma general de una ecuacion lineal:\n",
    "    a1x1 + a2x2 + ... + anxn = b\n",
    "\n",
    "### Sistema de ecuaciones lineales:\n",
    "    a1x + b1y = c1\n",
    "    a2x + b2y = c2\n",
    "\n"
   ],
   "id": "93be57b0989d083f"
  },
  {
   "metadata": {},
   "cell_type": "markdown",
   "source": [
    "#### Ejemplo A:\n",
    "    3x + 2y = 1\n",
    "    1x - 1y = 0\n"
   ],
   "id": "7b32b67d9f3f5c6a"
  },
  {
   "metadata": {
    "ExecuteTime": {
     "end_time": "2025-03-10T11:56:51.751078Z",
     "start_time": "2025-03-10T11:56:51.748310Z"
    }
   },
   "cell_type": "code",
   "source": [
    "import numpy as np\n",
    "from pkg.functions import print_solution, print_analysis_square\n",
    "\n",
    "\"\"\"\n",
    "Ejemplo:\n",
    "    3x + 2y = 1\n",
    "    1x - 1y = 0\n",
    "\"\"\"\n",
    "A, B = np.array([[3, 2], [1, -1]]), np.array([1, 0])\n",
    "\n",
    "detA = np.linalg.det(A)\n",
    "detAx = np.linalg.det(np.column_stack((B, A[:, 1])))\n",
    "detAy = np.linalg.det(np.column_stack((A[:, 0], B)))\n",
    "print_analysis_square(detA, detAx, detAy)\n",
    "\n",
    "solution = np.linalg.solve(A, B)\n",
    "print_solution(solution[0], solution[1])"
   ],
   "id": "4c2dd5a8c30e2ced",
   "outputs": [
    {
     "name": "stdout",
     "output_type": "stream",
     "text": [
      "Determinants: det(A) = -5.0, det(Ax) = -1.0, det(Ay) = -1.0\n",
      "The system does have determinant and has a unique solution.\n",
      "Solution: x = 1/5, y = 1/5\n"
     ]
    }
   ],
   "execution_count": 6
  },
  {
   "metadata": {},
   "cell_type": "markdown",
   "source": [
    "#### Ejemplo B:\n",
    "    1x + 4y =  3\n",
    "    3x - 2y = -5"
   ],
   "id": "b9f03b97d1ee7063"
  },
  {
   "metadata": {
    "ExecuteTime": {
     "end_time": "2025-03-10T11:56:51.768037Z",
     "start_time": "2025-03-10T11:56:51.765305Z"
    }
   },
   "cell_type": "code",
   "source": [
    "import numpy as np\n",
    "from pkg.functions import print_solution, print_analysis_square\n",
    "\n",
    "\"\"\"\n",
    "Ejemplo:\n",
    "    1x + 4y =  3\n",
    "    3x - 2y = -5\n",
    "\"\"\"\n",
    "A, B = np.array([[1, 4], [3, -2]]), np.array([3, -5])\n",
    "detA = np.linalg.det(A)\n",
    "detAx = np.linalg.det(np.column_stack((B, A[:, 1])))\n",
    "detAy = np.linalg.det(np.column_stack((A[:, 0], B)))\n",
    "print_analysis_square(detA, detAx, detAy)\n",
    "\n",
    "solution = np.linalg.solve(A, B)\n",
    "print_solution(solution[0], solution[1])"
   ],
   "id": "2990eab2c9bb25fc",
   "outputs": [
    {
     "name": "stdout",
     "output_type": "stream",
     "text": [
      "Determinants: det(A) = -14.0, det(Ax) = 14.0, det(Ay) = -14.0\n",
      "The system does have determinant and has a unique solution.\n",
      "Solution: x = -1, y = 1\n"
     ]
    }
   ],
   "execution_count": 7
  },
  {
   "metadata": {},
   "cell_type": "markdown",
   "source": "### Taller Clase 01\n",
   "id": "c21038a413d77d74"
  },
  {
   "metadata": {},
   "cell_type": "markdown",
   "source": [
    "### Actividad 1\n",
    "Describa que tipo de rectas se encuentran en cada ítem y justifique su respuesta:\n",
    "| A | B | C | D |\n",
    "|:--------:|:--------:|:--------:|:--------:|\n",
    "|![](resources/img01.png)|![](resources/img02.png)|![](resources/img03.png)|![](resources/img04.png)|\n",
    "\n",
    "\n"
   ],
   "id": "6959fa8a40f24087"
  },
  {
   "metadata": {},
   "cell_type": "markdown",
   "source": [
    "#### A:\n",
    "Transformamos a la forma general\n",
    "\n",
    "    2x - 1y = -3\n",
    "    2x - 1y = -1\n",
    "\n",
    "Dado que las rectas aparentan ser paralelas, este sistema no deberia tener solucion.\n"
   ],
   "id": "27318546cdd7550e"
  },
  {
   "metadata": {
    "ExecuteTime": {
     "end_time": "2025-03-10T11:56:51.814509Z",
     "start_time": "2025-03-10T11:56:51.788186Z"
    }
   },
   "cell_type": "code",
   "source": [
    "import numpy as np\n",
    "from pkg.functions import print_solution, print_analysis_square\n",
    "\n",
    "\"\"\"\n",
    "Ejemplo:\n",
    "    2x - 1y = -3\n",
    "    2x - 1y = -1\n",
    "\"\"\"\n",
    "A, B = np.array([[2, -1], [2, -1]]), np.array([-3, -1])\n",
    "detA = np.linalg.det(A)\n",
    "detAx = np.linalg.det(np.column_stack((B, A[:, 1])))\n",
    "detAy = np.linalg.det(np.column_stack((A[:, 0], B)))\n",
    "print_analysis_square(detA, detAx, detAy)\n",
    "\n",
    "solution = np.linalg.solve(A, B)\n",
    "print_solution(solution[0], solution[1])"
   ],
   "id": "115ec4573c94d132",
   "outputs": [
    {
     "name": "stdout",
     "output_type": "stream",
     "text": [
      "Determinants: det(A) = 0.0, det(Ax) = 2.0, det(Ay) = 4.0\n",
      "The system does not have determinant and has no solution.\n"
     ]
    },
    {
     "ename": "LinAlgError",
     "evalue": "Singular matrix",
     "output_type": "error",
     "traceback": [
      "\u001B[31m---------------------------------------------------------------------------\u001B[39m",
      "\u001B[31mLinAlgError\u001B[39m                               Traceback (most recent call last)",
      "\u001B[36mCell\u001B[39m\u001B[36m \u001B[39m\u001B[32mIn[8]\u001B[39m\u001B[32m, line 15\u001B[39m\n\u001B[32m     12\u001B[39m detAy = np.linalg.det(np.column_stack((A[:, \u001B[32m0\u001B[39m], B)))\n\u001B[32m     13\u001B[39m print_analysis_square(detA, detAx, detAy)\n\u001B[32m---> \u001B[39m\u001B[32m15\u001B[39m solution = \u001B[43mnp\u001B[49m\u001B[43m.\u001B[49m\u001B[43mlinalg\u001B[49m\u001B[43m.\u001B[49m\u001B[43msolve\u001B[49m\u001B[43m(\u001B[49m\u001B[43mA\u001B[49m\u001B[43m,\u001B[49m\u001B[43m \u001B[49m\u001B[43mB\u001B[49m\u001B[43m)\u001B[49m\n\u001B[32m     16\u001B[39m print_solution(solution[\u001B[32m0\u001B[39m], solution[\u001B[32m1\u001B[39m])\n",
      "\u001B[36mFile \u001B[39m\u001B[32m/opt/anaconda3/envs/esp-bigdata-dataanal/lib/python3.12/site-packages/numpy/linalg/_linalg.py:410\u001B[39m, in \u001B[36msolve\u001B[39m\u001B[34m(a, b)\u001B[39m\n\u001B[32m    407\u001B[39m signature = \u001B[33m'\u001B[39m\u001B[33mDD->D\u001B[39m\u001B[33m'\u001B[39m \u001B[38;5;28;01mif\u001B[39;00m isComplexType(t) \u001B[38;5;28;01melse\u001B[39;00m \u001B[33m'\u001B[39m\u001B[33mdd->d\u001B[39m\u001B[33m'\u001B[39m\n\u001B[32m    408\u001B[39m \u001B[38;5;28;01mwith\u001B[39;00m errstate(call=_raise_linalgerror_singular, invalid=\u001B[33m'\u001B[39m\u001B[33mcall\u001B[39m\u001B[33m'\u001B[39m,\n\u001B[32m    409\u001B[39m               over=\u001B[33m'\u001B[39m\u001B[33mignore\u001B[39m\u001B[33m'\u001B[39m, divide=\u001B[33m'\u001B[39m\u001B[33mignore\u001B[39m\u001B[33m'\u001B[39m, under=\u001B[33m'\u001B[39m\u001B[33mignore\u001B[39m\u001B[33m'\u001B[39m):\n\u001B[32m--> \u001B[39m\u001B[32m410\u001B[39m     r = \u001B[43mgufunc\u001B[49m\u001B[43m(\u001B[49m\u001B[43ma\u001B[49m\u001B[43m,\u001B[49m\u001B[43m \u001B[49m\u001B[43mb\u001B[49m\u001B[43m,\u001B[49m\u001B[43m \u001B[49m\u001B[43msignature\u001B[49m\u001B[43m=\u001B[49m\u001B[43msignature\u001B[49m\u001B[43m)\u001B[49m\n\u001B[32m    412\u001B[39m \u001B[38;5;28;01mreturn\u001B[39;00m wrap(r.astype(result_t, copy=\u001B[38;5;28;01mFalse\u001B[39;00m))\n",
      "\u001B[36mFile \u001B[39m\u001B[32m/opt/anaconda3/envs/esp-bigdata-dataanal/lib/python3.12/site-packages/numpy/linalg/_linalg.py:104\u001B[39m, in \u001B[36m_raise_linalgerror_singular\u001B[39m\u001B[34m(err, flag)\u001B[39m\n\u001B[32m    103\u001B[39m \u001B[38;5;28;01mdef\u001B[39;00m\u001B[38;5;250m \u001B[39m\u001B[34m_raise_linalgerror_singular\u001B[39m(err, flag):\n\u001B[32m--> \u001B[39m\u001B[32m104\u001B[39m     \u001B[38;5;28;01mraise\u001B[39;00m LinAlgError(\u001B[33m\"\u001B[39m\u001B[33mSingular matrix\u001B[39m\u001B[33m\"\u001B[39m)\n",
      "\u001B[31mLinAlgError\u001B[39m: Singular matrix"
     ]
    }
   ],
   "execution_count": 8
  },
  {
   "metadata": {},
   "cell_type": "markdown",
   "source": [
    "Aqui se puede ver que la determinante de A es 0, lo que indica que el sistema no tiene solucion.\n",
    "\n",
    "Si la determinante de A es 0, esto quiere decir que la matriz A es singular, lo que significa que no tiene inversa.\n",
    "\n",
    "Una matriz que no tiene inversa indica que el sistema no tiene solucion."
   ],
   "id": "e70b96463ebe7f77"
  },
  {
   "metadata": {},
   "cell_type": "markdown",
   "source": [
    "#### B:\n",
    "Transformamos a la forma general\n",
    "\n",
    "    1x - 1y = -2\n",
    "    4x - 1y = +1\n",
    "\n",
    "Dado que las rectas se intersectan en el punto (1, 3), este sistema debe tener una unica solucion."
   ],
   "id": "63ab67a3959edd3"
  },
  {
   "metadata": {
    "ExecuteTime": {
     "end_time": "2025-03-10T11:56:53.571049Z",
     "start_time": "2025-03-10T11:56:53.568259Z"
    }
   },
   "cell_type": "code",
   "source": [
    "import numpy as np\n",
    "from pkg.functions import print_solution, print_analysis_square\n",
    "\n",
    "\"\"\"\n",
    "Ejemplo:\n",
    "    1x - 1y = -2\n",
    "    4x - 1y = +1\n",
    "\"\"\"\n",
    "A, B = np.array([[1, -1], [4, -1]]), np.array([-2, 1])\n",
    "detA = np.linalg.det(A)\n",
    "detAx = np.linalg.det(np.column_stack((B, A[:, 1])))\n",
    "detAy = np.linalg.det(np.column_stack((A[:, 0], B)))\n",
    "print_analysis_square(detA, detAx, detAy)\n",
    "\n",
    "solution = np.linalg.solve(A, B)\n",
    "print_solution(solution[0], solution[1])"
   ],
   "id": "473da1315816a8fe",
   "outputs": [
    {
     "name": "stdout",
     "output_type": "stream",
     "text": [
      "Determinants: det(A) = 3.0, det(Ax) = 3.0, det(Ay) = 9.0\n",
      "The system does have determinant and has a unique solution.\n",
      "Solution: x = 1, y = 3\n"
     ]
    }
   ],
   "execution_count": 9
  },
  {
   "metadata": {},
   "cell_type": "markdown",
   "source": "Aqui vemos que efectivamente el sistema tiene una unica solucion que coincide con el punto de interseccion de las rectas mostrado en la grafica.",
   "id": "56ec6fbb4d30af3f"
  },
  {
   "metadata": {},
   "cell_type": "markdown",
   "source": [
    "#### C:\n",
    "Transformamos a la forma general\n",
    "\n",
    "    1x - 1y = -2\n",
    "    -x - 1y = -2\n",
    "\n",
    "Dado que las rectas se intersectan en el punto (0, 2), este sistema debe tener una unica solucion."
   ],
   "id": "9cdb5ca34d946185"
  },
  {
   "metadata": {
    "ExecuteTime": {
     "end_time": "2025-03-10T11:56:56.874449Z",
     "start_time": "2025-03-10T11:56:56.871900Z"
    }
   },
   "cell_type": "code",
   "source": [
    "import numpy as np\n",
    "from pkg.functions import print_solution, print_analysis_square\n",
    "\n",
    "\"\"\"\n",
    "Ejemplo:\n",
    "    1x - 1y = -2\n",
    "    -x - 1y = -2\n",
    "\"\"\"\n",
    "A, B = np.array([[1, -1], [-1, -1]]), np.array([-2, -2])\n",
    "detA = np.linalg.det(A)\n",
    "detAx = np.linalg.det(np.column_stack((B, A[:, 1])))\n",
    "detAy = np.linalg.det(np.column_stack((A[:, 0], B)))\n",
    "print_analysis_square(detA, detAx, detAy)\n",
    "\n",
    "solution = np.linalg.solve(A, B)\n",
    "print_solution(solution[0], solution[1])"
   ],
   "id": "89d99afebab1530c",
   "outputs": [
    {
     "name": "stdout",
     "output_type": "stream",
     "text": [
      "Determinants: det(A) = -2.0, det(Ax) = 0.0, det(Ay) = -4.0\n",
      "The system does have determinant and has a unique solution.\n",
      "Solution: x = 0, y = 2\n"
     ]
    }
   ],
   "execution_count": 10
  },
  {
   "metadata": {},
   "cell_type": "markdown",
   "source": "Aqui vemos que efectivamente el sistema tiene una unica solucion que coincide con el punto de interseccion de las rectas mostrado en la grafica.",
   "id": "4a6dabad99d891fd"
  },
  {
   "metadata": {},
   "cell_type": "markdown",
   "source": [
    "#### D:\n",
    "Transformamos a la forma general\n",
    "\n",
    "     -3x - 1y = -5\n",
    "    1/3x - 1y = -2\n",
    "     -3x - 1y = -1\n",
    "\n",
    "\n",
    "Dado que las rectas se intersectan en el punto (0, 2), este sistema debe tener una unica solucion."
   ],
   "id": "12716f9df6fec8df"
  },
  {
   "metadata": {
    "ExecuteTime": {
     "end_time": "2025-03-10T11:57:02.452312Z",
     "start_time": "2025-03-10T11:57:02.448784Z"
    }
   },
   "cell_type": "code",
   "source": [
    "import numpy as np\n",
    "from pkg.functions import print_solution, print_analysis_not_square\n",
    "\n",
    "\"\"\"\n",
    "Ejemplo:\n",
    "     -3x - 1y = -5\n",
    "    1/3x - 1y = -2\n",
    "     -3x - 1y = -1\n",
    "\"\"\"\n",
    "A, B = np.array([[-3, -1], [1 / 3, -1], [-3, -1]]), np.array([-5, -2, -1])\n",
    "rankA, rankAB = np.linalg.matrix_rank(A), np.linalg.matrix_rank(np.column_stack((A, B)))\n",
    "print_analysis_not_square(rankA, rankAB)\n",
    "\n",
    "# solution = np.linalg.lstsq(A, B)\n",
    "# print_solution(solution[0][0], solution[0][1])"
   ],
   "id": "9acbfa4e203614e0",
   "outputs": [
    {
     "name": "stdout",
     "output_type": "stream",
     "text": [
      "Rank: rank(A) = 2, rank(AB) = 3\n",
      "The system has no solution.\n"
     ]
    }
   ],
   "execution_count": 11
  },
  {
   "metadata": {},
   "cell_type": "markdown",
   "source": [
    "### Actividad 2\n",
    "Resuelva completamente el siguiente sistema de ecuaciones lineales:\n",
    "![](resources/img05.png)\n"
   ],
   "id": "4200e23b96877aa8"
  },
  {
   "metadata": {},
   "cell_type": "markdown",
   "source": "#### A:",
   "id": "9738e3a9b3365d43"
  },
  {
   "metadata": {},
   "cell_type": "code",
   "source": [
    "import numpy as np\n",
    "from pkg.functions import print_solution, print_analysis_square\n",
    "\n",
    "\"\"\"\n",
    "Ejemplo:\n",
    "     x + 4y =  3\n",
    "    3x - 2y = -5\n",
    "\"\"\"\n",
    "A, B = np.array([[1, 4], [3, -2]]), np.array([3, -5])\n",
    "detA = np.linalg.det(A)\n",
    "detAx = np.linalg.det(np.column_stack((B, A[:, 1])))\n",
    "detAy = np.linalg.det(np.column_stack((A[:, 0], B)))\n",
    "print_analysis_square(detA, detAx, detAy)\n",
    "\n",
    "solution = np.linalg.solve(A, B)\n",
    "print_solution(solution[0], solution[1])"
   ],
   "id": "3fe45ba5dfdfb9c2",
   "outputs": [],
   "execution_count": null
  },
  {
   "metadata": {},
   "cell_type": "markdown",
   "source": "#### B:",
   "id": "8e80866acd96b720"
  },
  {
   "metadata": {},
   "cell_type": "code",
   "source": [
    "import numpy as np\n",
    "from pkg.functions import print_solution, print_analysis_square\n",
    "\n",
    "\"\"\"\n",
    "Ejemplo:\n",
    "    4x + 2y =  9\n",
    "   -4x + 5y =  5\n",
    "\"\"\"\n",
    "A, B = np.array([[4, 2], [-4, 5]]), np.array([9, 5])\n",
    "detA = np.linalg.det(A)\n",
    "detAx = np.linalg.det(np.column_stack((B, A[:, 1])))\n",
    "detAy = np.linalg.det(np.column_stack((A[:, 0], B)))\n",
    "print_analysis_square(detA, detAx, detAy)\n",
    "\n",
    "solution = np.linalg.solve(A, B)\n",
    "print_solution(solution[0], solution[1])"
   ],
   "id": "f02614d42dca03a3",
   "outputs": [],
   "execution_count": null
  },
  {
   "metadata": {},
   "cell_type": "markdown",
   "source": "#### C:",
   "id": "a4f7a584b9fef48c"
  },
  {
   "metadata": {},
   "cell_type": "code",
   "source": [
    "import numpy as np\n",
    "from pkg.functions import print_solution, print_analysis_square\n",
    "\n",
    "\"\"\"\n",
    "Ejemplo:\n",
    "    4p + 12q = 6\n",
    "    2p +  6q = 3\n",
    "\"\"\"\n",
    "A, B = np.array([[4, 12], [2, 6]]), np.array([6, 3])\n",
    "detA = np.linalg.det(A)\n",
    "detAx = np.linalg.det(np.column_stack((B, A[:, 1])))\n",
    "detAy = np.linalg.det(np.column_stack((A[:, 0], B)))\n",
    "print_analysis_square(detA, detAx, detAy)\n",
    "\n",
    "solution = np.linalg.solve(A, B)\n",
    "print_solution(solution[0], solution[1])"
   ],
   "id": "d82dd6f69d25e580",
   "outputs": [],
   "execution_count": null
  },
  {
   "metadata": {},
   "cell_type": "markdown",
   "source": "#### D:",
   "id": "c4850d3fcf6ce95a"
  },
  {
   "metadata": {},
   "cell_type": "code",
   "source": [
    "import numpy as np\n",
    "from pkg.functions import print_solution, print_analysis_square\n",
    "\n",
    "\"\"\"\n",
    "Ejemplo:\n",
    "    2/3x + 1/2y = 2\n",
    "    3/8x + 5/6y = -11/2\n",
    "\"\"\"\n",
    "A, B = np.array([[2 / 3, 1 / 2], [3 / 8, 5 / 6]]), np.array([2, -11 / 2])\n",
    "detA = np.linalg.det(A)\n",
    "detAx = np.linalg.det(np.column_stack((B, A[:, 1])))\n",
    "detAy = np.linalg.det(np.column_stack((A[:, 0], B)))\n",
    "print_analysis_square(detA, detAx, detAy)\n",
    "\n",
    "solution = np.linalg.solve(A, B)\n",
    "print_solution(solution[0], solution[1])"
   ],
   "id": "aeb5e5e0024065b3",
   "outputs": [],
   "execution_count": null
  },
  {
   "metadata": {},
   "cell_type": "markdown",
   "source": "#### E:",
   "id": "399f037898bae256"
  },
  {
   "metadata": {},
   "cell_type": "code",
   "source": [
    "import numpy as np\n",
    "from pkg.functions import print_solution, print_analysis_square\n",
    "\n",
    "\"\"\"\n",
    "Ejemplo:\n",
    "    3x + 5y = 7\n",
    "    5x + 9y = 7\n",
    "\"\"\"\n",
    "A, B = np.array([[3, 5], [5, 9]]), np.array([7, 7])\n",
    "detA = np.linalg.det(A)\n",
    "detAx = np.linalg.det(np.column_stack((B, A[:, 1])))\n",
    "detAy = np.linalg.det(np.column_stack((A[:, 0], B)))\n",
    "print_analysis_square(detA, detAx, detAy)\n",
    "\n",
    "solution = np.linalg.solve(A, B)\n",
    "print_solution(solution[0], solution[1])"
   ],
   "id": "45be3d3cea73469e",
   "outputs": [],
   "execution_count": null
  },
  {
   "metadata": {},
   "cell_type": "markdown",
   "source": "#### F:",
   "id": "8f0332e482dda6a5"
  },
  {
   "metadata": {},
   "cell_type": "code",
   "source": [
    "import numpy as np\n",
    "from pkg.functions import print_solution, print_analysis_not_square\n",
    "\n",
    "\"\"\"\n",
    "Ejemplo:\n",
    "     x + 0y - 2z = 1\n",
    "    0x +  y +  z = 3\n",
    "\"\"\"\n",
    "A, B = np.array([[1, 0, -2], [0, 1, 1]]), np.array([1, 3])\n",
    "rankA, rankAB = np.linalg.matrix_rank(A), np.linalg.matrix_rank(np.column_stack((A, B)))\n",
    "print_analysis_not_square(rankA, rankAB)\n",
    "\n",
    "solution = np.linalg.lstsq(A, B)\n",
    "print_solution(solution[0][0], solution[0][1])"
   ],
   "id": "a2155f52047f65c5",
   "outputs": [],
   "execution_count": null
  },
  {
   "metadata": {},
   "cell_type": "markdown",
   "source": "#### G:",
   "id": "cbf19c5e7a7d05ed"
  },
  {
   "metadata": {},
   "cell_type": "code",
   "source": [
    "import numpy as np\n",
    "from pkg.functions import print_solution, print_analysis_square\n",
    "\n",
    "\"\"\"\n",
    "Ejemplo:\n",
    "    1/2z - 1/4w = 1/6\n",
    "       z + 1/2w = 2/3\n",
    "\"\"\"\n",
    "A, B = np.array([[1 / 2, -1 / 4], [1, 1 / 2]]), np.array([1 / 6, 2 / 3])\n",
    "detA = np.linalg.det(A)\n",
    "detAx = np.linalg.det(np.column_stack((B, A[:, 1])))\n",
    "detAy = np.linalg.det(np.column_stack((A[:, 0], B)))\n",
    "print_analysis_square(detA, detAx, detAy)\n",
    "\n",
    "solution = np.linalg.solve(A, B)\n",
    "print_solution(solution[0], solution[1])"
   ],
   "id": "21a4263b094bca7f",
   "outputs": [],
   "execution_count": null
  },
  {
   "metadata": {},
   "cell_type": "markdown",
   "source": "#### H:",
   "id": "965ec3ae09bc06f9"
  },
  {
   "metadata": {},
   "cell_type": "code",
   "source": [
    "import numpy as np\n",
    "from pkg.functions import print_solution, print_analysis_square\n",
    "\n",
    "\"\"\"\n",
    "Ejemplo:\n",
    "    -p - q = -3\n",
    "    3p +2q = 19\n",
    "\"\"\"\n",
    "A, B = np.array([[-1, -1], [3, 2]]), np.array([-3, 19])\n",
    "detA = np.linalg.det(A)\n",
    "detAx = np.linalg.det(np.column_stack((B, A[:, 1])))\n",
    "detAy = np.linalg.det(np.column_stack((A[:, 0], B)))\n",
    "print_analysis_square(detA, detAx, detAy)\n",
    "\n",
    "solution = np.linalg.solve(A, B)\n",
    "print_solution(solution[0], solution[1])"
   ],
   "id": "a41ff6560a51443c",
   "outputs": [],
   "execution_count": null
  },
  {
   "metadata": {},
   "cell_type": "markdown",
   "source": [
    "### Actividad 3\n",
    "Resuelva:"
   ],
   "id": "266511b4f86aba13"
  },
  {
   "metadata": {},
   "cell_type": "markdown",
   "source": [
    "#### 1:\n",
    "Salarios En enero de 2010, Mary Bennett comenzó un nuevo trabajo con un salario anual de $38,000. Su jefe acordó aumentar su salario $1000 cada enero en los próximos años. Su salario está determinado por la ecuación y = 38,000 + 1000t, donde t es el número de años desde 2010 (ver la línea azul oscuro en la gráfica).\n",
    "\n",
    "También en enero de 2010, Wynn Nguyen comenzó un nuevo trabajo con un salario anual de $45,500. Su jefe acordó aumentar su salario $500 cada enero en los próximos años. Su salario está determinado por la ecuación y = 45,500 + 500t, donde t es el número de años desde 2010 (ver la línea azul claro en la gráfica).\n",
    "\n",
    "Resuelve el sistema de ecuaciones para determinar el año en el que ambos salarios serán iguales. ¿Cuál será el salario en ese año?\n",
    "\n",
    "![](resources/img06.png)\n",
    "\n",
    "\n"
   ],
   "id": "ffe478b82c6572d7"
  },
  {
   "metadata": {},
   "cell_type": "code",
   "source": [
    "import numpy as np\n",
    "from pkg.functions import print_solution, print_analysis_square\n",
    "\n",
    "\"\"\"\n",
    "Ejemplo:\n",
    "    -1000t + y = 38000\n",
    "     -500t + y = 45500\n",
    "\"\"\"\n",
    "A, B = np.array([[-1000, 1], [-500, 1]]), np.array([38000, 45500])\n",
    "detA = np.linalg.det(A)\n",
    "detAx = np.linalg.det(np.column_stack((B, A[:, 1])))\n",
    "detAy = np.linalg.det(np.column_stack((A[:, 0], B)))\n",
    "print_analysis_square(detA, detAx, detAy)\n",
    "\n",
    "solution = np.linalg.solve(A, B)\n",
    "print_solution(solution[0], solution[1])"
   ],
   "id": "14d4331e1a52ed20",
   "outputs": [],
   "execution_count": null
  },
  {
   "metadata": {},
   "cell_type": "markdown",
   "source": "En el año 15, ambos salarios seran iguales a 53,500.",
   "id": "127942afbec623f5"
  },
  {
   "metadata": {},
   "cell_type": "markdown",
   "source": [
    "#### 2:\n",
    "Alquiler de camiones Hope Duncan planea mudarse y necesita rentar un camión de 24 pies por un día. Budget cobra $50 más 79 centavos por milla. Ryder cobra $40 más 99 centavos por milla.\n",
    "\n",
    "El costo de cada compañía se representa en el siguiente sistema de ecuaciones donde x es el número de millas conducidas y, el costo total por la renta del camión por un día.\n",
    "\n",
    "![](resources/img07.png)\n",
    "\n",
    "Resuelve el sistema de ecuaciones para determinar el número de millas para las que el costo de ambas compañías sea el mismo. ¿Cuál será el costo?\n"
   ],
   "id": "45d5fba9dacc4974"
  },
  {
   "metadata": {},
   "cell_type": "code",
   "source": [
    "import numpy as np\n",
    "from pkg.functions import print_solution, print_analysis_square\n",
    "\n",
    "\"\"\"\n",
    "Ejemplo:\n",
    "    -0.79x + y = 50\n",
    "    -0.99x + y = 40\n",
    "\"\"\"\n",
    "A, B = np.array([[-0.79, 1], [-0.99, 1]]), np.array([50, 40])\n",
    "detA = np.linalg.det(A)\n",
    "detAx = np.linalg.det(np.column_stack((B, A[:, 1])))\n",
    "detAy = np.linalg.det(np.column_stack((A[:, 0], B)))\n",
    "print_analysis_square(detA, detAx, detAy)\n",
    "\n",
    "solution = np.linalg.solve(A, B)\n",
    "print_solution(solution[0], solution[1])"
   ],
   "id": "ef5bec99c59353c2",
   "outputs": [],
   "execution_count": null
  },
  {
   "metadata": {},
   "cell_type": "markdown",
   "source": "El costo por milla para ambas compañias sera el mismo a la milla 50, con un costo de 89.5 centavos por milla",
   "id": "edf04e07446a47f0"
  },
  {
   "metadata": {},
   "cell_type": "markdown",
   "source": [
    "#### 3:\n",
    "Parques de diversiones Los dos parques de diversiones más visitados en Estados Unidos en 2007 fueron Walt Disney’s Magic Kingdom en Florida y Disneylandia en California.\n",
    "El número total de visitantes a estos dos parques fue de 31.8 millones de personas.\n",
    "El número de personas que visitaron Magic Kingdom fue de 2.2 millones más que el número de personas que visitaron Disneylandia.\n",
    "\n",
    "¿Cuántas personas visitaron cada parque en 2007?\n",
    "\n",
    "Fuente: www.coastergrotto.com"
   ],
   "id": "53e89035da4d9502"
  },
  {
   "metadata": {},
   "cell_type": "code",
   "source": [
    "import numpy as np\n",
    "from pkg.functions import print_solution, print_analysis_square\n",
    "\n",
    "\"\"\"\n",
    "Ejemplo:\n",
    "    m + d = 31.8\n",
    "    m - d = 2.2\n",
    "\"\"\"\n",
    "A, B = np.array([[1, 1], [1, -1]]), np.array([31.8, 2.2])\n",
    "detA = np.linalg.det(A)\n",
    "detAx = np.linalg.det(np.column_stack((B, A[:, 1])))\n",
    "detAy = np.linalg.det(np.column_stack((A[:, 0], B)))\n",
    "print_analysis_square(detA, detAx, detAy)\n",
    "\n",
    "solution = np.linalg.solve(A, B)\n",
    "print_solution(solution[0], solution[1])"
   ],
   "id": "3aec9fb5a1b8c2ad",
   "outputs": [],
   "execution_count": null
  },
  {
   "metadata": {},
   "cell_type": "markdown",
   "source": "En el 2007, Magic Kingdom tuvo 17 millones de visitantes y Disneylandia tuvo 14.8 millones de visitantes.",
   "id": "1fc62a9e7811c282"
  },
  {
   "metadata": {},
   "cell_type": "markdown",
   "source": [
    "#### 4:\n",
    "Puesto de hot dogs En el puesto de hot dogs de Big Al, 2 hot dogs y 3 refrescos cuestan $7.\n",
    "El precio de 4 hot dogs y 2 refrescos es de $10.\n",
    "\n",
    "Determina el precio de un hot dog y el precio de un refresco"
   ],
   "id": "2ecd28264f48f649"
  },
  {
   "metadata": {},
   "cell_type": "code",
   "source": [
    "import numpy as np\n",
    "from pkg.functions import print_solution, print_analysis_square\n",
    "\n",
    "\"\"\"\n",
    "Ejemplo:\n",
    "    2p + 3r = 7\n",
    "    4p + 2r = 10\n",
    "\"\"\"\n",
    "A, B = np.array([[2, 3], [4, 2]]), np.array([7, 10])\n",
    "detA = np.linalg.det(A)\n",
    "detAx = np.linalg.det(np.column_stack((B, A[:, 1])))\n",
    "detAy = np.linalg.det(np.column_stack((A[:, 0], B)))\n",
    "print_analysis_square(detA, detAx, detAy)\n",
    "\n",
    "solution = np.linalg.solve(A, B)\n",
    "print_solution(solution[0], solution[1])"
   ],
   "id": "f305d83dc7155034",
   "outputs": [],
   "execution_count": null
  },
  {
   "metadata": {},
   "cell_type": "markdown",
   "source": "En el negocio, un hot dog cuesta 2 y un refresco cuesta 1",
   "id": "5a54f2686f0e11f8"
  },
  {
   "metadata": {},
   "cell_type": "markdown",
   "source": [
    "#### 5:\n",
    "Salario más comisión Don Lavigne, representante de ventas de equipo de oficina, percibe un salario semanal más comisión por sus ventas.\n",
    "Una semana su compensación total por ventas de $4000 fue de $660.\n",
    "La siguiente semana su compensación total por ventas de $6000 fue de $740.\n",
    "\n",
    "Encuentra el salario semanal de Don y su tasa de comisión\n"
   ],
   "id": "22e8a0066776b592"
  },
  {
   "metadata": {},
   "cell_type": "code",
   "source": [
    "import numpy as np\n",
    "from pkg.functions import print_solution, print_analysis_square\n",
    "\n",
    "\"\"\"\n",
    "Ejemplo:\n",
    "    s + 4000c = 660\n",
    "    s + 6000c = 740\n",
    "\"\"\"\n",
    "A, B = np.array([[1, 4000], [1, 6000]]), np.array([660, 740])\n",
    "detA = np.linalg.det(A)\n",
    "detAx = np.linalg.det(np.column_stack((B, A[:, 1])))\n",
    "detAy = np.linalg.det(np.column_stack((A[:, 0], B)))\n",
    "print_analysis_square(detA, detAx, detAy)\n",
    "\n",
    "solution = np.linalg.solve(A, B)\n",
    "print_solution(solution[0], solution[1])"
   ],
   "id": "3c97079dfcd72c92",
   "outputs": [],
   "execution_count": null
  },
  {
   "metadata": {},
   "cell_type": "markdown",
   "source": "El salario semanal de Don es de $500, y su tasa de comision es de 4%",
   "id": "dd5eab6678418428"
  }
 ],
 "metadata": {
  "kernelspec": {
   "display_name": "Python 3",
   "language": "python",
   "name": "python3"
  },
  "language_info": {
   "codemirror_mode": {
    "name": "ipython",
    "version": 2
   },
   "file_extension": ".py",
   "mimetype": "text/x-python",
   "name": "python",
   "nbconvert_exporter": "python",
   "pygments_lexer": "ipython2",
   "version": "2.7.6"
  }
 },
 "nbformat": 4,
 "nbformat_minor": 5
}
