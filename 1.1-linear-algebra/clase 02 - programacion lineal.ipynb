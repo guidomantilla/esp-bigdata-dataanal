{
 "cells": [
  {
   "metadata": {},
   "cell_type": "markdown",
   "source": "# Programacion Lineal",
   "id": "57554d4e0509e591"
  },
  {
   "metadata": {},
   "cell_type": "markdown",
   "source": [
    "## Programacion Lineal (1 - 4)\n",
    "![](resources/img09.png)"
   ],
   "id": "f6f2372b0d3b5418"
  },
  {
   "metadata": {},
   "cell_type": "markdown",
   "source": [
    "### 1:\n",
    "Maximizar:\n",
    "\n",
    "    P = 10x + 12y\n",
    "    x +  y <= 60\n",
    "    x - 2y >= 0\n",
    "    x >= 0\n",
    "    y >= 0\n",
    "\n",
    "Vamos a resolver usando scipy y gekko. Se intento con pulp, pero este no instalo bn."
   ],
   "id": "e383fa6dd9a0b309"
  },
  {
   "metadata": {
    "ExecuteTime": {
     "end_time": "2025-03-10T11:57:51.559438Z",
     "start_time": "2025-03-10T11:57:50.837083Z"
    }
   },
   "cell_type": "code",
   "source": [
    "from scipy.optimize import linprog\n",
    "\n",
    "coefficientsObjectiveFunction = [\n",
    "    -10,\n",
    "    -12,\n",
    "]  # P = 10x + 12y, but minimize is the default, for maximization we need to multiply by -1\n",
    "coefficientsConstraints = [\n",
    "    [1, 1],\n",
    "    [-1, 2],\n",
    "]  # x + y <= 60, x - 2y >= 0, for maximization we need to have inequality in the form of <=, so we need to multiply by -1\n",
    "coefficientsResults = [60, 0]\n",
    "bound = (0, None)  # x >= 0, y >= 0\n",
    "res = linprog(\n",
    "    coefficientsObjectiveFunction,\n",
    "    A_ub=coefficientsConstraints,\n",
    "    b_ub=coefficientsResults,\n",
    "    bounds=[bound, bound],\n",
    "    method=\"highs\",\n",
    ")\n",
    "\n",
    "print(f\"Optimal solution: x = {res.x[0]:.2f}, y = {res.x[1]:.2f}\")\n",
    "print(f\"Maximum Value = {-res.fun:.2f}\")"
   ],
   "id": "faccc5ff97fa7386",
   "outputs": [
    {
     "name": "stdout",
     "output_type": "stream",
     "text": [
      "Optimal solution: x = 40.00, y = 20.00\n",
      "Maximum Value = 640.00\n"
     ]
    }
   ],
   "execution_count": 1
  },
  {
   "metadata": {},
   "cell_type": "markdown",
   "source": [
    "Con scipy, el resultado es calculado en menos de 10ms.\n",
    "\n",
    "![](resources/img10.png)"
   ],
   "id": "f4f5a88c85697d0b"
  },
  {
   "metadata": {
    "ExecuteTime": {
     "end_time": "2025-03-10T12:03:31.217107Z",
     "start_time": "2025-03-10T12:03:24.638416Z"
    }
   },
   "cell_type": "code",
   "source": [
    "from gekko import GEKKO\n",
    "\n",
    "model = GEKKO()\n",
    "x = model.Var(lb=0)\n",
    "y = model.Var(lb=0)\n",
    "model.Maximize(10 * x + 12 * y)\n",
    "model.Equation(x + y <= 60)\n",
    "model.Equation(x - 2 * y >= 0)\n",
    "model.solve(disp=False)\n",
    "\n",
    "print(f\"Optimal solution: x = {x.value[0]:.2f}, y = {y.value[0]:.2f}\")\n",
    "print(f\"Maximum value = $ {-model.options.objfcnval:.2f}\")"
   ],
   "id": "5ef6250eb205ce19",
   "outputs": [
    {
     "name": "stdout",
     "output_type": "stream",
     "text": [
      "Optimal solution: x = 40.00, y = 20.00\n",
      "Maximum value = $ 640.00\n"
     ]
    }
   ],
   "execution_count": 2
  },
  {
   "metadata": {},
   "cell_type": "markdown",
   "source": "Con gekko, el resultado es calculado en aprox 5s",
   "id": "bbf28cd6c880ab35"
  },
  {
   "metadata": {},
   "cell_type": "markdown",
   "source": "La libreria Gekko es mas diciente, mas obvia, pero la libreria scipy es mas rapida y mas profesional",
   "id": "ecc9eb3337c8b76"
  },
  {
   "metadata": {},
   "cell_type": "markdown",
   "source": [
    "### 2:\n",
    "Maximizar:\n",
    "\n",
    "    P = 5x + 6y\n",
    "    x +   y <= 80\n",
    "    3x + 2y <= 220\n",
    "    2x + 3y <= 210\n",
    "    x >= 0\n",
    "    y >= 0"
   ],
   "id": "9c1fe05f584c6280"
  },
  {
   "metadata": {
    "ExecuteTime": {
     "end_time": "2025-03-10T02:49:01.416608Z",
     "start_time": "2025-03-10T02:49:01.409409Z"
    }
   },
   "cell_type": "code",
   "source": [
    "from scipy.optimize import linprog\n",
    "\n",
    "coefficientsObjectiveFunction = [-5, -6]\n",
    "coefficientsConstraints = [[1, 1], [3, 2], [2, 3]]\n",
    "coefficientsResults = [80, 220, 210]\n",
    "bound = (0, None)  # x >= 0, y >= 0\n",
    "res = linprog(\n",
    "    coefficientsObjectiveFunction,\n",
    "    A_ub=coefficientsConstraints,\n",
    "    b_ub=coefficientsResults,\n",
    "    bounds=[bound, bound],\n",
    "    method=\"highs\",\n",
    ")\n",
    "\n",
    "print(f\"Optimal solution: x = {res.x[0]:.2f}, y = {res.x[1]:.2f}\")\n",
    "print(f\"Maximum Value = {-res.fun:.2f}\")"
   ],
   "id": "af9bc2f1d338a72",
   "outputs": [
    {
     "name": "stdout",
     "output_type": "stream",
     "text": [
      "Optimal solution: x = 30.00, y = 50.00\n",
      "Maximum Value = 450.00\n"
     ]
    }
   ],
   "execution_count": 95
  },
  {
   "metadata": {},
   "cell_type": "markdown",
   "source": "![](resources/img11.png)",
   "id": "e8807d34736ba61b"
  },
  {
   "metadata": {},
   "cell_type": "markdown",
   "source": [
    "### 3:\n",
    "Maximizar:\n",
    "\n",
    "    Z = 4x - 6y\n",
    "    y <= 7\n",
    "    3x -  y <= 3\n",
    "     x +  y >= 5\n",
    "    x >= 0\n",
    "    y >= 0"
   ],
   "id": "119f15650992a037"
  },
  {
   "metadata": {
    "ExecuteTime": {
     "end_time": "2025-03-10T02:56:59.179660Z",
     "start_time": "2025-03-10T02:56:59.173900Z"
    }
   },
   "cell_type": "code",
   "source": [
    "from scipy.optimize import linprog\n",
    "\n",
    "coefficientsObjectiveFunction = [-4, 6]\n",
    "coefficientsConstraints = [[0, 1], [3, -1], [-1, -1]]\n",
    "coefficientsResults = [7, 3, -5]\n",
    "bound = (0, None)  # x >= 0, y >= 0\n",
    "res = linprog(\n",
    "    coefficientsObjectiveFunction,\n",
    "    A_ub=coefficientsConstraints,\n",
    "    b_ub=coefficientsResults,\n",
    "    bounds=[bound, bound],\n",
    "    method=\"highs\",\n",
    ")\n",
    "\n",
    "print(f\"Optimal solution: x = {res.x[0]:.2f}, y = {res.x[1]:.2f}\")\n",
    "print(f\"Maximum Value = {-res.fun:.2f}\")"
   ],
   "id": "a184069f1eabfcb7",
   "outputs": [
    {
     "name": "stdout",
     "output_type": "stream",
     "text": [
      "Optimal solution: x = 2.00, y = 3.00\n",
      "Maximum Value = -10.00\n"
     ]
    }
   ],
   "execution_count": 101
  },
  {
   "metadata": {},
   "cell_type": "markdown",
   "source": "![](resources/img12.png)",
   "id": "9eb48aedb378d184"
  },
  {
   "metadata": {},
   "cell_type": "markdown",
   "source": [
    "### 4:\n",
    "Mimimizar:\n",
    "\n",
    "    Z = x + y\n",
    "     x -  y  >= 0\n",
    "    4x + 3y  >= 12\n",
    "    9x + 11y <= 99\n",
    "    x <= 8\n",
    "    x,y >= 0"
   ],
   "id": "e2ff7ea75859010"
  },
  {
   "metadata": {
    "ExecuteTime": {
     "end_time": "2025-03-10T02:56:44.890744Z",
     "start_time": "2025-03-10T02:56:44.886613Z"
    }
   },
   "cell_type": "code",
   "source": [
    "from scipy.optimize import linprog\n",
    "\n",
    "coefficientsObjectiveFunction = [1, 1]\n",
    "coefficientsConstraints = [[-1, 1], [-4, -3], [9, 11], [1, 0]]\n",
    "coefficientsResults = [0, -12, 99, 8]\n",
    "bound = (0, None)  # x >= 0, y >= 0\n",
    "res = linprog(\n",
    "    coefficientsObjectiveFunction,\n",
    "    A_ub=coefficientsConstraints,\n",
    "    b_ub=coefficientsResults,\n",
    "    bounds=[bound, bound],\n",
    "    method=\"highs\",\n",
    ")\n",
    "if res.success:\n",
    "    print(f\"Optimal solution: x = {res.x[0]:.2f}, y = {res.x[1]:.2f}\")\n",
    "    print(f\"Minimum Value = {res.fun:.2f}\")\n",
    "else:\n",
    "    print(\"No solution found\")"
   ],
   "id": "eef57635610fd7b7",
   "outputs": [
    {
     "name": "stdout",
     "output_type": "stream",
     "text": [
      "Optimal solution: x = 3.00, y = 0.00\n",
      "Minimum Value = 3.00\n"
     ]
    }
   ],
   "execution_count": 99
  },
  {
   "metadata": {},
   "cell_type": "markdown",
   "source": "![](resources/img13.png)",
   "id": "92187d97a417ee2e"
  },
  {
   "metadata": {},
   "cell_type": "markdown",
   "source": [
    "## Programacion Lineal (5 - 8)\n",
    "![](resources/img09.png)"
   ],
   "id": "2bd91be6f0bec5ea"
  },
  {
   "metadata": {},
   "cell_type": "markdown",
   "source": [
    "### 5:\n",
    "Maximizar:\n",
    "\n",
    "    Z = 4x - 10y\n",
    "    x - 4y >= 4\n",
    "    2x - y <= 8\n",
    "    x,y >= 0"
   ],
   "id": "7d89e923f63498"
  },
  {
   "metadata": {
    "ExecuteTime": {
     "end_time": "2025-03-10T12:11:33.404327Z",
     "start_time": "2025-03-10T12:11:33.398934Z"
    }
   },
   "cell_type": "code",
   "source": [
    "from scipy.optimize import linprog\n",
    "\n",
    "coefficientsObjectiveFunction = [-4, 10]\n",
    "coefficientsConstraints = [[-1, 4], [2, -1]]\n",
    "coefficientsResults = [-4, 2]\n",
    "bound = (0, None)  # x >= 0, y >= 0\n",
    "res = linprog(\n",
    "    coefficientsObjectiveFunction,\n",
    "    A_ub=coefficientsConstraints,\n",
    "    b_ub=coefficientsResults,\n",
    "    bounds=[bound, bound],\n",
    "    method=\"highs\",\n",
    ")\n",
    "if res.success:\n",
    "    print(f\"Optimal solution: x = {res.x[0]:.2f}, y = {res.x[1]:.2f}\")\n",
    "    print(f\"Minimum Value = {-res.fun:.2f}\")\n",
    "else:\n",
    "    print(\"No solution found\")"
   ],
   "id": "25ed216b3f87656d",
   "outputs": [
    {
     "name": "stdout",
     "output_type": "stream",
     "text": [
      "No solution found\n"
     ]
    }
   ],
   "execution_count": 4
  }
 ],
 "metadata": {
  "kernelspec": {
   "display_name": "Python 3",
   "language": "python",
   "name": "python3"
  },
  "language_info": {
   "codemirror_mode": {
    "name": "ipython",
    "version": 2
   },
   "file_extension": ".py",
   "mimetype": "text/x-python",
   "name": "python",
   "nbconvert_exporter": "python",
   "pygments_lexer": "ipython2",
   "version": "2.7.6"
  }
 },
 "nbformat": 4,
 "nbformat_minor": 5
}
