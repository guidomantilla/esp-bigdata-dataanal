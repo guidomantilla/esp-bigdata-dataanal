{
 "cells": [
  {
   "metadata": {},
   "cell_type": "markdown",
   "source": "### Taller Clase 02",
   "id": "96b3c91628c282fa"
  },
  {
   "metadata": {},
   "cell_type": "markdown",
   "source": [
    "### Problema 1\n",
    "![](resources/img18.png)"
   ],
   "id": "badd622e0da4122c"
  },
  {
   "metadata": {},
   "cell_type": "markdown",
   "source": [
    "Sean:\n",
    "\n",
    "    V: Reproductor DVD tipo Vista\n",
    "    X: Reproductor DVD tipo Xtreme\n",
    "\n",
    "Entonces:\n",
    "\n",
    "    Maximizar: Z = 50V + 40X\n",
    "    Restricciones:\n",
    "        1V + 2X <= 24\n",
    "        3V + 2X <= 24\n",
    "        V, X >= 0"
   ],
   "id": "903308abc22a890"
  },
  {
   "metadata": {
    "ExecuteTime": {
     "end_time": "2025-03-11T18:52:04.571150Z",
     "start_time": "2025-03-11T18:52:04.557634Z"
    }
   },
   "cell_type": "code",
   "source": [
    "from scipy.optimize import linprog\n",
    "\n",
    "bound = (0, None)  # x >= 0, y >= 0\n",
    "res = linprog(\n",
    "    [-50, -40],\n",
    "    A_ub=[[1, 2], [3, 2]],\n",
    "    b_ub=[24, 24],\n",
    "    bounds=[bound, bound],\n",
    "    method=\"highs\",\n",
    ")\n",
    "if res.success:\n",
    "    print(f\"Optimal solution: V = {res.x[0]:.2f}, X = {res.x[1]:.2f}\")\n",
    "    print(f\"Maximum Value = {-res.fun:.2f}\")\n",
    "else:\n",
    "    print(\"No solution found:\", res.message)"
   ],
   "id": "dd466ae03acfb140",
   "outputs": [
    {
     "name": "stdout",
     "output_type": "stream",
     "text": [
      "Optimal solution: V = 0.00, X = 12.00\n",
      "Maximum Value = 480.00\n"
     ]
    }
   ],
   "execution_count": 2
  },
  {
   "metadata": {},
   "cell_type": "markdown",
   "source": [
    "### Problema 2\n",
    "![](resources/img19.png)"
   ],
   "id": "f364382c1653473a"
  },
  {
   "metadata": {},
   "cell_type": "markdown",
   "source": [
    "Sean:\n",
    "\n",
    "    C: Unidades de Carbohidratos\n",
    "    P: Unidades de Proteinas\n",
    "\n",
    "Entonces:\n",
    "\n",
    "    Minimizar: Z = 16C + 20P\n",
    "    Restricciones:\n",
    "        2C + 4P = 1.20\n",
    "        2C + 1P = 0.80\n",
    "        C, P >= 0"
   ],
   "id": "920279a2f4244fa0"
  },
  {
   "metadata": {
    "ExecuteTime": {
     "end_time": "2025-03-11T18:55:34.518658Z",
     "start_time": "2025-03-11T18:55:34.507194Z"
    }
   },
   "cell_type": "code",
   "source": [
    "from scipy.optimize import linprog\n",
    "\n",
    "bound = (0, None)  # x >= 0, y >= 0\n",
    "res = linprog(\n",
    "    [16, 20],\n",
    "    A_eq=[[2, 4], [2, 1]],\n",
    "    b_eq=[1.20, 0.80],\n",
    "    bounds=[bound, bound],\n",
    "    method=\"highs\",\n",
    ")\n",
    "if res.success:\n",
    "    print(f\"Optimal solution: C = {res.x[0]:.2f}, P = {res.x[1]:.2f}\")\n",
    "    print(f\"Minimum Value = {res.fun:.2f}\")\n",
    "else:\n",
    "    print(\"No solution found:\", res.message)"
   ],
   "id": "b79ff2f50bf50a41",
   "outputs": [
    {
     "name": "stdout",
     "output_type": "stream",
     "text": [
      "Optimal solution: C = 0.33, P = 0.13\n",
      "Minimum Value = 8.00\n"
     ]
    }
   ],
   "execution_count": 3
  },
  {
   "metadata": {},
   "cell_type": "markdown",
   "source": [
    "### Problema 3\n",
    "![](resources/img20.png)"
   ],
   "id": "5e9b26fe3bbc5ecf"
  },
  {
   "metadata": {},
   "cell_type": "markdown",
   "source": [
    "Sean:\n",
    "\n",
    "    X: Litros Proceso Anterior\n",
    "    Y: Litros Proceso Nuevo\n",
    "\n",
    "Entonces:\n",
    "\n",
    "    Maximizar: Z = 0.4x + 0.15y\n",
    "    Restricciones:\n",
    "        25X + 15Y <= 12525\n",
    "        50X + 40Y <= 20000\n",
    "        X, Y >= 0"
   ],
   "id": "a3098d0b529fe931"
  },
  {
   "metadata": {
    "ExecuteTime": {
     "end_time": "2025-03-11T19:18:25.810197Z",
     "start_time": "2025-03-11T19:18:25.797174Z"
    }
   },
   "cell_type": "code",
   "source": [
    "from scipy.optimize import linprog\n",
    "\n",
    "bound = (0, None)  # x >= 0, y >= 0\n",
    "res = linprog(\n",
    "    [-0.4, -0.15],\n",
    "    A_ub=[[25, 15], [50, 40]],\n",
    "    b_ub=[12525, 20000],\n",
    "    bounds=[bound, bound],\n",
    "    method=\"highs\",\n",
    ")\n",
    "if res.success:\n",
    "    print(f\"Optimal solution: X = {res.x[0]:.2f}, Y = {res.x[1]:.2f}\")\n",
    "    print(f\"Maximum Value = {-res.fun:.2f}\")\n",
    "else:\n",
    "    print(\"No solution found:\", res.message)"
   ],
   "id": "3bc9a44ae652eb9b",
   "outputs": [
    {
     "name": "stdout",
     "output_type": "stream",
     "text": [
      "Optimal solution: X = 400.00, Y = 0.00\n",
      "Maximum Value = 160.00\n"
     ]
    }
   ],
   "execution_count": 6
  },
  {
   "metadata": {},
   "cell_type": "markdown",
   "source": [
    "### Problema 4\n",
    "![](resources/img21.png)"
   ],
   "id": "58cac1763176ee41"
  },
  {
   "metadata": {},
   "cell_type": "markdown",
   "source": [
    "Sean:\n",
    "\n",
    "    I:  Mezcla 1\n",
    "    II: Mezcla 2\n",
    "\n",
    "    I:  2A + 6B +  4C\n",
    "    II: 2A + 2B + 12C\n",
    "\n",
    "Entonces:\n",
    "\n",
    "    Minimizar: Z = 8I + 10II\n",
    "               Z = 8(2A + 6B + 4C) + 10(2A + 2B + 12C)\n",
    "    Restricciones:\n",
    "        2I +  2II >=  80\n",
    "        6I +  2II >= 120\n",
    "        4I + 12II >= 240\n"
   ],
   "id": "1532e62b468008f3"
  },
  {
   "metadata": {
    "ExecuteTime": {
     "end_time": "2025-03-11T19:42:37.816501Z",
     "start_time": "2025-03-11T19:42:37.811987Z"
    }
   },
   "cell_type": "code",
   "source": [
    "from scipy.optimize import linprog\n",
    "\n",
    "bound = (0, None)  # x >= 0, y >= 0\n",
    "res = linprog(\n",
    "    [8, 10],\n",
    "    A_eq=[[2, 2], [6, 2], [4, 12]],\n",
    "    b_eq=[-0, 120, 240],\n",
    "    bounds=[bound, bound],\n",
    "    method=\"highs\",\n",
    ")\n",
    "if res.success:\n",
    "    print(f\"Optimal solution: I = {res.x[0]:.2f}, II = {res.x[1]:.2f}\")\n",
    "    print(f\"Minimum Value = {res.fun:.2f}\")\n",
    "else:\n",
    "    print(\"No solution found:\", res.message)"
   ],
   "id": "cb87c9ae919c13b",
   "outputs": [
    {
     "name": "stdout",
     "output_type": "stream",
     "text": [
      "No solution found: The problem is infeasible. (HiGHS Status 8: model_status is Infeasible; primal_status is None)\n"
     ]
    }
   ],
   "execution_count": 11
  }
 ],
 "metadata": {
  "kernelspec": {
   "display_name": "Python 3",
   "language": "python",
   "name": "python3"
  },
  "language_info": {
   "codemirror_mode": {
    "name": "ipython",
    "version": 2
   },
   "file_extension": ".py",
   "mimetype": "text/x-python",
   "name": "python",
   "nbconvert_exporter": "python",
   "pygments_lexer": "ipython2",
   "version": "2.7.6"
  }
 },
 "nbformat": 4,
 "nbformat_minor": 5
}
