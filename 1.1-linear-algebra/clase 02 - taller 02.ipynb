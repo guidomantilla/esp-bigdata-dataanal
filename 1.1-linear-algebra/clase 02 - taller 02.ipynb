{
 "cells": [
  {
   "metadata": {},
   "cell_type": "markdown",
   "source": "### Taller Clase 02",
   "id": "96b3c91628c282fa"
  },
  {
   "metadata": {},
   "cell_type": "markdown",
   "source": [
    "### Problema 1\n",
    "![](resources/img18.png)"
   ],
   "id": "badd622e0da4122c"
  },
  {
   "metadata": {},
   "cell_type": "markdown",
   "source": [
    "Sean:\n",
    "\n",
    "    V: Reproductor DVD tipo Vista\n",
    "    X: Reproductor DVD tipo Xtreme\n",
    "\n",
    "Entonces:\n",
    "\n",
    "    Maximizar: Z = 50V + 40X\n",
    "    Restricciones:\n",
    "        1V + 2X <= 24\n",
    "        3V + 2X <= 24\n",
    "        V, X >= 0"
   ],
   "id": "903308abc22a890"
  },
  {
   "metadata": {
    "ExecuteTime": {
     "end_time": "2025-03-15T17:30:12.709252Z",
     "start_time": "2025-03-15T17:30:12.693288Z"
    }
   },
   "cell_type": "code",
   "source": [
    "from scipy.optimize import linprog\n",
    "\n",
    "bound = (0, None)  # x >= 0, y >= 0\n",
    "res = linprog(\n",
    "    [-50, -40],\n",
    "    A_ub=[[1, 2], [3, 2]],\n",
    "    b_ub=[24, 24],\n",
    "    bounds=[bound, bound],\n",
    "    method=\"highs\",\n",
    ")\n",
    "if res.success:\n",
    "    print(f\"Optimal solution: V = {res.x[0]:.2f}, X = {res.x[1]:.2f}\")\n",
    "    print(f\"Maximum Value = {-res.fun:.2f}\")\n",
    "else:\n",
    "    print(\"No solution found:\", res.message)"
   ],
   "id": "dd466ae03acfb140",
   "outputs": [
    {
     "name": "stdout",
     "output_type": "stream",
     "text": [
      "Optimal solution: V = 0.00, X = 12.00\n",
      "Maximum Value = 480.00\n"
     ]
    }
   ],
   "execution_count": 15
  },
  {
   "metadata": {},
   "cell_type": "markdown",
   "source": [
    "### Problema 2\n",
    "![](resources/img19.png)"
   ],
   "id": "f364382c1653473a"
  },
  {
   "metadata": {},
   "cell_type": "markdown",
   "source": [
    "Sean:\n",
    "\n",
    "    C: Unidades de Carbohidratos\n",
    "    P: Unidades de Proteinas\n",
    "\n",
    "Entonces:\n",
    "\n",
    "    Minimizar: Z = 16C + 20P\n",
    "    Restricciones:\n",
    "        2C + 4P = 1.20\n",
    "        2C + 1P = 0.80\n",
    "        C, P >= 0"
   ],
   "id": "920279a2f4244fa0"
  },
  {
   "metadata": {
    "ExecuteTime": {
     "end_time": "2025-03-15T17:30:12.719751Z",
     "start_time": "2025-03-15T17:30:12.714471Z"
    }
   },
   "cell_type": "code",
   "source": [
    "from scipy.optimize import linprog\n",
    "\n",
    "bound = (0, None)  # x >= 0, y >= 0\n",
    "res = linprog(\n",
    "    [16, 20],\n",
    "    A_eq=[[2, 4], [2, 1]],\n",
    "    b_eq=[1.20, 0.80],\n",
    "    bounds=[bound, bound],\n",
    "    method=\"highs\",\n",
    ")\n",
    "if res.success:\n",
    "    print(f\"Optimal solution: C = {res.x[0]:.2f}, P = {res.x[1]:.2f}\")\n",
    "    print(f\"Minimum Value = {res.fun:.2f}\")\n",
    "else:\n",
    "    print(\"No solution found:\", res.message)"
   ],
   "id": "b79ff2f50bf50a41",
   "outputs": [
    {
     "name": "stdout",
     "output_type": "stream",
     "text": [
      "Optimal solution: C = 0.33, P = 0.13\n",
      "Minimum Value = 8.00\n"
     ]
    }
   ],
   "execution_count": 16
  },
  {
   "metadata": {},
   "cell_type": "markdown",
   "source": [
    "### Problema 3\n",
    "![](resources/img20.png)"
   ],
   "id": "5e9b26fe3bbc5ecf"
  },
  {
   "metadata": {},
   "cell_type": "markdown",
   "source": [
    "Sean:\n",
    "\n",
    "    X: Litros Proceso Anterior\n",
    "    Y: Litros Proceso Nuevo\n",
    "\n",
    "Entonces:\n",
    "\n",
    "    Maximizar: Z = 0.4x + 0.15y\n",
    "    Restricciones:\n",
    "        25X + 15Y <= 12525\n",
    "        50X + 40Y <= 20000\n",
    "        X, Y >= 0"
   ],
   "id": "a3098d0b529fe931"
  },
  {
   "metadata": {
    "ExecuteTime": {
     "end_time": "2025-03-15T17:30:12.735185Z",
     "start_time": "2025-03-15T17:30:12.729278Z"
    }
   },
   "cell_type": "code",
   "source": [
    "from scipy.optimize import linprog\n",
    "\n",
    "bound = (0, None)  # x >= 0, y >= 0\n",
    "res = linprog(\n",
    "    [-0.4, -0.15],\n",
    "    A_ub=[[25, 15], [50, 40]],\n",
    "    b_ub=[12525, 20000],\n",
    "    bounds=[bound, bound],\n",
    "    method=\"highs\",\n",
    ")\n",
    "if res.success:\n",
    "    print(f\"Optimal solution: X = {res.x[0]:.2f}, Y = {res.x[1]:.2f}\")\n",
    "    print(f\"Maximum Value = {-res.fun:.2f}\")\n",
    "else:\n",
    "    print(\"No solution found:\", res.message)"
   ],
   "id": "3bc9a44ae652eb9b",
   "outputs": [
    {
     "name": "stdout",
     "output_type": "stream",
     "text": [
      "Optimal solution: X = 400.00, Y = 0.00\n",
      "Maximum Value = 160.00\n"
     ]
    }
   ],
   "execution_count": 17
  },
  {
   "metadata": {},
   "cell_type": "markdown",
   "source": [
    "### Problema 4\n",
    "![](resources/img21.png)"
   ],
   "id": "58cac1763176ee41"
  },
  {
   "metadata": {},
   "cell_type": "markdown",
   "source": [
    "Sean:\n",
    "\n",
    "    X: Numero de bolsas de mezcla 1\n",
    "    Y: Numero de bolsas de mezcla 2\n",
    "\n",
    "Entonces:\n",
    "\n",
    "    Minimizar: Z = 8X + 10Y\n",
    "\n",
    "    Restricciones:\n",
    "        2X +  2Y >=  80\n",
    "        6X +  2Y >= 120\n",
    "        4X + 12Y >= 240\n"
   ],
   "id": "1532e62b468008f3"
  },
  {
   "metadata": {
    "ExecuteTime": {
     "end_time": "2025-03-15T17:30:17.079453Z",
     "start_time": "2025-03-15T17:30:12.750162Z"
    }
   },
   "cell_type": "code",
   "source": [
    "from gekko import GEKKO\n",
    "\n",
    "model = GEKKO()\n",
    "x = model.Var(lb=0)\n",
    "y = model.Var(lb=0)\n",
    "model.Minimize(8 * x + 10 * y)\n",
    "model.Equation(2 * x + 2 * y >= 80)\n",
    "model.Equation(6 * x + 2 * y >= 120)\n",
    "model.Equation(4 * x + 12 * y >= 240)\n",
    "model.solve(disp=False)\n",
    "\n",
    "print(f\"Optimal solution: x = {x.value[0]:.2f}, y = {y.value[0]:.2f}\")\n",
    "print(f\"Minimum value = $ {model.options.objfcnval:.2f}\")"
   ],
   "id": "cb87c9ae919c13b",
   "outputs": [
    {
     "name": "stdout",
     "output_type": "stream",
     "text": [
      "Optimal solution: x = 30.00, y = 10.00\n",
      "Minimum value = $ 340.00\n"
     ]
    }
   ],
   "execution_count": 18
  },
  {
   "metadata": {},
   "cell_type": "markdown",
   "source": [
    "Nota: Tuve que usar gekko pues es mas sencillo de usar que scipy para este problema. Basicamente, con gekko el planteamiento del problema es mas directo respecto al problema real.\n",
    "\n",
    "Con scipy, el planteamiento es mas acorde a la forma de trabajar de la libreria."
   ],
   "id": "218cd1f687f0d1ee"
  },
  {
   "metadata": {},
   "cell_type": "markdown",
   "source": [
    "### Problema 5\n",
    "![](resources/img22.png)"
   ],
   "id": "9070bd498d7c7c51"
  },
  {
   "metadata": {},
   "cell_type": "markdown",
   "source": [
    "Sean:\n",
    "\n",
    "    C: Numero de camiones\n",
    "    P: Numero de perinolas\n",
    "\n",
    "Entonces:\n",
    "\n",
    "    Maximizar: Z = 7C + 2P\n",
    "\n",
    "    Restricciones:\n",
    "        2P +  P <= 80\n",
    "        3P +  P <= 50\n",
    "        5P +  P <= 70"
   ],
   "id": "2c8bb96be66d3297"
  },
  {
   "metadata": {
    "ExecuteTime": {
     "end_time": "2025-03-15T17:30:21.478867Z",
     "start_time": "2025-03-15T17:30:17.088862Z"
    }
   },
   "cell_type": "code",
   "source": [
    "from gekko import GEKKO\n",
    "\n",
    "model = GEKKO()\n",
    "x = model.Var(lb=0)\n",
    "y = model.Var(lb=0)\n",
    "model.Maximize(7 * x + 2 * y)\n",
    "model.Equation(2 * x + 1 * y <= 80)\n",
    "model.Equation(3 * x + 1 * y <= 50)\n",
    "model.Equation(5 * x + 1 * y <= 70)\n",
    "model.solve(disp=False)\n",
    "\n",
    "print(f\"Optimal solution: C = {x.value[0]:.2f}, P = {y.value[0]:.2f}\")\n",
    "print(f\"MaximumSi\" f\" value = $ {-model.options.objfcnval:.2f}\")"
   ],
   "id": "d08dbb4b38afffdd",
   "outputs": [
    {
     "name": "stdout",
     "output_type": "stream",
     "text": [
      "Optimal solution: C = 10.00, P = 20.00\n",
      "MaximumSi value = $ 110.00\n"
     ]
    }
   ],
   "execution_count": 19
  },
  {
   "metadata": {},
   "cell_type": "markdown",
   "source": [
    "### Problema 6\n",
    "![](resources/img23.png)"
   ],
   "id": "bc5846966eb8095"
  },
  {
   "metadata": {},
   "cell_type": "markdown",
   "source": [
    "Sean:\n",
    "\n",
    "    X: Numero de toneladas de mena 1\n",
    "    Y: Numero de toneladas de mena 2\n",
    "\n",
    "Entonces:\n",
    "\n",
    "    Minimizar: Z = 50X + 60Y\n",
    "\n",
    "    Restricciones:\n",
    "        100X + 200  >= 3000\n",
    "        200X +  50Y >= 2500"
   ],
   "id": "79094dfc5fa5fcd0"
  },
  {
   "metadata": {
    "ExecuteTime": {
     "end_time": "2025-03-15T17:30:25.805255Z",
     "start_time": "2025-03-15T17:30:21.493009Z"
    }
   },
   "cell_type": "code",
   "source": [
    "from gekko import GEKKO\n",
    "\n",
    "model = GEKKO()\n",
    "x = model.Var(lb=0)\n",
    "y = model.Var(lb=0)\n",
    "model.Minimize(50 * x + 60 * y)\n",
    "model.Equation(100 * x + 200 * y >= 3000)\n",
    "model.Equation(200 * x + 50 * y >= 2500)\n",
    "model.solve(disp=False)\n",
    "\n",
    "print(f\"Optimal solution: C = {x.value[0]:.2f}, P = {y.value[0]:.2f}\")\n",
    "print(f\"Minimum value = $ {model.options.objfcnval:.2f}\")"
   ],
   "id": "e974a450aa5f2287",
   "outputs": [
    {
     "name": "stdout",
     "output_type": "stream",
     "text": [
      "Optimal solution: C = 10.00, P = 10.00\n",
      "Minimum value = $ 1100.00\n"
     ]
    }
   ],
   "execution_count": 20
  },
  {
   "metadata": {},
   "cell_type": "markdown",
   "source": [
    "### Problema 7\n",
    "![](resources/img24.png)"
   ],
   "id": "309f0b04c6d5f60"
  },
  {
   "metadata": {},
   "cell_type": "markdown",
   "source": [
    "Sean:\n",
    "\n",
    "    X: Numero de camaras tipo A\n",
    "    Y: Numero de camaras tipo B\n",
    "\n",
    "Entonces:\n",
    "\n",
    "    Minimizar: Z = 600000X + 300000Y\n",
    "\n",
    "    Restricciones:\n",
    "        10X +  4Y >= 100\n",
    "        20X + 30Y >= 420"
   ],
   "id": "5fa4b1dd1964a8a1"
  },
  {
   "metadata": {
    "ExecuteTime": {
     "end_time": "2025-03-15T17:30:30.284652Z",
     "start_time": "2025-03-15T17:30:25.820230Z"
    }
   },
   "cell_type": "code",
   "source": [
    "from gekko import GEKKO\n",
    "\n",
    "model = GEKKO()\n",
    "x = model.Var(lb=0)\n",
    "y = model.Var(lb=0)\n",
    "model.Minimize(600000 * x + 300000 * y)\n",
    "model.Equation(10 * x + 4 * y >= 100)\n",
    "model.Equation(20 * x + 30 * y >= 420)\n",
    "model.solve(disp=False)\n",
    "\n",
    "print(f\"Optimal solution: C = {x.value[0]:.2f}, P = {y.value[0]:.2f}\")\n",
    "print(f\"Minimum value = $ {model.options.objfcnval:.2f}\")"
   ],
   "id": "2ee4c648313cb760",
   "outputs": [
    {
     "name": "stdout",
     "output_type": "stream",
     "text": [
      "Optimal solution: C = 6.00, P = 10.00\n",
      "Minimum value = $ 6600000.00\n"
     ]
    }
   ],
   "execution_count": 21
  }
 ],
 "metadata": {
  "kernelspec": {
   "display_name": "Python 3",
   "language": "python",
   "name": "python3"
  },
  "language_info": {
   "codemirror_mode": {
    "name": "ipython",
    "version": 2
   },
   "file_extension": ".py",
   "mimetype": "text/x-python",
   "name": "python",
   "nbconvert_exporter": "python",
   "pygments_lexer": "ipython2",
   "version": "2.7.6"
  }
 },
 "nbformat": 4,
 "nbformat_minor": 5
}
