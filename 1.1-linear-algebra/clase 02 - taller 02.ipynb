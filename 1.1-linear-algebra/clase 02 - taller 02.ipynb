{
 "cells": [
  {
   "metadata": {
    "ExecuteTime": {
     "end_time": "2025-03-10T11:36:16.094010Z",
     "start_time": "2025-03-10T11:36:16.090067Z"
    }
   },
   "cell_type": "code",
   "source": "",
   "id": "ed8e6076ad105e7c",
   "outputs": [],
   "execution_count": null
  },
  {
   "metadata": {},
   "cell_type": "markdown",
   "source": "### Taller Clase 02",
   "id": "96b3c91628c282fa"
  },
  {
   "metadata": {},
   "cell_type": "markdown",
   "source": [
    "### Actividad 1\n",
    "Describa que tipo de rectas se encuentran en cada ítem y justifique su respuesta:"
   ],
   "id": "badd622e0da4122c"
  }
 ],
 "metadata": {
  "kernelspec": {
   "display_name": "Python 3",
   "language": "python",
   "name": "python3"
  },
  "language_info": {
   "codemirror_mode": {
    "name": "ipython",
    "version": 2
   },
   "file_extension": ".py",
   "mimetype": "text/x-python",
   "name": "python",
   "nbconvert_exporter": "python",
   "pygments_lexer": "ipython2",
   "version": "2.7.6"
  }
 },
 "nbformat": 4,
 "nbformat_minor": 5
}
