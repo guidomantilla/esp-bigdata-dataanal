{
 "cells": [
  {
   "cell_type": "markdown",
   "id": "24e9fc327a9b71d0",
   "metadata": {},
   "source": [
    "# Programacion Lineal"
   ]
  },
  {
   "cell_type": "markdown",
   "id": "59ec466f5d08ebb",
   "metadata": {},
   "source": [
    "## Desigualdades (1 - 8)\n",
    "![](resources/img08.png)"
   ]
  },
  {
   "cell_type": "markdown",
   "id": "c15e7c09a82c8133",
   "metadata": {},
   "source": [
    "### 1.\n",
    "Resuelva la siguiente desigualdad: 2x + 3y > 6"
   ]
  },
  {
   "cell_type": "code",
   "execution_count": null,
   "id": "cdcfa8515f1d58a3",
   "metadata": {},
   "outputs": [],
   "source": [
    "import sympy as sp\n",
    "from pkg.functions import (\n",
    "    calculate_solution_equation,\n",
    "    print_solution_equation,\n",
    "    plot_solution_equation,\n",
    ")\n",
    "\n",
    "x, y = sp.symbols(\"x y\", real=True)\n",
    "equation = sp.Rel(2 * x + 3 * y, 6, \">\")\n",
    "sol_x, sol_y = calculate_solution_equation(x, y, equation)\n",
    "print_solution_equation(x, y, equation, sol_x, sol_y)\n",
    "plot = plot_solution_equation(x, y, equation)\n",
    "plot.show()"
   ]
  },
  {
   "cell_type": "markdown",
   "id": "bd310829ae75e6f9",
   "metadata": {},
   "source": [
    "### 2.\n",
    "Resuelva la siguiente desigualdad: 3x - 2y >= 12"
   ]
  },
  {
   "cell_type": "code",
   "execution_count": null,
   "id": "94149b41e13f0fad",
   "metadata": {},
   "outputs": [],
   "source": [
    "import sympy as sp\n",
    "from pkg.functions import (\n",
    "    calculate_solution_equation,\n",
    "    print_solution_equation,\n",
    "    plot_solution_equation,\n",
    ")\n",
    "\n",
    "x, y = sp.symbols(\"x y\", real=True)\n",
    "equation = sp.Rel(3 * x - 2 * y, 12, \">=\")\n",
    "sol_x, sol_y = calculate_solution_equation(x, y, equation)\n",
    "print_solution_equation(x, y, equation, sol_x, sol_y)\n",
    "plot = plot_solution_equation(x, y, equation)\n",
    "plot.show()"
   ]
  },
  {
   "cell_type": "markdown",
   "id": "94bec7fdee87daeb",
   "metadata": {},
   "source": [
    "### 3.\n",
    "Resuelva la siguiente desigualdad: x + 2y <= 7"
   ]
  },
  {
   "cell_type": "code",
   "execution_count": null,
   "id": "a7c072e6deaf7115",
   "metadata": {},
   "outputs": [],
   "source": [
    "import sympy as sp\n",
    "from pkg.functions import (\n",
    "    calculate_solution_equation,\n",
    "    print_solution_equation,\n",
    "    plot_solution_equation,\n",
    ")\n",
    "\n",
    "x, y = sp.symbols(\"x y\", real=True)\n",
    "equation = sp.Rel(x + 2 * y, 7, \"<=\")\n",
    "sol_x, sol_y = calculate_solution_equation(x, y, equation)\n",
    "print_solution_equation(x, y, equation, sol_x, sol_y)\n",
    "plot = plot_solution_equation(x, y, equation)\n",
    "plot.show()"
   ]
  },
  {
   "cell_type": "markdown",
   "id": "caa3613b0e759bbf",
   "metadata": {},
   "source": [
    "### 4.\n",
    "Resuelva la siguiente desigualdad: y > 6 -2x"
   ]
  },
  {
   "cell_type": "code",
   "execution_count": null,
   "id": "9510038e04ef60ee",
   "metadata": {},
   "outputs": [],
   "source": [
    "import sympy as sp\n",
    "from pkg.functions import (\n",
    "    calculate_solution_equation,\n",
    "    print_solution_equation,\n",
    "    plot_solution_equation,\n",
    ")\n",
    "\n",
    "x, y = sp.symbols(\"x y\", real=True)\n",
    "equation = sp.Rel(y, 6 - 2 * x, \">\")\n",
    "sol_x, sol_y = calculate_solution_equation(x, y, equation)\n",
    "print_solution_equation(x, y, equation, sol_x, sol_y)\n",
    "plot = plot_solution_equation(x, y, equation)\n",
    "plot.show()"
   ]
  },
  {
   "cell_type": "markdown",
   "id": "d1fd4fd671a27dd5",
   "metadata": {},
   "source": [
    "### 5.\n",
    "Resuelva la siguiente desigualdad: -x <= 2y -4"
   ]
  },
  {
   "cell_type": "code",
   "execution_count": null,
   "id": "971630f12ffaabe3",
   "metadata": {},
   "outputs": [],
   "source": [
    "import sympy as sp\n",
    "from pkg.functions import (\n",
    "    calculate_solution_equation,\n",
    "    print_solution_equation,\n",
    "    plot_solution_equation,\n",
    ")\n",
    "\n",
    "x, y = sp.symbols(\"x y\", real=True)\n",
    "equation = sp.Rel(-x, 2 * y - 4, \"<=\")\n",
    "sol_x, sol_y = calculate_solution_equation(x, y, equation)\n",
    "print_solution_equation(x, y, equation, sol_x, sol_y)\n",
    "plot = plot_solution_equation(x, y, equation)\n",
    "plot.show()"
   ]
  },
  {
   "cell_type": "markdown",
   "id": "c3f06c3c0dd17b49",
   "metadata": {},
   "source": [
    "### 6.\n",
    "Resuelva la siguiente desigualdad: 2x + y >= 10"
   ]
  },
  {
   "cell_type": "code",
   "execution_count": null,
   "id": "bc3367e42189e3ac",
   "metadata": {},
   "outputs": [],
   "source": [
    "import sympy as sp\n",
    "from pkg.functions import (\n",
    "    calculate_solution_equation,\n",
    "    print_solution_equation,\n",
    "    plot_solution_equation,\n",
    ")\n",
    "\n",
    "x, y = sp.symbols(\"x y\", real=True)\n",
    "equation = sp.Rel(2 * x + y, 10, \">=\")\n",
    "sol_x, sol_y = calculate_solution_equation(x, y, equation)\n",
    "print_solution_equation(x, y, equation, sol_x, sol_y)\n",
    "plot = plot_solution_equation(x, y, equation)\n",
    "plot.show()"
   ]
  },
  {
   "cell_type": "markdown",
   "id": "3565272e9eeaf19d",
   "metadata": {},
   "source": [
    "### 7.\n",
    "Resuelva la siguiente desigualdad: 3x + y < 0"
   ]
  },
  {
   "cell_type": "code",
   "execution_count": null,
   "id": "ebc793d3dc216fc4",
   "metadata": {},
   "outputs": [],
   "source": [
    "import sympy as sp\n",
    "from pkg.functions import (\n",
    "    calculate_solution_equation,\n",
    "    print_solution_equation,\n",
    "    plot_solution_equation,\n",
    ")\n",
    "\n",
    "x, y = sp.symbols(\"x y\", real=True)\n",
    "equation = sp.Rel(3 * x + y, 0, \"<\")\n",
    "sol_x, sol_y = calculate_solution_equation(x, y, equation)\n",
    "print_solution_equation(x, y, equation, sol_x, sol_y)\n",
    "plot = plot_solution_equation(x, y, equation)\n",
    "plot.show()"
   ]
  },
  {
   "cell_type": "markdown",
   "id": "dea6fbeb5af12494",
   "metadata": {},
   "source": [
    "### 8.\n",
    "Resuelva la siguiente desigualdad: x + 5y < -5"
   ]
  },
  {
   "cell_type": "code",
   "execution_count": null,
   "id": "6702b8b0c24e2f45",
   "metadata": {},
   "outputs": [],
   "source": [
    "import sympy as sp\n",
    "from pkg.functions import (\n",
    "    calculate_solution_equation,\n",
    "    print_solution_equation,\n",
    "    plot_solution_equation,\n",
    ")\n",
    "\n",
    "x, y = sp.symbols(\"x y\", real=True)\n",
    "equation = sp.Rel(x + 5 * y, -5, \"<\")\n",
    "sol_x, sol_y = calculate_solution_equation(x, y, equation)\n",
    "print_solution_equation(x, y, equation, sol_x, sol_y)\n",
    "plot = plot_solution_equation(x, y, equation)\n",
    "plot.show()"
   ]
  },
  {
   "cell_type": "markdown",
   "id": "f2663fd7068fd2dd",
   "metadata": {},
   "source": [
    "## Desigualdades (9 - 13) - continuacion\n",
    "![](resources/img08.png)"
   ]
  },
  {
   "cell_type": "markdown",
   "id": "5b34881d077dbc2a",
   "metadata": {},
   "source": [
    "### 9:\n",
    "Resuelva las siguientes desigualdades:\n",
    "\n",
    "    3x - 2y < 6\n",
    "     x - 3y > 9\n"
   ]
  },
  {
   "cell_type": "code",
   "execution_count": null,
   "id": "e03db65a47369ffe",
   "metadata": {},
   "outputs": [],
   "source": [
    "import sympy as sp\n",
    "from pkg.functions import (\n",
    "    calculate_solution_equation,\n",
    "    print_solution_equation,\n",
    "    plot_solution_equations,\n",
    ")\n",
    "\n",
    "x, y = sp.symbols(\"x y\", real=True)\n",
    "equation1 = sp.Rel(3 * x - 2 * y, 6, \"<\")\n",
    "equation2 = sp.Rel(x - 3 * y, 9, \">\")\n",
    "equations = [equation1, equation2]\n",
    "for equation in equations:\n",
    "    sol_x, sol_y = calculate_solution_equation(x, y, equation)\n",
    "    print_solution_equation(x, y, equation, sol_x, sol_y)\n",
    "\n",
    "plot = plot_solution_equations(x, y, equations)\n",
    "plot.show()"
   ]
  },
  {
   "cell_type": "markdown",
   "id": "34a6ef40ab3993e4",
   "metadata": {},
   "source": [
    "### 10:\n",
    "Resuelva las siguientes desigualdades:\n",
    "\n",
    "    2x + 3y > -6\n",
    "    3x -  y < 6\n"
   ]
  },
  {
   "cell_type": "code",
   "execution_count": null,
   "id": "22d90b3970c39bec",
   "metadata": {},
   "outputs": [],
   "source": [
    "import sympy as sp\n",
    "from pkg.functions import (\n",
    "    calculate_solution_equation,\n",
    "    print_solution_equation,\n",
    "    plot_solution_equations,\n",
    ")\n",
    "\n",
    "x, y = sp.symbols(\"x y\", real=True)\n",
    "equation1 = sp.Rel(2 * x + 3 * y, -6, \">\")\n",
    "equation2 = sp.Rel(3 * x - y, 6, \"<\")\n",
    "equations = [equation1, equation2]\n",
    "for equation in equations:\n",
    "    sol_x, sol_y = calculate_solution_equation(x, y, equation)\n",
    "    print_solution_equation(x, y, equation, sol_x, sol_y)\n",
    "\n",
    "plot = plot_solution_equations(x, y, equations)\n",
    "plot.show()"
   ]
  },
  {
   "cell_type": "markdown",
   "id": "552c4e79d91e9962",
   "metadata": {},
   "source": [
    "### 11:\n",
    "Resuelva las siguientes desigualdades:\n",
    "\n",
    "    2x + 3y <= 6\n",
    "     x - 0y >= 0"
   ]
  },
  {
   "cell_type": "code",
   "execution_count": null,
   "id": "fa145706bdc0bbd6",
   "metadata": {},
   "outputs": [],
   "source": [
    "import sympy as sp\n",
    "from pkg.functions import (\n",
    "    calculate_solution_equation,\n",
    "    print_solution_equation,\n",
    "    plot_solution_equations,\n",
    ")\n",
    "\n",
    "x, y = sp.symbols(\"x y\", real=True)\n",
    "equation1 = sp.Rel(2 * x + 3 * y, 6, \"<=\")\n",
    "equation2 = sp.Rel(x - 0 * y, 0, \">=\")\n",
    "equations = [equation1, equation2]\n",
    "for equation in equations:\n",
    "    sol_x, sol_y = calculate_solution_equation(x, y, equation)\n",
    "    print_solution_equation(x, y, equation, sol_x, sol_y)\n",
    "\n",
    "plot = plot_solution_equations(x, y, equations)\n",
    "plot.show()"
   ]
  },
  {
   "cell_type": "markdown",
   "id": "e6431c8f5ba3ad11",
   "metadata": {},
   "source": []
  },
  {
   "cell_type": "markdown",
   "id": "13155d9512a41ecd",
   "metadata": {},
   "source": [
    "### 12:\n",
    "Resuelva las siguientes desigualdades:\n",
    "\n",
    "    -3x + 2y < 6\n",
    "      x - 0y < 0"
   ]
  },
  {
   "cell_type": "code",
   "execution_count": null,
   "id": "79e33fcb0a8436c2",
   "metadata": {},
   "outputs": [],
   "source": [
    "import sympy as sp\n",
    "from pkg.functions import (\n",
    "    calculate_solution_equation,\n",
    "    print_solution_equation,\n",
    "    plot_solution_equations,\n",
    ")\n",
    "\n",
    "x, y = sp.symbols(\"x y\", real=True)\n",
    "equation1 = sp.Rel(-3 * x + 2 * y, 6, \"<\")\n",
    "equation2 = sp.Rel(x - 0 * y, 0, \"<\")\n",
    "equations = [equation1, equation2]\n",
    "for equation in equations:\n",
    "    sol_x, sol_y = calculate_solution_equation(x, y, equation)\n",
    "    print_solution_equation(x, y, equation, sol_x, sol_y)\n",
    "\n",
    "plot = plot_solution_equations(x, y, equations)\n",
    "plot.show()"
   ]
  },
  {
   "cell_type": "markdown",
   "id": "136d5a9e90a7d6a3",
   "metadata": {},
   "source": [
    "### 13:\n",
    "Resuelva las siguientes desigualdades:\n",
    "\n",
    "    -3x + y <  6\n",
    "      x - y > -3"
   ]
  },
  {
   "cell_type": "code",
   "execution_count": null,
   "id": "77d0b3d1436e4c4a",
   "metadata": {},
   "outputs": [],
   "source": [
    "import sympy as sp\n",
    "from pkg.functions import (\n",
    "    calculate_solution_equation,\n",
    "    print_solution_equation,\n",
    "    plot_solution_equations,\n",
    ")\n",
    "\n",
    "x, y = sp.symbols(\"x y\", real=True)\n",
    "equation1 = sp.Rel(-3 * x + y, 6, \"<\")\n",
    "equation2 = sp.Rel(x - y, -3, \">\")\n",
    "equations = [equation1, equation2]\n",
    "for equation in equations:\n",
    "    sol_x, sol_y = calculate_solution_equation(x, y, equation)\n",
    "    print_solution_equation(x, y, equation, sol_x, sol_y)\n",
    "\n",
    "plot = plot_solution_equations(x, y, equations)\n",
    "plot.show()"
   ]
  },
  {
   "cell_type": "markdown",
   "id": "f3e0a91fc991b9d9",
   "metadata": {},
   "source": [
    "## Desigualdades (14 - 18) - continuacion\n",
    "![](resources/img08.png)"
   ]
  },
  {
   "cell_type": "markdown",
   "id": "54d299610f158081",
   "metadata": {},
   "source": [
    "### 14:\n",
    "Resuelva las siguientes desigualdades:\n",
    "\n",
    "     x - y < 1\n",
    "    -x + y < 1\n"
   ]
  },
  {
   "cell_type": "code",
   "execution_count": null,
   "id": "bc7878f9241acb40",
   "metadata": {},
   "outputs": [],
   "source": [
    "import sympy as sp\n",
    "from pkg.functions import (\n",
    "    calculate_solution_equation,\n",
    "    print_solution_equation,\n",
    "    plot_solution_equations,\n",
    ")\n",
    "\n",
    "x, y = sp.symbols(\"x y\", real=True)\n",
    "equation1 = sp.Rel(x - y, 1, \"<\")\n",
    "equation2 = sp.Rel(-x + y, 1, \"<\")\n",
    "equations = [equation1, equation2]\n",
    "for equation in equations:\n",
    "    sol_x, sol_y = calculate_solution_equation(x, y, equation)\n",
    "    print_solution_equation(x, y, equation, sol_x, sol_y)\n",
    "\n",
    "plot = plot_solution_equations(x, y, equations)\n",
    "plot.show()"
   ]
  },
  {
   "cell_type": "markdown",
   "id": "15fb1588efdfde4e",
   "metadata": {},
   "source": [
    "### 15:\n",
    "Resuelva las siguientes desigualdades:\n",
    "\n",
    "     2x + 2 >= y\n",
    "     2x <= 3 -2y"
   ]
  },
  {
   "cell_type": "code",
   "execution_count": null,
   "id": "d206770dad40b4ae",
   "metadata": {},
   "outputs": [],
   "source": [
    "import sympy as sp\n",
    "from pkg.functions import (\n",
    "    calculate_solution_equation,\n",
    "    print_solution_equation,\n",
    "    plot_solution_equations,\n",
    ")\n",
    "\n",
    "x, y = sp.symbols(\"x y\", real=True)\n",
    "equation1 = sp.Rel(2 * x + 2, y, \">=\")\n",
    "equation2 = sp.Rel(2 * x, 3 - 2 * y, \"<=\")\n",
    "equations = [equation1, equation2]\n",
    "for equation in equations:\n",
    "    sol_x, sol_y = calculate_solution_equation(x, y, equation)\n",
    "    print_solution_equation(x, y, equation, sol_x, sol_y)\n",
    "\n",
    "plot = plot_solution_equations(x, y, equations)\n",
    "plot.show()"
   ]
  },
  {
   "cell_type": "markdown",
   "id": "44fb37ba2121f5f8",
   "metadata": {},
   "source": [
    "### 16:\n",
    "Resuelva las siguientes desigualdades:\n",
    "\n",
    "     2y < 4x + 2\n",
    "      y < 2x + 1"
   ]
  },
  {
   "cell_type": "code",
   "execution_count": null,
   "id": "d8495442b7251c8e",
   "metadata": {},
   "outputs": [],
   "source": [
    "import sympy as sp\n",
    "from pkg.functions import (\n",
    "    calculate_solution_equation,\n",
    "    print_solution_equation,\n",
    "    plot_solution_equations,\n",
    ")\n",
    "\n",
    "x, y = sp.symbols(\"x y\", real=True)\n",
    "equation1 = sp.Rel(2 * y, 4 * x + 2, \"<\")\n",
    "equation2 = sp.Rel(y, 2 * x + 1, \"<\")\n",
    "equations = [equation1, equation2]\n",
    "for equation in equations:\n",
    "    sol_x, sol_y = calculate_solution_equation(x, y, equation)\n",
    "    print_solution_equation(x, y, equation, sol_x, sol_y)\n",
    "\n",
    "plot = plot_solution_equations(x, y, equations)\n",
    "plot.show()"
   ]
  },
  {
   "cell_type": "markdown",
   "id": "eb7da393a40728ab",
   "metadata": {},
   "source": [
    "### 17:\n",
    "Resuelva las siguientes desigualdades:\n",
    "\n",
    "     x - y > 4\n",
    "     x < 2\n",
    "     y >-5"
   ]
  },
  {
   "cell_type": "code",
   "execution_count": null,
   "id": "92a53b9b7f18e2a0",
   "metadata": {},
   "outputs": [],
   "source": [
    "import sympy as sp\n",
    "from pkg.functions import (\n",
    "    calculate_solution_equation,\n",
    "    print_solution_equation,\n",
    "    plot_solution_equations,\n",
    ")\n",
    "\n",
    "x, y = sp.symbols(\"x y\", real=True)\n",
    "equation1 = sp.Rel(x - y, 4, \">\")\n",
    "equation2 = sp.Rel(x, 2, \"<\")\n",
    "equation3 = sp.Rel(y, -5, \">\")\n",
    "equations = [equation1, equation2, equation3]\n",
    "for equation in equations:\n",
    "    sol_x, sol_y = calculate_solution_equation(x, y, equation)\n",
    "    print_solution_equation(x, y, equation, sol_x, sol_y)\n",
    "\n",
    "plot = plot_solution_equations(x, y, equations)\n",
    "plot.show()"
   ]
  },
  {
   "cell_type": "markdown",
   "id": "6c19ec96ff4795b9",
   "metadata": {},
   "source": [
    "### 18:\n",
    "Resuelva las siguientes desigualdades:\n",
    "\n",
    "     2x + y < -1\n",
    "     y > -x\n",
    "     2x + 6 < 0"
   ]
  },
  {
   "cell_type": "code",
   "id": "694de3c384177aa9",
   "metadata": {
    "ExecuteTime": {
     "end_time": "2025-03-09T23:56:58.744629Z",
     "start_time": "2025-03-09T23:56:58.442257Z"
    }
   },
   "source": [
    "import sympy as sp\n",
    "from pkg.functions import (\n",
    "    calculate_solution_equation,\n",
    "    print_solution_equation,\n",
    "    plot_solution_equation,\n",
    "    plot_solution_equations,\n",
    ")\n",
    "\n",
    "x, y = sp.symbols(\"x y\", real=True)\n",
    "equation1 = sp.Rel(2 * x + y, -1, \"<\")\n",
    "equation2 = sp.Rel(y, -x, \">\")\n",
    "equation3 = sp.Rel(2 * x + 6, 0, \"<\")\n",
    "equations = [equation1, equation2, equation3]\n",
    "for equation in equations:\n",
    "    sol_x, sol_y = calculate_solution_equation(x, y, equation)\n",
    "    print_solution_equation(x, y, equation, sol_x, sol_y)\n",
    "    plot_solution_equation(x, y, equation)\n",
    "\n",
    "plot = plot_solution_equations(x, y, equations)\n",
    "plot.show()"
   ],
   "outputs": [
    {
     "data": {
      "text/plain": [
       "<IPython.core.display.Latex object>"
      ],
      "text/latex": "Solución de la desigualdad: 2*x + y < -1"
     },
     "metadata": {},
     "output_type": "display_data"
    },
    {
     "data": {
      "text/plain": [
       "<IPython.core.display.Latex object>"
      ],
      "text/latex": "$$x = \\left(-\\infty, - \\frac{y}{2} - \\frac{1}{2}\\right)$$"
     },
     "metadata": {},
     "output_type": "display_data"
    },
    {
     "data": {
      "text/plain": [
       "<IPython.core.display.Latex object>"
      ],
      "text/latex": "$$y = \\left(-\\infty, - 2 x - 1\\right)$$"
     },
     "metadata": {},
     "output_type": "display_data"
    },
    {
     "data": {
      "text/plain": [
       "<IPython.core.display.Latex object>"
      ],
      "text/latex": "Solución de la desigualdad: y > -x"
     },
     "metadata": {},
     "output_type": "display_data"
    },
    {
     "data": {
      "text/plain": [
       "<IPython.core.display.Latex object>"
      ],
      "text/latex": "$$x = \\left(- y, \\infty\\right)$$"
     },
     "metadata": {},
     "output_type": "display_data"
    },
    {
     "data": {
      "text/plain": [
       "<IPython.core.display.Latex object>"
      ],
      "text/latex": "$$y = \\left(- x, \\infty\\right)$$"
     },
     "metadata": {},
     "output_type": "display_data"
    },
    {
     "data": {
      "text/plain": [
       "<IPython.core.display.Latex object>"
      ],
      "text/latex": "Solución de la desigualdad: 2*x + 6 < 0"
     },
     "metadata": {},
     "output_type": "display_data"
    },
    {
     "data": {
      "text/plain": [
       "<IPython.core.display.Latex object>"
      ],
      "text/latex": "$$x = \\left(-\\infty, -3\\right)$$"
     },
     "metadata": {},
     "output_type": "display_data"
    },
    {
     "data": {
      "text/plain": [
       "<IPython.core.display.Latex object>"
      ],
      "text/latex": "$$y = \\emptyset$$"
     },
     "metadata": {},
     "output_type": "display_data"
    },
    {
     "data": {
      "text/plain": [
       "<Figure size 640x480 with 1 Axes>"
      ],
      "image/png": "[encoded data removed]"
     },
     "metadata": {},
     "output_type": "display_data"
    }
   ],
   "execution_count": 3
  }
 ],
 "metadata": {
  "kernelspec": {
   "display_name": "Python 3 (ipykernel)",
   "language": "python",
   "name": "python3"
  },
  "language_info": {
   "codemirror_mode": {
    "name": "ipython",
    "version": 3
   },
   "file_extension": ".py",
   "mimetype": "text/x-python",
   "name": "python",
   "nbconvert_exporter": "python",
   "pygments_lexer": "ipython3",
   "version": "3.12.2"
  }
 },
 "nbformat": 4,
 "nbformat_minor": 5
}
